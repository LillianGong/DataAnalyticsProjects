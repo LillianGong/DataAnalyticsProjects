{
 "cells": [
  {
   "cell_type": "markdown",
   "metadata": {},
   "source": [
    "# SQLlite Queries From the Dataset of  a Digital Music Store"
   ]
  },
  {
   "cell_type": "markdown",
   "metadata": {},
   "source": [
    "![title](dataschema.png)"
   ]
  },
  {
   "cell_type": "markdown",
   "metadata": {},
   "source": [
    "### 1. Connect Dataset"
   ]
  },
  {
   "cell_type": "code",
   "execution_count": 1,
   "metadata": {},
   "outputs": [],
   "source": [
    "%%capture\n",
    "%load_ext sql\n",
    "%sql sqlite:///chinook.db"
   ]
  },
  {
   "cell_type": "markdown",
   "metadata": {},
   "source": [
    "- Return information on the tables and views in the database."
   ]
  },
  {
   "cell_type": "code",
   "execution_count": 2,
   "metadata": {},
   "outputs": [
    {
     "name": "stdout",
     "output_type": "stream",
     "text": [
      " * sqlite:///chinook.db\n",
      "Done.\n"
     ]
    },
    {
     "data": {
      "text/html": [
       "<table>\n",
       "    <thead>\n",
       "        <tr>\n",
       "            <th>name</th>\n",
       "            <th>type</th>\n",
       "        </tr>\n",
       "    </thead>\n",
       "    <tbody>\n",
       "        <tr>\n",
       "            <td>album</td>\n",
       "            <td>table</td>\n",
       "        </tr>\n",
       "        <tr>\n",
       "            <td>artist</td>\n",
       "            <td>table</td>\n",
       "        </tr>\n",
       "        <tr>\n",
       "            <td>customer</td>\n",
       "            <td>table</td>\n",
       "        </tr>\n",
       "        <tr>\n",
       "            <td>employee</td>\n",
       "            <td>table</td>\n",
       "        </tr>\n",
       "        <tr>\n",
       "            <td>genre</td>\n",
       "            <td>table</td>\n",
       "        </tr>\n",
       "        <tr>\n",
       "            <td>invoice</td>\n",
       "            <td>table</td>\n",
       "        </tr>\n",
       "        <tr>\n",
       "            <td>invoice_line</td>\n",
       "            <td>table</td>\n",
       "        </tr>\n",
       "        <tr>\n",
       "            <td>media_type</td>\n",
       "            <td>table</td>\n",
       "        </tr>\n",
       "        <tr>\n",
       "            <td>playlist</td>\n",
       "            <td>table</td>\n",
       "        </tr>\n",
       "        <tr>\n",
       "            <td>playlist_track</td>\n",
       "            <td>table</td>\n",
       "        </tr>\n",
       "        <tr>\n",
       "            <td>track</td>\n",
       "            <td>table</td>\n",
       "        </tr>\n",
       "    </tbody>\n",
       "</table>"
      ],
      "text/plain": [
       "[('album', 'table'),\n",
       " ('artist', 'table'),\n",
       " ('customer', 'table'),\n",
       " ('employee', 'table'),\n",
       " ('genre', 'table'),\n",
       " ('invoice', 'table'),\n",
       " ('invoice_line', 'table'),\n",
       " ('media_type', 'table'),\n",
       " ('playlist', 'table'),\n",
       " ('playlist_track', 'table'),\n",
       " ('track', 'table')]"
      ]
     },
     "execution_count": 2,
     "metadata": {},
     "output_type": "execute_result"
    }
   ],
   "source": [
    "%%sql\n",
    "SELECT\n",
    "    name,\n",
    "    type\n",
    "FROM sqlite_master\n",
    "WHERE type IN (\"table\",\"view\");"
   ]
  },
  {
   "cell_type": "code",
   "execution_count": 3,
   "metadata": {},
   "outputs": [
    {
     "name": "stdout",
     "output_type": "stream",
     "text": [
      " * sqlite:///chinook.db\n",
      "Done.\n"
     ]
    },
    {
     "data": {
      "text/html": [
       "<table>\n",
       "    <thead>\n",
       "        <tr>\n",
       "            <th>invoice_line_id</th>\n",
       "            <th>invoice_id</th>\n",
       "            <th>track_id</th>\n",
       "            <th>unit_price</th>\n",
       "            <th>quantity</th>\n",
       "        </tr>\n",
       "    </thead>\n",
       "    <tbody>\n",
       "        <tr>\n",
       "            <td>1</td>\n",
       "            <td>1</td>\n",
       "            <td>1158</td>\n",
       "            <td>0.99</td>\n",
       "            <td>1</td>\n",
       "        </tr>\n",
       "        <tr>\n",
       "            <td>2</td>\n",
       "            <td>1</td>\n",
       "            <td>1159</td>\n",
       "            <td>0.99</td>\n",
       "            <td>1</td>\n",
       "        </tr>\n",
       "        <tr>\n",
       "            <td>3</td>\n",
       "            <td>1</td>\n",
       "            <td>1160</td>\n",
       "            <td>0.99</td>\n",
       "            <td>1</td>\n",
       "        </tr>\n",
       "        <tr>\n",
       "            <td>4</td>\n",
       "            <td>1</td>\n",
       "            <td>1161</td>\n",
       "            <td>0.99</td>\n",
       "            <td>1</td>\n",
       "        </tr>\n",
       "        <tr>\n",
       "            <td>5</td>\n",
       "            <td>1</td>\n",
       "            <td>1162</td>\n",
       "            <td>0.99</td>\n",
       "            <td>1</td>\n",
       "        </tr>\n",
       "        <tr>\n",
       "            <td>6</td>\n",
       "            <td>1</td>\n",
       "            <td>1163</td>\n",
       "            <td>0.99</td>\n",
       "            <td>1</td>\n",
       "        </tr>\n",
       "        <tr>\n",
       "            <td>7</td>\n",
       "            <td>1</td>\n",
       "            <td>1164</td>\n",
       "            <td>0.99</td>\n",
       "            <td>1</td>\n",
       "        </tr>\n",
       "        <tr>\n",
       "            <td>8</td>\n",
       "            <td>1</td>\n",
       "            <td>1165</td>\n",
       "            <td>0.99</td>\n",
       "            <td>1</td>\n",
       "        </tr>\n",
       "        <tr>\n",
       "            <td>9</td>\n",
       "            <td>1</td>\n",
       "            <td>1166</td>\n",
       "            <td>0.99</td>\n",
       "            <td>1</td>\n",
       "        </tr>\n",
       "        <tr>\n",
       "            <td>10</td>\n",
       "            <td>1</td>\n",
       "            <td>1167</td>\n",
       "            <td>0.99</td>\n",
       "            <td>1</td>\n",
       "        </tr>\n",
       "    </tbody>\n",
       "</table>"
      ],
      "text/plain": [
       "[(1, 1, 1158, 0.99, 1),\n",
       " (2, 1, 1159, 0.99, 1),\n",
       " (3, 1, 1160, 0.99, 1),\n",
       " (4, 1, 1161, 0.99, 1),\n",
       " (5, 1, 1162, 0.99, 1),\n",
       " (6, 1, 1163, 0.99, 1),\n",
       " (7, 1, 1164, 0.99, 1),\n",
       " (8, 1, 1165, 0.99, 1),\n",
       " (9, 1, 1166, 0.99, 1),\n",
       " (10, 1, 1167, 0.99, 1)]"
      ]
     },
     "execution_count": 3,
     "metadata": {},
     "output_type": "execute_result"
    }
   ],
   "source": [
    "%%sql\n",
    "SELECT *\n",
    "FROM invoice_line\n",
    "LIMIT 10;"
   ]
  },
  {
   "cell_type": "markdown",
   "metadata": {},
   "source": [
    "### 2. New Albums Purchase Recommendation\n",
    "\n",
    "Makes a recommendation for the three artists whose albums we should purchase for the store, based on sales of tracks from their genres in USA.\n"
   ]
  },
  {
   "cell_type": "markdown",
   "metadata": {},
   "source": [
    "- Returns each genre, with the number of tracks sold in USA: in absolute numbers, in percentages:"
   ]
  },
  {
   "cell_type": "code",
   "execution_count": 4,
   "metadata": {},
   "outputs": [
    {
     "name": "stdout",
     "output_type": "stream",
     "text": [
      " * sqlite:///chinook.db\n",
      "Done.\n"
     ]
    },
    {
     "data": {
      "text/html": [
       "<table>\n",
       "    <thead>\n",
       "        <tr>\n",
       "            <th>genre_name</th>\n",
       "            <th>genre_quantity</th>\n",
       "            <th>genre_percent</th>\n",
       "        </tr>\n",
       "    </thead>\n",
       "    <tbody>\n",
       "        <tr>\n",
       "            <td>Rock</td>\n",
       "            <td>561</td>\n",
       "            <td>0.5337773549000951</td>\n",
       "        </tr>\n",
       "        <tr>\n",
       "            <td>Alternative &amp; Punk</td>\n",
       "            <td>130</td>\n",
       "            <td>0.12369172216936251</td>\n",
       "        </tr>\n",
       "        <tr>\n",
       "            <td>Metal</td>\n",
       "            <td>124</td>\n",
       "            <td>0.11798287345385347</td>\n",
       "        </tr>\n",
       "        <tr>\n",
       "            <td>R&amp;B/Soul</td>\n",
       "            <td>53</td>\n",
       "            <td>0.05042816365366318</td>\n",
       "        </tr>\n",
       "        <tr>\n",
       "            <td>Blues</td>\n",
       "            <td>36</td>\n",
       "            <td>0.03425309229305423</td>\n",
       "        </tr>\n",
       "        <tr>\n",
       "            <td>Alternative</td>\n",
       "            <td>35</td>\n",
       "            <td>0.03330161750713606</td>\n",
       "        </tr>\n",
       "        <tr>\n",
       "            <td>Pop</td>\n",
       "            <td>22</td>\n",
       "            <td>0.02093244529019981</td>\n",
       "        </tr>\n",
       "        <tr>\n",
       "            <td>Latin</td>\n",
       "            <td>22</td>\n",
       "            <td>0.02093244529019981</td>\n",
       "        </tr>\n",
       "        <tr>\n",
       "            <td>Hip Hop/Rap</td>\n",
       "            <td>20</td>\n",
       "            <td>0.019029495718363463</td>\n",
       "        </tr>\n",
       "        <tr>\n",
       "            <td>Jazz</td>\n",
       "            <td>14</td>\n",
       "            <td>0.013320647002854425</td>\n",
       "        </tr>\n",
       "        <tr>\n",
       "            <td>Easy Listening</td>\n",
       "            <td>13</td>\n",
       "            <td>0.012369172216936251</td>\n",
       "        </tr>\n",
       "        <tr>\n",
       "            <td>Reggae</td>\n",
       "            <td>6</td>\n",
       "            <td>0.005708848715509039</td>\n",
       "        </tr>\n",
       "        <tr>\n",
       "            <td>Electronica/Dance</td>\n",
       "            <td>5</td>\n",
       "            <td>0.004757373929590866</td>\n",
       "        </tr>\n",
       "        <tr>\n",
       "            <td>Classical</td>\n",
       "            <td>4</td>\n",
       "            <td>0.003805899143672693</td>\n",
       "        </tr>\n",
       "        <tr>\n",
       "            <td>Heavy Metal</td>\n",
       "            <td>3</td>\n",
       "            <td>0.0028544243577545195</td>\n",
       "        </tr>\n",
       "        <tr>\n",
       "            <td>Soundtrack</td>\n",
       "            <td>2</td>\n",
       "            <td>0.0019029495718363464</td>\n",
       "        </tr>\n",
       "        <tr>\n",
       "            <td>TV Shows</td>\n",
       "            <td>1</td>\n",
       "            <td>0.0009514747859181732</td>\n",
       "        </tr>\n",
       "    </tbody>\n",
       "</table>"
      ],
      "text/plain": [
       "[('Rock', 561, 0.5337773549000951),\n",
       " ('Alternative & Punk', 130, 0.12369172216936251),\n",
       " ('Metal', 124, 0.11798287345385347),\n",
       " ('R&B/Soul', 53, 0.05042816365366318),\n",
       " ('Blues', 36, 0.03425309229305423),\n",
       " ('Alternative', 35, 0.03330161750713606),\n",
       " ('Pop', 22, 0.02093244529019981),\n",
       " ('Latin', 22, 0.02093244529019981),\n",
       " ('Hip Hop/Rap', 20, 0.019029495718363463),\n",
       " ('Jazz', 14, 0.013320647002854425),\n",
       " ('Easy Listening', 13, 0.012369172216936251),\n",
       " ('Reggae', 6, 0.005708848715509039),\n",
       " ('Electronica/Dance', 5, 0.004757373929590866),\n",
       " ('Classical', 4, 0.003805899143672693),\n",
       " ('Heavy Metal', 3, 0.0028544243577545195),\n",
       " ('Soundtrack', 2, 0.0019029495718363464),\n",
       " ('TV Shows', 1, 0.0009514747859181732)]"
      ]
     },
     "execution_count": 4,
     "metadata": {},
     "output_type": "execute_result"
    }
   ],
   "source": [
    "%%sql\n",
    "WITH \n",
    "    sold_usa AS\n",
    "    (\n",
    "    SELECT \n",
    "        g.name genre_name,\n",
    "        i.invoice_id invoice_id\n",
    "     FROM genre g \n",
    "     INNER JOIN track t ON g.genre_id = t.genre_id\n",
    "     INNER JOIN invoice_line il ON t.track_id = il.track_id\n",
    "     INNER JOIN invoice i ON i.invoice_id = il.invoice_id\n",
    "     INNER JOIN customer c ON c.customer_id = i.customer_id\n",
    "     WHERE c.country = 'USA'\n",
    "    )\n",
    "\n",
    "SELECT \n",
    "    genre_name,\n",
    "    COUNT(invoice_id) genre_quantity,\n",
    "        CAST(COUNT(invoice_id) AS FLOAT)/ \n",
    "        (SELECT COUNT(*) FROM sold_usa)\n",
    "        genre_percent\n",
    "FROM sold_usa \n",
    "GROUP BY 1\n",
    "ORDER BY 2 DESC;\n",
    " "
   ]
  },
  {
   "cell_type": "markdown",
   "metadata": {
    "collapsed": true
   },
   "source": [
    "In the US, Rock, Punk and Metal are the top 3 music genre, accounting for almost 80% of the market share. All other genres accounted less than 1% each. \n",
    "\n",
    "Based on the sales performance, we should purchase the new albums by the following artists:\n",
    "\n",
    "Red Tone (Punk)\n",
    "Slim Jim Bites (Blues)\n",
    "Meteor and the Girls (Pop)\n",
    "\n",
    "We should also look out for artists and albumns from 'rock' genre which already accounts for more than half of the total sales in USA."
   ]
  },
  {
   "cell_type": "markdown",
   "metadata": {},
   "source": [
    "### 3. Emploees Sales Performance Analysis\n",
    "\n",
    "Which sales support agent performed best?\n"
   ]
  },
  {
   "cell_type": "markdown",
   "metadata": {},
   "source": [
    "- Return total dollar amount of sales assigned to each sales support agent within the company."
   ]
  },
  {
   "cell_type": "code",
   "execution_count": 5,
   "metadata": {},
   "outputs": [
    {
     "name": "stdout",
     "output_type": "stream",
     "text": [
      " * sqlite:///chinook.db\n",
      "Done.\n"
     ]
    },
    {
     "data": {
      "text/html": [
       "<table>\n",
       "    <thead>\n",
       "        <tr>\n",
       "            <th>employee_name</th>\n",
       "            <th>hire_date</th>\n",
       "            <th>total_sales</th>\n",
       "        </tr>\n",
       "    </thead>\n",
       "    <tbody>\n",
       "        <tr>\n",
       "            <td>Jane Peacock</td>\n",
       "            <td>2017-04-01 00:00:00</td>\n",
       "            <td>1731.51</td>\n",
       "        </tr>\n",
       "        <tr>\n",
       "            <td>Margaret Park</td>\n",
       "            <td>2017-05-03 00:00:00</td>\n",
       "            <td>1584.0</td>\n",
       "        </tr>\n",
       "        <tr>\n",
       "            <td>Steve Johnson</td>\n",
       "            <td>2017-10-17 00:00:00</td>\n",
       "            <td>1393.92</td>\n",
       "        </tr>\n",
       "    </tbody>\n",
       "</table>"
      ],
      "text/plain": [
       "[('Jane Peacock', '2017-04-01 00:00:00', 1731.51),\n",
       " ('Margaret Park', '2017-05-03 00:00:00', 1584.0),\n",
       " ('Steve Johnson', '2017-10-17 00:00:00', 1393.92)]"
      ]
     },
     "execution_count": 5,
     "metadata": {},
     "output_type": "execute_result"
    }
   ],
   "source": [
    "%%sql\n",
    "\n",
    "WITH employee_customer AS\n",
    "    (\n",
    "    SELECT \n",
    "        e.*,\n",
    "        ROUND(SUM(i.total),2) total_sales\n",
    "    FROM employee e\n",
    "    INNER JOIN customer c ON e.employee_id = c.support_rep_id\n",
    "    INNER JOIN invoice i ON i.customer_id = c.customer_id\n",
    "    GROUP BY e.employee_id\n",
    "    ORDER BY total_sales DESC\n",
    "    )\n",
    "SELECT \n",
    "    first_name || ' ' || last_name employee_name,\n",
    "    hire_date,\n",
    "    total_sales\n",
    "FROM employee_customer;\n",
    "\n"
   ]
  },
  {
   "cell_type": "markdown",
   "metadata": {
    "collapsed": true
   },
   "source": [
    "Jane Peacock had the best performance. The gap between the top sales person and the lowest person is about 20%, mainly due to the date of entry."
   ]
  },
  {
   "cell_type": "markdown",
   "metadata": {},
   "source": [
    "### 4. Sales Analysis by Country \n",
    "  \n",
    "Analyze purchase from different countries. Countries which have only one customers are collected into \"Other\" group.\n"
   ]
  },
  {
   "cell_type": "markdown",
   "metadata": {},
   "source": [
    "- Return total number of customers, total value of sales, average value of sales per customer, and average order value of each countries. "
   ]
  },
  {
   "cell_type": "code",
   "execution_count": 6,
   "metadata": {},
   "outputs": [
    {
     "name": "stdout",
     "output_type": "stream",
     "text": [
      " * sqlite:///chinook.db\n",
      "Done.\n"
     ]
    },
    {
     "data": {
      "text/html": [
       "<table>\n",
       "    <thead>\n",
       "        <tr>\n",
       "            <th>country</th>\n",
       "            <th>total_customer</th>\n",
       "            <th>total_sales</th>\n",
       "            <th>average_order_value</th>\n",
       "            <th>average_customer_value</th>\n",
       "        </tr>\n",
       "    </thead>\n",
       "    <tbody>\n",
       "        <tr>\n",
       "            <td>USA</td>\n",
       "            <td>13</td>\n",
       "            <td>1040.4899999999998</td>\n",
       "            <td>7.942671755725189</td>\n",
       "            <td>80.0376923076923</td>\n",
       "        </tr>\n",
       "        <tr>\n",
       "            <td>Canada</td>\n",
       "            <td>8</td>\n",
       "            <td>535.5900000000001</td>\n",
       "            <td>7.047236842105265</td>\n",
       "            <td>66.94875000000002</td>\n",
       "        </tr>\n",
       "        <tr>\n",
       "            <td>France</td>\n",
       "            <td>5</td>\n",
       "            <td>389.0699999999999</td>\n",
       "            <td>7.781399999999998</td>\n",
       "            <td>77.81399999999998</td>\n",
       "        </tr>\n",
       "        <tr>\n",
       "            <td>Brazil</td>\n",
       "            <td>5</td>\n",
       "            <td>427.68000000000006</td>\n",
       "            <td>7.0111475409836075</td>\n",
       "            <td>85.53600000000002</td>\n",
       "        </tr>\n",
       "        <tr>\n",
       "            <td>Germany</td>\n",
       "            <td>4</td>\n",
       "            <td>334.62</td>\n",
       "            <td>8.161463414634147</td>\n",
       "            <td>83.655</td>\n",
       "        </tr>\n",
       "        <tr>\n",
       "            <td>United Kingdom</td>\n",
       "            <td>3</td>\n",
       "            <td>245.52</td>\n",
       "            <td>8.768571428571429</td>\n",
       "            <td>81.84</td>\n",
       "        </tr>\n",
       "        <tr>\n",
       "            <td>Portugal</td>\n",
       "            <td>2</td>\n",
       "            <td>185.13000000000002</td>\n",
       "            <td>6.383793103448276</td>\n",
       "            <td>92.56500000000001</td>\n",
       "        </tr>\n",
       "        <tr>\n",
       "            <td>India</td>\n",
       "            <td>2</td>\n",
       "            <td>183.14999999999998</td>\n",
       "            <td>8.72142857142857</td>\n",
       "            <td>91.57499999999999</td>\n",
       "        </tr>\n",
       "        <tr>\n",
       "            <td>Czech Republic</td>\n",
       "            <td>2</td>\n",
       "            <td>273.24000000000007</td>\n",
       "            <td>9.108000000000002</td>\n",
       "            <td>136.62000000000003</td>\n",
       "        </tr>\n",
       "        <tr>\n",
       "            <td>Other</td>\n",
       "            <td>15</td>\n",
       "            <td>1094.9400000000003</td>\n",
       "            <td>7.44857142857143</td>\n",
       "            <td>72.99600000000002</td>\n",
       "        </tr>\n",
       "    </tbody>\n",
       "</table>"
      ],
      "text/plain": [
       "[('USA', 13, 1040.4899999999998, 7.942671755725189, 80.0376923076923),\n",
       " ('Canada', 8, 535.5900000000001, 7.047236842105265, 66.94875000000002),\n",
       " ('France', 5, 389.0699999999999, 7.781399999999998, 77.81399999999998),\n",
       " ('Brazil', 5, 427.68000000000006, 7.0111475409836075, 85.53600000000002),\n",
       " ('Germany', 4, 334.62, 8.161463414634147, 83.655),\n",
       " ('United Kingdom', 3, 245.52, 8.768571428571429, 81.84),\n",
       " ('Portugal', 2, 185.13000000000002, 6.383793103448276, 92.56500000000001),\n",
       " ('India', 2, 183.14999999999998, 8.72142857142857, 91.57499999999999),\n",
       " ('Czech Republic', 2, 273.24000000000007, 9.108000000000002, 136.62000000000003),\n",
       " ('Other', 15, 1094.9400000000003, 7.44857142857143, 72.99600000000002)]"
      ]
     },
     "execution_count": 6,
     "metadata": {},
     "output_type": "execute_result"
    }
   ],
   "source": [
    "%%sql\n",
    "\n",
    "WITH\n",
    "    customer_invoice_other AS\n",
    "    (\n",
    "    SELECT\n",
    "        CASE WHEN(\n",
    "                 SELECT COUNT(*)\n",
    "                 FROM customer\n",
    "                 WHERE country = c.country) \n",
    "             = 1 THEN 'Other'\n",
    "             ELSE c.country\n",
    "        END AS country,\n",
    "        i.*\n",
    "    FROM customer c \n",
    "    INNER JOIN invoice i ON c.customer_id = i.customer_id),\n",
    "    \n",
    "    country_value AS\n",
    "    (\n",
    "    SELECT\n",
    "        country,\n",
    "        count(distinct customer_id) total_customer,\n",
    "        SUM(total) total_sales,\n",
    "        CAST(SUM(total) AS FLOAT) / count(invoice_id) average_order_value,\n",
    "        CAST(SUM(total) AS FLOAT) / count(distinct customer_id) average_customer_value\n",
    "    FROM customer_invoice_other\n",
    "    GROUP BY country\n",
    "    ORDER BY total_customer DESC\n",
    "    )\n",
    "\n",
    "select \n",
    "    country,\n",
    "    total_customer,\n",
    "    total_sales,\n",
    "    average_order_value,\n",
    "    average_customer_value\n",
    "FROM (\n",
    "    SELECT \n",
    "        cv.*,\n",
    "        CASE \n",
    "            WHEN country = 'Other' THEN 1\n",
    "            ELSE 0\n",
    "        END AS sort\n",
    "    FROM country_value cv\n",
    "    )\n",
    "ORDER BY sort ASC; \n",
    "        "
   ]
  },
  {
   "cell_type": "markdown",
   "metadata": {},
   "source": [
    "\n",
    "Based on the results, there may be opportunity in the following countries:\n",
    "\n",
    "United Kingdom, \n",
    "Portugal, \n",
    "Czech Republic, \n",
    "India.\n",
    "\n",
    "Because the amount of data from these countries are relatively low. But we should be careful on launching new marketing campaigns by spending too much money, as the sample data doest not provide enough information for the further step. \n"
   ]
  },
  {
   "cell_type": "markdown",
   "metadata": {},
   "source": [
    "### 5. Whether the music store should continue to buy full album from record company?\n",
    "The music store is setup in a way that allows customer to make purchases in one of the two ways:  purchase a whole album, and purchase a collection of one or more individual tracks. In order to save money, they consider to change purchasing strategy - purchase only the most popular tracks from each album from record companies, instead of purchasing every track from an album. \n",
    "\n",
    "The store has previously done analysis to confirm that case, in which customers manually select every track from an album, and then add a few individual tracks from other albums to their purchase, does not happen often, so we can ignore this case.\n"
   ]
  },
  {
   "cell_type": "markdown",
   "metadata": {},
   "source": [
    "- Return the percentage of purchases which are individual tracks vs whole albums to understand the effect this decision might have on overall revenue.\n",
    "Identify whether each invoice has all the tracks from an album by getting the list of tracks from an invoice and comparing it to the list of tracks from an album. Look up the album that one of the purchased tracks belongs to."
   ]
  },
  {
   "cell_type": "code",
   "execution_count": 7,
   "metadata": {},
   "outputs": [
    {
     "name": "stdout",
     "output_type": "stream",
     "text": [
      " * sqlite:///chinook.db\n",
      "Done.\n"
     ]
    },
    {
     "data": {
      "text/html": [
       "<table>\n",
       "    <thead>\n",
       "        <tr>\n",
       "            <th>album_purchase</th>\n",
       "            <th>Number_of_invoices</th>\n",
       "            <th>Percentage_of_purchase</th>\n",
       "        </tr>\n",
       "    </thead>\n",
       "    <tbody>\n",
       "        <tr>\n",
       "            <td>No</td>\n",
       "            <td>500</td>\n",
       "            <td>0.8143322475570033</td>\n",
       "        </tr>\n",
       "        <tr>\n",
       "            <td>Yes</td>\n",
       "            <td>114</td>\n",
       "            <td>0.18566775244299674</td>\n",
       "        </tr>\n",
       "    </tbody>\n",
       "</table>"
      ],
      "text/plain": [
       "[('No', 500, 0.8143322475570033), ('Yes', 114, 0.18566775244299674)]"
      ]
     },
     "execution_count": 7,
     "metadata": {},
     "output_type": "execute_result"
    }
   ],
   "source": [
    "%%sql\n",
    "\n",
    "WITH invoice_first_track AS\n",
    "    (\n",
    "     SELECT\n",
    "         il.invoice_id invoice_id,\n",
    "         MIN(il.track_id) first_track_id\n",
    "     FROM invoice_line il\n",
    "     GROUP BY 1\n",
    "    )\n",
    "\n",
    "SELECT\n",
    "    album_purchase,\n",
    "    COUNT(invoice_id) Number_of_invoices,\n",
    "    CAST(COUNT(invoice_id) AS FLOAT) / \n",
    "    (SELECT COUNT(*) FROM invoice) Percentage_of_purchase\n",
    "FROM\n",
    "(\n",
    "SELECT \n",
    "    ifs.*,\n",
    "    CASE \n",
    "    WHEN\n",
    "    (\n",
    "    /*select invoice list*/\n",
    "    SELECT \n",
    "        track_id\n",
    "        FROM invoice_line il2 \n",
    "        WHERE il2.invoice_id = ifs.invoice_id\n",
    "\n",
    "     EXCEPT\n",
    "     \n",
    "     /*select album list*/\n",
    "     SELECT \n",
    "         track_id\n",
    "         FROM track t\n",
    "         WHERE album_id=\n",
    "         (SELECT t2.album_id\n",
    "          FROM track t2 \n",
    "          WHERE t2.track_id= ifs.first_track_id)\n",
    "    ) IS NULL\n",
    "    \n",
    "    AND\n",
    "    \n",
    "    (\n",
    "    SELECT \n",
    "         track_id\n",
    "         FROM track t\n",
    "         WHERE album_id=\n",
    "         (SELECT t2.album_id\n",
    "          FROM track t2 \n",
    "          WHERE t2.track_id= ifs.first_track_id)\n",
    "    EXCEPT\n",
    "\n",
    "    select \n",
    "        track_id\n",
    "        FROM invoice_line il2 \n",
    "        WHERE il2.invoice_id = ifs.invoice_id\n",
    "    ) IS NULL\n",
    "    \n",
    "    THEN 'Yes'\n",
    "    ELSE 'No'\n",
    "    END AS album_purchase\n",
    "    FROM invoice_first_track ifs\n",
    ")\n",
    "GROUP BY 1;\n",
    "    \n"
   ]
  },
  {
   "cell_type": "markdown",
   "metadata": {
    "collapsed": true
   },
   "source": [
    "\n",
    "Album purchases contribute 18.6% of purchases.  If only tracks were purchased from record company, the music store may risk losing a fifth of the revenue."
   ]
  },
  {
   "cell_type": "code",
   "execution_count": null,
   "metadata": {},
   "outputs": [],
   "source": []
  }
 ],
 "metadata": {
  "kernelspec": {
   "display_name": "Python 3",
   "language": "python",
   "name": "python3"
  },
  "language_info": {
   "codemirror_mode": {
    "name": "ipython",
    "version": 3
   },
   "file_extension": ".py",
   "mimetype": "text/x-python",
   "name": "python",
   "nbconvert_exporter": "python",
   "pygments_lexer": "ipython3",
   "version": "3.8.3"
  }
 },
 "nbformat": 4,
 "nbformat_minor": 2
}
