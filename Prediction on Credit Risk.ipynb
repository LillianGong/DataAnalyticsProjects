{
 "cells": [
  {
   "cell_type": "markdown",
   "metadata": {},
   "source": [
    "# Prediction on Credit Risk"
   ]
  },
  {
   "cell_type": "markdown",
   "metadata": {},
   "source": [
    "To minimize loss from the bank’s perspective, the bank needs a decision rule regarding who to give approval of the loan and who not to. An applicant’s demographic and socio-economic profiles are considered by loan managers before a decision is taken regarding his/her loan application.\n",
    "\n",
    "The German Credit Data contains data on 20 variables and the classification whether an applicant is considered a Good or a Bad credit risk for 1000 loan applicants. \n",
    "\n",
    "A predictive model developed on this data is expected to provide a bank manager guidance for making a decision whether to approve a loan to a prospective applicant based on his/her profiles.\n"
   ]
  },
  {
   "cell_type": "markdown",
   "metadata": {
    "id": "TcfxWDl0WpOh"
   },
   "source": [
    "# 1. Data Preparation"
   ]
  },
  {
   "cell_type": "markdown",
   "metadata": {
    "id": "kPYE7xQDW8Qg"
   },
   "source": [
    "## Import Data"
   ]
  },
  {
   "cell_type": "code",
   "execution_count": 1,
   "metadata": {
    "colab": {
     "base_uri": "https://localhost:8080/",
     "height": 292
    },
    "id": "L0zkOiW8wogY",
    "outputId": "ac4a2ba5-5a3a-46f3-aed5-313ee556b396"
   },
   "outputs": [
    {
     "data": {
      "text/html": [
       "<div>\n",
       "<style scoped>\n",
       "    .dataframe tbody tr th:only-of-type {\n",
       "        vertical-align: middle;\n",
       "    }\n",
       "\n",
       "    .dataframe tbody tr th {\n",
       "        vertical-align: top;\n",
       "    }\n",
       "\n",
       "    .dataframe thead th {\n",
       "        text-align: right;\n",
       "    }\n",
       "</style>\n",
       "<table border=\"1\" class=\"dataframe\">\n",
       "  <thead>\n",
       "    <tr style=\"text-align: right;\">\n",
       "      <th></th>\n",
       "      <th>Creditability</th>\n",
       "      <th>Account Balance</th>\n",
       "      <th>Duration of Credit (month)</th>\n",
       "      <th>Payment Status of Previous Credit</th>\n",
       "      <th>Purpose</th>\n",
       "      <th>Credit Amount</th>\n",
       "      <th>Value Savings/Stocks</th>\n",
       "      <th>Length of current employment</th>\n",
       "      <th>Instalment per cent</th>\n",
       "      <th>Sex &amp; Marital Status</th>\n",
       "      <th>...</th>\n",
       "      <th>Duration in Current address</th>\n",
       "      <th>Most valuable available asset</th>\n",
       "      <th>Age (years)</th>\n",
       "      <th>Concurrent Credits</th>\n",
       "      <th>Type of apartment</th>\n",
       "      <th>No of Credits at this Bank</th>\n",
       "      <th>Occupation</th>\n",
       "      <th>No of dependents</th>\n",
       "      <th>Telephone</th>\n",
       "      <th>Foreign Worker</th>\n",
       "    </tr>\n",
       "  </thead>\n",
       "  <tbody>\n",
       "    <tr>\n",
       "      <th>0</th>\n",
       "      <td>1</td>\n",
       "      <td>1</td>\n",
       "      <td>18</td>\n",
       "      <td>4</td>\n",
       "      <td>2</td>\n",
       "      <td>1049</td>\n",
       "      <td>1</td>\n",
       "      <td>2</td>\n",
       "      <td>4</td>\n",
       "      <td>2</td>\n",
       "      <td>...</td>\n",
       "      <td>4</td>\n",
       "      <td>2</td>\n",
       "      <td>21</td>\n",
       "      <td>3</td>\n",
       "      <td>1</td>\n",
       "      <td>1</td>\n",
       "      <td>3</td>\n",
       "      <td>1</td>\n",
       "      <td>1</td>\n",
       "      <td>1</td>\n",
       "    </tr>\n",
       "    <tr>\n",
       "      <th>1</th>\n",
       "      <td>1</td>\n",
       "      <td>1</td>\n",
       "      <td>9</td>\n",
       "      <td>4</td>\n",
       "      <td>0</td>\n",
       "      <td>2799</td>\n",
       "      <td>1</td>\n",
       "      <td>3</td>\n",
       "      <td>2</td>\n",
       "      <td>3</td>\n",
       "      <td>...</td>\n",
       "      <td>2</td>\n",
       "      <td>1</td>\n",
       "      <td>36</td>\n",
       "      <td>3</td>\n",
       "      <td>1</td>\n",
       "      <td>2</td>\n",
       "      <td>3</td>\n",
       "      <td>2</td>\n",
       "      <td>1</td>\n",
       "      <td>1</td>\n",
       "    </tr>\n",
       "    <tr>\n",
       "      <th>2</th>\n",
       "      <td>1</td>\n",
       "      <td>2</td>\n",
       "      <td>12</td>\n",
       "      <td>2</td>\n",
       "      <td>9</td>\n",
       "      <td>841</td>\n",
       "      <td>2</td>\n",
       "      <td>4</td>\n",
       "      <td>2</td>\n",
       "      <td>2</td>\n",
       "      <td>...</td>\n",
       "      <td>4</td>\n",
       "      <td>1</td>\n",
       "      <td>23</td>\n",
       "      <td>3</td>\n",
       "      <td>1</td>\n",
       "      <td>1</td>\n",
       "      <td>2</td>\n",
       "      <td>1</td>\n",
       "      <td>1</td>\n",
       "      <td>1</td>\n",
       "    </tr>\n",
       "    <tr>\n",
       "      <th>3</th>\n",
       "      <td>1</td>\n",
       "      <td>1</td>\n",
       "      <td>12</td>\n",
       "      <td>4</td>\n",
       "      <td>0</td>\n",
       "      <td>2122</td>\n",
       "      <td>1</td>\n",
       "      <td>3</td>\n",
       "      <td>3</td>\n",
       "      <td>3</td>\n",
       "      <td>...</td>\n",
       "      <td>2</td>\n",
       "      <td>1</td>\n",
       "      <td>39</td>\n",
       "      <td>3</td>\n",
       "      <td>1</td>\n",
       "      <td>2</td>\n",
       "      <td>2</td>\n",
       "      <td>2</td>\n",
       "      <td>1</td>\n",
       "      <td>2</td>\n",
       "    </tr>\n",
       "    <tr>\n",
       "      <th>4</th>\n",
       "      <td>1</td>\n",
       "      <td>1</td>\n",
       "      <td>12</td>\n",
       "      <td>4</td>\n",
       "      <td>0</td>\n",
       "      <td>2171</td>\n",
       "      <td>1</td>\n",
       "      <td>3</td>\n",
       "      <td>4</td>\n",
       "      <td>3</td>\n",
       "      <td>...</td>\n",
       "      <td>4</td>\n",
       "      <td>2</td>\n",
       "      <td>38</td>\n",
       "      <td>1</td>\n",
       "      <td>2</td>\n",
       "      <td>2</td>\n",
       "      <td>2</td>\n",
       "      <td>1</td>\n",
       "      <td>1</td>\n",
       "      <td>2</td>\n",
       "    </tr>\n",
       "  </tbody>\n",
       "</table>\n",
       "<p>5 rows × 21 columns</p>\n",
       "</div>"
      ],
      "text/plain": [
       "   Creditability  Account Balance  Duration of Credit (month)  \\\n",
       "0              1                1                          18   \n",
       "1              1                1                           9   \n",
       "2              1                2                          12   \n",
       "3              1                1                          12   \n",
       "4              1                1                          12   \n",
       "\n",
       "   Payment Status of Previous Credit  Purpose  Credit Amount  \\\n",
       "0                                  4        2           1049   \n",
       "1                                  4        0           2799   \n",
       "2                                  2        9            841   \n",
       "3                                  4        0           2122   \n",
       "4                                  4        0           2171   \n",
       "\n",
       "   Value Savings/Stocks  Length of current employment  Instalment per cent  \\\n",
       "0                     1                             2                    4   \n",
       "1                     1                             3                    2   \n",
       "2                     2                             4                    2   \n",
       "3                     1                             3                    3   \n",
       "4                     1                             3                    4   \n",
       "\n",
       "   Sex & Marital Status  ...  Duration in Current address  \\\n",
       "0                     2  ...                            4   \n",
       "1                     3  ...                            2   \n",
       "2                     2  ...                            4   \n",
       "3                     3  ...                            2   \n",
       "4                     3  ...                            4   \n",
       "\n",
       "   Most valuable available asset  Age (years)  Concurrent Credits  \\\n",
       "0                              2           21                   3   \n",
       "1                              1           36                   3   \n",
       "2                              1           23                   3   \n",
       "3                              1           39                   3   \n",
       "4                              2           38                   1   \n",
       "\n",
       "   Type of apartment  No of Credits at this Bank  Occupation  \\\n",
       "0                  1                           1           3   \n",
       "1                  1                           2           3   \n",
       "2                  1                           1           2   \n",
       "3                  1                           2           2   \n",
       "4                  2                           2           2   \n",
       "\n",
       "   No of dependents  Telephone  Foreign Worker  \n",
       "0                 1          1               1  \n",
       "1                 2          1               1  \n",
       "2                 1          1               1  \n",
       "3                 2          1               2  \n",
       "4                 1          1               2  \n",
       "\n",
       "[5 rows x 21 columns]"
      ]
     },
     "execution_count": 1,
     "metadata": {},
     "output_type": "execute_result"
    }
   ],
   "source": [
    "import pandas as pd\n",
    "df = pd.read_csv(\"german_credit.csv\")\n",
    "df.head()"
   ]
  },
  {
   "cell_type": "code",
   "execution_count": 2,
   "metadata": {
    "colab": {
     "base_uri": "https://localhost:8080/"
    },
    "id": "5_omG67RGRl7",
    "outputId": "23262f44-f6ba-45b8-b27e-66d9c2aec7cb"
   },
   "outputs": [
    {
     "name": "stdout",
     "output_type": "stream",
     "text": [
      "<class 'pandas.core.frame.DataFrame'>\n",
      "RangeIndex: 1000 entries, 0 to 999\n",
      "Data columns (total 21 columns):\n",
      " #   Column                             Non-Null Count  Dtype\n",
      "---  ------                             --------------  -----\n",
      " 0   Creditability                      1000 non-null   int64\n",
      " 1   Account Balance                    1000 non-null   int64\n",
      " 2   Duration of Credit (month)         1000 non-null   int64\n",
      " 3   Payment Status of Previous Credit  1000 non-null   int64\n",
      " 4   Purpose                            1000 non-null   int64\n",
      " 5   Credit Amount                      1000 non-null   int64\n",
      " 6   Value Savings/Stocks               1000 non-null   int64\n",
      " 7   Length of current employment       1000 non-null   int64\n",
      " 8   Instalment per cent                1000 non-null   int64\n",
      " 9   Sex & Marital Status               1000 non-null   int64\n",
      " 10  Guarantors                         1000 non-null   int64\n",
      " 11  Duration in Current address        1000 non-null   int64\n",
      " 12  Most valuable available asset      1000 non-null   int64\n",
      " 13  Age (years)                        1000 non-null   int64\n",
      " 14  Concurrent Credits                 1000 non-null   int64\n",
      " 15  Type of apartment                  1000 non-null   int64\n",
      " 16  No of Credits at this Bank         1000 non-null   int64\n",
      " 17  Occupation                         1000 non-null   int64\n",
      " 18  No of dependents                   1000 non-null   int64\n",
      " 19  Telephone                          1000 non-null   int64\n",
      " 20  Foreign Worker                     1000 non-null   int64\n",
      "dtypes: int64(21)\n",
      "memory usage: 164.2 KB\n"
     ]
    }
   ],
   "source": [
    "df.info()"
   ]
  },
  {
   "cell_type": "code",
   "execution_count": 3,
   "metadata": {
    "colab": {
     "base_uri": "https://localhost:8080/",
     "height": 368
    },
    "id": "gHslTKCHGmga",
    "outputId": "69c69be7-bf0b-48ae-c0f0-d9f5d2268462"
   },
   "outputs": [
    {
     "data": {
      "text/html": [
       "<div>\n",
       "<style scoped>\n",
       "    .dataframe tbody tr th:only-of-type {\n",
       "        vertical-align: middle;\n",
       "    }\n",
       "\n",
       "    .dataframe tbody tr th {\n",
       "        vertical-align: top;\n",
       "    }\n",
       "\n",
       "    .dataframe thead th {\n",
       "        text-align: right;\n",
       "    }\n",
       "</style>\n",
       "<table border=\"1\" class=\"dataframe\">\n",
       "  <thead>\n",
       "    <tr style=\"text-align: right;\">\n",
       "      <th></th>\n",
       "      <th>Creditability</th>\n",
       "      <th>Account Balance</th>\n",
       "      <th>Duration of Credit (month)</th>\n",
       "      <th>Payment Status of Previous Credit</th>\n",
       "      <th>Purpose</th>\n",
       "      <th>Credit Amount</th>\n",
       "      <th>Value Savings/Stocks</th>\n",
       "      <th>Length of current employment</th>\n",
       "      <th>Instalment per cent</th>\n",
       "      <th>Sex &amp; Marital Status</th>\n",
       "      <th>...</th>\n",
       "      <th>Duration in Current address</th>\n",
       "      <th>Most valuable available asset</th>\n",
       "      <th>Age (years)</th>\n",
       "      <th>Concurrent Credits</th>\n",
       "      <th>Type of apartment</th>\n",
       "      <th>No of Credits at this Bank</th>\n",
       "      <th>Occupation</th>\n",
       "      <th>No of dependents</th>\n",
       "      <th>Telephone</th>\n",
       "      <th>Foreign Worker</th>\n",
       "    </tr>\n",
       "  </thead>\n",
       "  <tbody>\n",
       "    <tr>\n",
       "      <th>count</th>\n",
       "      <td>1000.000000</td>\n",
       "      <td>1000.000000</td>\n",
       "      <td>1000.000000</td>\n",
       "      <td>1000.00000</td>\n",
       "      <td>1000.000000</td>\n",
       "      <td>1000.00000</td>\n",
       "      <td>1000.000000</td>\n",
       "      <td>1000.000000</td>\n",
       "      <td>1000.000000</td>\n",
       "      <td>1000.00000</td>\n",
       "      <td>...</td>\n",
       "      <td>1000.000000</td>\n",
       "      <td>1000.000000</td>\n",
       "      <td>1000.00000</td>\n",
       "      <td>1000.000000</td>\n",
       "      <td>1000.000000</td>\n",
       "      <td>1000.000000</td>\n",
       "      <td>1000.000000</td>\n",
       "      <td>1000.000000</td>\n",
       "      <td>1000.000000</td>\n",
       "      <td>1000.000000</td>\n",
       "    </tr>\n",
       "    <tr>\n",
       "      <th>mean</th>\n",
       "      <td>0.700000</td>\n",
       "      <td>2.577000</td>\n",
       "      <td>20.903000</td>\n",
       "      <td>2.54500</td>\n",
       "      <td>2.828000</td>\n",
       "      <td>3271.24800</td>\n",
       "      <td>2.105000</td>\n",
       "      <td>3.384000</td>\n",
       "      <td>2.973000</td>\n",
       "      <td>2.68200</td>\n",
       "      <td>...</td>\n",
       "      <td>2.845000</td>\n",
       "      <td>2.358000</td>\n",
       "      <td>35.54200</td>\n",
       "      <td>2.675000</td>\n",
       "      <td>1.928000</td>\n",
       "      <td>1.407000</td>\n",
       "      <td>2.904000</td>\n",
       "      <td>1.155000</td>\n",
       "      <td>1.404000</td>\n",
       "      <td>1.037000</td>\n",
       "    </tr>\n",
       "    <tr>\n",
       "      <th>std</th>\n",
       "      <td>0.458487</td>\n",
       "      <td>1.257638</td>\n",
       "      <td>12.058814</td>\n",
       "      <td>1.08312</td>\n",
       "      <td>2.744439</td>\n",
       "      <td>2822.75176</td>\n",
       "      <td>1.580023</td>\n",
       "      <td>1.208306</td>\n",
       "      <td>1.118715</td>\n",
       "      <td>0.70808</td>\n",
       "      <td>...</td>\n",
       "      <td>1.103718</td>\n",
       "      <td>1.050209</td>\n",
       "      <td>11.35267</td>\n",
       "      <td>0.705601</td>\n",
       "      <td>0.530186</td>\n",
       "      <td>0.577654</td>\n",
       "      <td>0.653614</td>\n",
       "      <td>0.362086</td>\n",
       "      <td>0.490943</td>\n",
       "      <td>0.188856</td>\n",
       "    </tr>\n",
       "    <tr>\n",
       "      <th>min</th>\n",
       "      <td>0.000000</td>\n",
       "      <td>1.000000</td>\n",
       "      <td>4.000000</td>\n",
       "      <td>0.00000</td>\n",
       "      <td>0.000000</td>\n",
       "      <td>250.00000</td>\n",
       "      <td>1.000000</td>\n",
       "      <td>1.000000</td>\n",
       "      <td>1.000000</td>\n",
       "      <td>1.00000</td>\n",
       "      <td>...</td>\n",
       "      <td>1.000000</td>\n",
       "      <td>1.000000</td>\n",
       "      <td>19.00000</td>\n",
       "      <td>1.000000</td>\n",
       "      <td>1.000000</td>\n",
       "      <td>1.000000</td>\n",
       "      <td>1.000000</td>\n",
       "      <td>1.000000</td>\n",
       "      <td>1.000000</td>\n",
       "      <td>1.000000</td>\n",
       "    </tr>\n",
       "    <tr>\n",
       "      <th>25%</th>\n",
       "      <td>0.000000</td>\n",
       "      <td>1.000000</td>\n",
       "      <td>12.000000</td>\n",
       "      <td>2.00000</td>\n",
       "      <td>1.000000</td>\n",
       "      <td>1365.50000</td>\n",
       "      <td>1.000000</td>\n",
       "      <td>3.000000</td>\n",
       "      <td>2.000000</td>\n",
       "      <td>2.00000</td>\n",
       "      <td>...</td>\n",
       "      <td>2.000000</td>\n",
       "      <td>1.000000</td>\n",
       "      <td>27.00000</td>\n",
       "      <td>3.000000</td>\n",
       "      <td>2.000000</td>\n",
       "      <td>1.000000</td>\n",
       "      <td>3.000000</td>\n",
       "      <td>1.000000</td>\n",
       "      <td>1.000000</td>\n",
       "      <td>1.000000</td>\n",
       "    </tr>\n",
       "    <tr>\n",
       "      <th>50%</th>\n",
       "      <td>1.000000</td>\n",
       "      <td>2.000000</td>\n",
       "      <td>18.000000</td>\n",
       "      <td>2.00000</td>\n",
       "      <td>2.000000</td>\n",
       "      <td>2319.50000</td>\n",
       "      <td>1.000000</td>\n",
       "      <td>3.000000</td>\n",
       "      <td>3.000000</td>\n",
       "      <td>3.00000</td>\n",
       "      <td>...</td>\n",
       "      <td>3.000000</td>\n",
       "      <td>2.000000</td>\n",
       "      <td>33.00000</td>\n",
       "      <td>3.000000</td>\n",
       "      <td>2.000000</td>\n",
       "      <td>1.000000</td>\n",
       "      <td>3.000000</td>\n",
       "      <td>1.000000</td>\n",
       "      <td>1.000000</td>\n",
       "      <td>1.000000</td>\n",
       "    </tr>\n",
       "    <tr>\n",
       "      <th>75%</th>\n",
       "      <td>1.000000</td>\n",
       "      <td>4.000000</td>\n",
       "      <td>24.000000</td>\n",
       "      <td>4.00000</td>\n",
       "      <td>3.000000</td>\n",
       "      <td>3972.25000</td>\n",
       "      <td>3.000000</td>\n",
       "      <td>5.000000</td>\n",
       "      <td>4.000000</td>\n",
       "      <td>3.00000</td>\n",
       "      <td>...</td>\n",
       "      <td>4.000000</td>\n",
       "      <td>3.000000</td>\n",
       "      <td>42.00000</td>\n",
       "      <td>3.000000</td>\n",
       "      <td>2.000000</td>\n",
       "      <td>2.000000</td>\n",
       "      <td>3.000000</td>\n",
       "      <td>1.000000</td>\n",
       "      <td>2.000000</td>\n",
       "      <td>1.000000</td>\n",
       "    </tr>\n",
       "    <tr>\n",
       "      <th>max</th>\n",
       "      <td>1.000000</td>\n",
       "      <td>4.000000</td>\n",
       "      <td>72.000000</td>\n",
       "      <td>4.00000</td>\n",
       "      <td>10.000000</td>\n",
       "      <td>18424.00000</td>\n",
       "      <td>5.000000</td>\n",
       "      <td>5.000000</td>\n",
       "      <td>4.000000</td>\n",
       "      <td>4.00000</td>\n",
       "      <td>...</td>\n",
       "      <td>4.000000</td>\n",
       "      <td>4.000000</td>\n",
       "      <td>75.00000</td>\n",
       "      <td>3.000000</td>\n",
       "      <td>3.000000</td>\n",
       "      <td>4.000000</td>\n",
       "      <td>4.000000</td>\n",
       "      <td>2.000000</td>\n",
       "      <td>2.000000</td>\n",
       "      <td>2.000000</td>\n",
       "    </tr>\n",
       "  </tbody>\n",
       "</table>\n",
       "<p>8 rows × 21 columns</p>\n",
       "</div>"
      ],
      "text/plain": [
       "       Creditability  Account Balance  Duration of Credit (month)  \\\n",
       "count    1000.000000      1000.000000                 1000.000000   \n",
       "mean        0.700000         2.577000                   20.903000   \n",
       "std         0.458487         1.257638                   12.058814   \n",
       "min         0.000000         1.000000                    4.000000   \n",
       "25%         0.000000         1.000000                   12.000000   \n",
       "50%         1.000000         2.000000                   18.000000   \n",
       "75%         1.000000         4.000000                   24.000000   \n",
       "max         1.000000         4.000000                   72.000000   \n",
       "\n",
       "       Payment Status of Previous Credit      Purpose  Credit Amount  \\\n",
       "count                         1000.00000  1000.000000     1000.00000   \n",
       "mean                             2.54500     2.828000     3271.24800   \n",
       "std                              1.08312     2.744439     2822.75176   \n",
       "min                              0.00000     0.000000      250.00000   \n",
       "25%                              2.00000     1.000000     1365.50000   \n",
       "50%                              2.00000     2.000000     2319.50000   \n",
       "75%                              4.00000     3.000000     3972.25000   \n",
       "max                              4.00000    10.000000    18424.00000   \n",
       "\n",
       "       Value Savings/Stocks  Length of current employment  \\\n",
       "count           1000.000000                   1000.000000   \n",
       "mean               2.105000                      3.384000   \n",
       "std                1.580023                      1.208306   \n",
       "min                1.000000                      1.000000   \n",
       "25%                1.000000                      3.000000   \n",
       "50%                1.000000                      3.000000   \n",
       "75%                3.000000                      5.000000   \n",
       "max                5.000000                      5.000000   \n",
       "\n",
       "       Instalment per cent  Sex & Marital Status  ...  \\\n",
       "count          1000.000000            1000.00000  ...   \n",
       "mean              2.973000               2.68200  ...   \n",
       "std               1.118715               0.70808  ...   \n",
       "min               1.000000               1.00000  ...   \n",
       "25%               2.000000               2.00000  ...   \n",
       "50%               3.000000               3.00000  ...   \n",
       "75%               4.000000               3.00000  ...   \n",
       "max               4.000000               4.00000  ...   \n",
       "\n",
       "       Duration in Current address  Most valuable available asset  \\\n",
       "count                  1000.000000                    1000.000000   \n",
       "mean                      2.845000                       2.358000   \n",
       "std                       1.103718                       1.050209   \n",
       "min                       1.000000                       1.000000   \n",
       "25%                       2.000000                       1.000000   \n",
       "50%                       3.000000                       2.000000   \n",
       "75%                       4.000000                       3.000000   \n",
       "max                       4.000000                       4.000000   \n",
       "\n",
       "       Age (years)  Concurrent Credits  Type of apartment  \\\n",
       "count   1000.00000         1000.000000        1000.000000   \n",
       "mean      35.54200            2.675000           1.928000   \n",
       "std       11.35267            0.705601           0.530186   \n",
       "min       19.00000            1.000000           1.000000   \n",
       "25%       27.00000            3.000000           2.000000   \n",
       "50%       33.00000            3.000000           2.000000   \n",
       "75%       42.00000            3.000000           2.000000   \n",
       "max       75.00000            3.000000           3.000000   \n",
       "\n",
       "       No of Credits at this Bank   Occupation  No of dependents    Telephone  \\\n",
       "count                 1000.000000  1000.000000       1000.000000  1000.000000   \n",
       "mean                     1.407000     2.904000          1.155000     1.404000   \n",
       "std                      0.577654     0.653614          0.362086     0.490943   \n",
       "min                      1.000000     1.000000          1.000000     1.000000   \n",
       "25%                      1.000000     3.000000          1.000000     1.000000   \n",
       "50%                      1.000000     3.000000          1.000000     1.000000   \n",
       "75%                      2.000000     3.000000          1.000000     2.000000   \n",
       "max                      4.000000     4.000000          2.000000     2.000000   \n",
       "\n",
       "       Foreign Worker  \n",
       "count     1000.000000  \n",
       "mean         1.037000  \n",
       "std          0.188856  \n",
       "min          1.000000  \n",
       "25%          1.000000  \n",
       "50%          1.000000  \n",
       "75%          1.000000  \n",
       "max          2.000000  \n",
       "\n",
       "[8 rows x 21 columns]"
      ]
     },
     "execution_count": 3,
     "metadata": {},
     "output_type": "execute_result"
    }
   ],
   "source": [
    "df.describe()"
   ]
  },
  {
   "cell_type": "code",
   "execution_count": 4,
   "metadata": {
    "colab": {
     "base_uri": "https://localhost:8080/"
    },
    "id": "mxVtIEA4G0G_",
    "outputId": "2f91321a-7d53-44b3-ea8d-7769fa8edef2"
   },
   "outputs": [
    {
     "data": {
      "text/plain": [
       "Index(['Creditability', 'Account Balance', 'Duration of Credit (month)',\n",
       "       'Payment Status of Previous Credit', 'Purpose', 'Credit Amount',\n",
       "       'Value Savings/Stocks', 'Length of current employment',\n",
       "       'Instalment per cent', 'Sex & Marital Status', 'Guarantors',\n",
       "       'Duration in Current address', 'Most valuable available asset',\n",
       "       'Age (years)', 'Concurrent Credits', 'Type of apartment',\n",
       "       'No of Credits at this Bank', 'Occupation', 'No of dependents',\n",
       "       'Telephone', 'Foreign Worker'],\n",
       "      dtype='object')"
      ]
     },
     "execution_count": 4,
     "metadata": {},
     "output_type": "execute_result"
    }
   ],
   "source": [
    "df.columns"
   ]
  },
  {
   "cell_type": "markdown",
   "metadata": {
    "id": "hcQsFKMIXGfj"
   },
   "source": [
    "## Attribute Type"
   ]
  },
  {
   "cell_type": "markdown",
   "metadata": {
    "id": "dv7fCHIVX1PA"
   },
   "source": [
    "\n",
    "- creditability: nominal (binary)\n",
    "- Account Balance: nominal\n",
    "- Duration of Credit: quantitative (discrete)\n",
    "- Payment Status of Previous Credit: ordinal\n",
    "- Purpose: nominal\n",
    "- Credit Amount: quantitative (continuous)\n",
    "- Value savings/Stocks: nominal\n",
    "- Length of current employment: ordinal\n",
    "- Instalment percent: quantitative(discrete)\n",
    "- Sex & Martial Status:nominal\n",
    "- Guarantors: nominal\n",
    "- Duration in Current address: nominal  \n",
    "- Most valuable available asset: quantititative (discrete)\n",
    "- Age (years): quantititative ( it is a continuous variable but here all values are in whole numbers)\n",
    "- Concurrent Credits: quantititative (discrete)\n",
    "- Type of apartment: nominal\n",
    "- No of Credits at this Bank: quantititative (discrete)\n",
    "- Occupation: ordinal\n",
    "- No of dependents: quantititative (discrete)\n",
    "- Telephone: nominal\n",
    "- Foreign Worker: Binary (Binary variables are nominal variables which have only two categories or levels)."
   ]
  },
  {
   "cell_type": "markdown",
   "metadata": {
    "id": "tUfwoQ3EYfUZ"
   },
   "source": [
    "## Detect Missing Values"
   ]
  },
  {
   "cell_type": "code",
   "execution_count": 5,
   "metadata": {
    "colab": {
     "base_uri": "https://localhost:8080/"
    },
    "id": "h9z10YngG3cu",
    "outputId": "4dcf1794-b44b-45ea-e698-4d64361dbd0d"
   },
   "outputs": [
    {
     "data": {
      "text/plain": [
       "Foreign Worker                       0\n",
       "Sex & Marital Status                 0\n",
       "Account Balance                      0\n",
       "Duration of Credit (month)           0\n",
       "Payment Status of Previous Credit    0\n",
       "Purpose                              0\n",
       "Credit Amount                        0\n",
       "Value Savings/Stocks                 0\n",
       "Length of current employment         0\n",
       "Instalment per cent                  0\n",
       "Guarantors                           0\n",
       "Telephone                            0\n",
       "Duration in Current address          0\n",
       "Most valuable available asset        0\n",
       "Age (years)                          0\n",
       "Concurrent Credits                   0\n",
       "Type of apartment                    0\n",
       "No of Credits at this Bank           0\n",
       "Occupation                           0\n",
       "No of dependents                     0\n",
       "Creditability                        0\n",
       "dtype: int64"
      ]
     },
     "execution_count": 5,
     "metadata": {},
     "output_type": "execute_result"
    }
   ],
   "source": [
    "df.isnull().sum().sort_values(ascending=False)"
   ]
  },
  {
   "cell_type": "markdown",
   "metadata": {
    "id": "_VSH1q7Nn4fB"
   },
   "source": [
    "## Check Categorical Variables by using Frequency Distribution Table"
   ]
  },
  {
   "cell_type": "code",
   "execution_count": 6,
   "metadata": {
    "colab": {
     "base_uri": "https://localhost:8080/",
     "height": 142
    },
    "id": "UFekPDVejLy2",
    "outputId": "e3ded2bc-8a36-4ede-c4f9-a4e025d818f8"
   },
   "outputs": [
    {
     "data": {
      "text/html": [
       "<div>\n",
       "<style scoped>\n",
       "    .dataframe tbody tr th:only-of-type {\n",
       "        vertical-align: middle;\n",
       "    }\n",
       "\n",
       "    .dataframe tbody tr th {\n",
       "        vertical-align: top;\n",
       "    }\n",
       "\n",
       "    .dataframe thead th {\n",
       "        text-align: right;\n",
       "    }\n",
       "</style>\n",
       "<table border=\"1\" class=\"dataframe\">\n",
       "  <thead>\n",
       "    <tr style=\"text-align: right;\">\n",
       "      <th>col_0</th>\n",
       "      <th>count</th>\n",
       "    </tr>\n",
       "    <tr>\n",
       "      <th>Creditability</th>\n",
       "      <th></th>\n",
       "    </tr>\n",
       "  </thead>\n",
       "  <tbody>\n",
       "    <tr>\n",
       "      <th>0</th>\n",
       "      <td>300</td>\n",
       "    </tr>\n",
       "    <tr>\n",
       "      <th>1</th>\n",
       "      <td>700</td>\n",
       "    </tr>\n",
       "  </tbody>\n",
       "</table>\n",
       "</div>"
      ],
      "text/plain": [
       "col_0          count\n",
       "Creditability       \n",
       "0                300\n",
       "1                700"
      ]
     },
     "execution_count": 6,
     "metadata": {},
     "output_type": "execute_result"
    }
   ],
   "source": [
    "pd.crosstab(index=df['Creditability'], columns='count')"
   ]
  },
  {
   "cell_type": "code",
   "execution_count": 7,
   "metadata": {
    "colab": {
     "base_uri": "https://localhost:8080/",
     "height": 204
    },
    "id": "c-ByGYjmog1z",
    "outputId": "f77b84aa-c434-40de-d395-cbdc24a4a773"
   },
   "outputs": [
    {
     "data": {
      "text/html": [
       "<div>\n",
       "<style scoped>\n",
       "    .dataframe tbody tr th:only-of-type {\n",
       "        vertical-align: middle;\n",
       "    }\n",
       "\n",
       "    .dataframe tbody tr th {\n",
       "        vertical-align: top;\n",
       "    }\n",
       "\n",
       "    .dataframe thead th {\n",
       "        text-align: right;\n",
       "    }\n",
       "</style>\n",
       "<table border=\"1\" class=\"dataframe\">\n",
       "  <thead>\n",
       "    <tr style=\"text-align: right;\">\n",
       "      <th>col_0</th>\n",
       "      <th>count</th>\n",
       "    </tr>\n",
       "    <tr>\n",
       "      <th>Account Balance</th>\n",
       "      <th></th>\n",
       "    </tr>\n",
       "  </thead>\n",
       "  <tbody>\n",
       "    <tr>\n",
       "      <th>1</th>\n",
       "      <td>274</td>\n",
       "    </tr>\n",
       "    <tr>\n",
       "      <th>2</th>\n",
       "      <td>269</td>\n",
       "    </tr>\n",
       "    <tr>\n",
       "      <th>3</th>\n",
       "      <td>63</td>\n",
       "    </tr>\n",
       "    <tr>\n",
       "      <th>4</th>\n",
       "      <td>394</td>\n",
       "    </tr>\n",
       "  </tbody>\n",
       "</table>\n",
       "</div>"
      ],
      "text/plain": [
       "col_0            count\n",
       "Account Balance       \n",
       "1                  274\n",
       "2                  269\n",
       "3                   63\n",
       "4                  394"
      ]
     },
     "execution_count": 7,
     "metadata": {},
     "output_type": "execute_result"
    }
   ],
   "source": [
    "pd.crosstab(index=df['Account Balance'], columns='count')"
   ]
  },
  {
   "cell_type": "code",
   "execution_count": 8,
   "metadata": {
    "cellView": "code",
    "colab": {
     "base_uri": "https://localhost:8080/",
     "height": 235
    },
    "id": "n1_6JWzPoowQ",
    "outputId": "7717a328-3b79-4f4a-f128-a62f363b0e69"
   },
   "outputs": [
    {
     "data": {
      "text/html": [
       "<div>\n",
       "<style scoped>\n",
       "    .dataframe tbody tr th:only-of-type {\n",
       "        vertical-align: middle;\n",
       "    }\n",
       "\n",
       "    .dataframe tbody tr th {\n",
       "        vertical-align: top;\n",
       "    }\n",
       "\n",
       "    .dataframe thead th {\n",
       "        text-align: right;\n",
       "    }\n",
       "</style>\n",
       "<table border=\"1\" class=\"dataframe\">\n",
       "  <thead>\n",
       "    <tr style=\"text-align: right;\">\n",
       "      <th>col_0</th>\n",
       "      <th>count</th>\n",
       "    </tr>\n",
       "    <tr>\n",
       "      <th>Payment Status of Previous Credit</th>\n",
       "      <th></th>\n",
       "    </tr>\n",
       "  </thead>\n",
       "  <tbody>\n",
       "    <tr>\n",
       "      <th>0</th>\n",
       "      <td>40</td>\n",
       "    </tr>\n",
       "    <tr>\n",
       "      <th>1</th>\n",
       "      <td>49</td>\n",
       "    </tr>\n",
       "    <tr>\n",
       "      <th>2</th>\n",
       "      <td>530</td>\n",
       "    </tr>\n",
       "    <tr>\n",
       "      <th>3</th>\n",
       "      <td>88</td>\n",
       "    </tr>\n",
       "    <tr>\n",
       "      <th>4</th>\n",
       "      <td>293</td>\n",
       "    </tr>\n",
       "  </tbody>\n",
       "</table>\n",
       "</div>"
      ],
      "text/plain": [
       "col_0                              count\n",
       "Payment Status of Previous Credit       \n",
       "0                                     40\n",
       "1                                     49\n",
       "2                                    530\n",
       "3                                     88\n",
       "4                                    293"
      ]
     },
     "execution_count": 8,
     "metadata": {},
     "output_type": "execute_result"
    }
   ],
   "source": [
    "\n",
    "pd.crosstab(index=df['Payment Status of Previous Credit'], columns='count')"
   ]
  },
  {
   "cell_type": "code",
   "execution_count": 9,
   "metadata": {
    "colab": {
     "base_uri": "https://localhost:8080/",
     "height": 1000
    },
    "id": "0GaG6CfSsvRz",
    "outputId": "687009d8-4356-49c5-fc1b-3d82c758ead7"
   },
   "outputs": [
    {
     "data": {
      "text/html": [
       "<div>\n",
       "<style scoped>\n",
       "    .dataframe tbody tr th:only-of-type {\n",
       "        vertical-align: middle;\n",
       "    }\n",
       "\n",
       "    .dataframe tbody tr th {\n",
       "        vertical-align: top;\n",
       "    }\n",
       "\n",
       "    .dataframe thead th {\n",
       "        text-align: right;\n",
       "    }\n",
       "</style>\n",
       "<table border=\"1\" class=\"dataframe\">\n",
       "  <thead>\n",
       "    <tr style=\"text-align: right;\">\n",
       "      <th>col_0</th>\n",
       "      <th>count</th>\n",
       "    </tr>\n",
       "    <tr>\n",
       "      <th>Duration of Credit (month)</th>\n",
       "      <th></th>\n",
       "    </tr>\n",
       "  </thead>\n",
       "  <tbody>\n",
       "    <tr>\n",
       "      <th>4</th>\n",
       "      <td>6</td>\n",
       "    </tr>\n",
       "    <tr>\n",
       "      <th>5</th>\n",
       "      <td>1</td>\n",
       "    </tr>\n",
       "    <tr>\n",
       "      <th>6</th>\n",
       "      <td>75</td>\n",
       "    </tr>\n",
       "    <tr>\n",
       "      <th>7</th>\n",
       "      <td>5</td>\n",
       "    </tr>\n",
       "    <tr>\n",
       "      <th>8</th>\n",
       "      <td>7</td>\n",
       "    </tr>\n",
       "    <tr>\n",
       "      <th>9</th>\n",
       "      <td>49</td>\n",
       "    </tr>\n",
       "    <tr>\n",
       "      <th>10</th>\n",
       "      <td>28</td>\n",
       "    </tr>\n",
       "    <tr>\n",
       "      <th>11</th>\n",
       "      <td>9</td>\n",
       "    </tr>\n",
       "    <tr>\n",
       "      <th>12</th>\n",
       "      <td>179</td>\n",
       "    </tr>\n",
       "    <tr>\n",
       "      <th>13</th>\n",
       "      <td>4</td>\n",
       "    </tr>\n",
       "    <tr>\n",
       "      <th>14</th>\n",
       "      <td>4</td>\n",
       "    </tr>\n",
       "    <tr>\n",
       "      <th>15</th>\n",
       "      <td>64</td>\n",
       "    </tr>\n",
       "    <tr>\n",
       "      <th>16</th>\n",
       "      <td>2</td>\n",
       "    </tr>\n",
       "    <tr>\n",
       "      <th>18</th>\n",
       "      <td>113</td>\n",
       "    </tr>\n",
       "    <tr>\n",
       "      <th>20</th>\n",
       "      <td>8</td>\n",
       "    </tr>\n",
       "    <tr>\n",
       "      <th>21</th>\n",
       "      <td>30</td>\n",
       "    </tr>\n",
       "    <tr>\n",
       "      <th>22</th>\n",
       "      <td>2</td>\n",
       "    </tr>\n",
       "    <tr>\n",
       "      <th>24</th>\n",
       "      <td>184</td>\n",
       "    </tr>\n",
       "    <tr>\n",
       "      <th>26</th>\n",
       "      <td>1</td>\n",
       "    </tr>\n",
       "    <tr>\n",
       "      <th>27</th>\n",
       "      <td>13</td>\n",
       "    </tr>\n",
       "    <tr>\n",
       "      <th>28</th>\n",
       "      <td>3</td>\n",
       "    </tr>\n",
       "    <tr>\n",
       "      <th>30</th>\n",
       "      <td>40</td>\n",
       "    </tr>\n",
       "    <tr>\n",
       "      <th>33</th>\n",
       "      <td>3</td>\n",
       "    </tr>\n",
       "    <tr>\n",
       "      <th>36</th>\n",
       "      <td>83</td>\n",
       "    </tr>\n",
       "    <tr>\n",
       "      <th>39</th>\n",
       "      <td>5</td>\n",
       "    </tr>\n",
       "    <tr>\n",
       "      <th>40</th>\n",
       "      <td>1</td>\n",
       "    </tr>\n",
       "    <tr>\n",
       "      <th>42</th>\n",
       "      <td>11</td>\n",
       "    </tr>\n",
       "    <tr>\n",
       "      <th>45</th>\n",
       "      <td>5</td>\n",
       "    </tr>\n",
       "    <tr>\n",
       "      <th>47</th>\n",
       "      <td>1</td>\n",
       "    </tr>\n",
       "    <tr>\n",
       "      <th>48</th>\n",
       "      <td>48</td>\n",
       "    </tr>\n",
       "    <tr>\n",
       "      <th>54</th>\n",
       "      <td>2</td>\n",
       "    </tr>\n",
       "    <tr>\n",
       "      <th>60</th>\n",
       "      <td>13</td>\n",
       "    </tr>\n",
       "    <tr>\n",
       "      <th>72</th>\n",
       "      <td>1</td>\n",
       "    </tr>\n",
       "  </tbody>\n",
       "</table>\n",
       "</div>"
      ],
      "text/plain": [
       "col_0                       count\n",
       "Duration of Credit (month)       \n",
       "4                               6\n",
       "5                               1\n",
       "6                              75\n",
       "7                               5\n",
       "8                               7\n",
       "9                              49\n",
       "10                             28\n",
       "11                              9\n",
       "12                            179\n",
       "13                              4\n",
       "14                              4\n",
       "15                             64\n",
       "16                              2\n",
       "18                            113\n",
       "20                              8\n",
       "21                             30\n",
       "22                              2\n",
       "24                            184\n",
       "26                              1\n",
       "27                             13\n",
       "28                              3\n",
       "30                             40\n",
       "33                              3\n",
       "36                             83\n",
       "39                              5\n",
       "40                              1\n",
       "42                             11\n",
       "45                              5\n",
       "47                              1\n",
       "48                             48\n",
       "54                              2\n",
       "60                             13\n",
       "72                              1"
      ]
     },
     "execution_count": 9,
     "metadata": {},
     "output_type": "execute_result"
    }
   ],
   "source": [
    "pd.crosstab(index=df['Duration of Credit (month)'], columns='count')"
   ]
  },
  {
   "cell_type": "code",
   "execution_count": 10,
   "metadata": {
    "colab": {
     "base_uri": "https://localhost:8080/",
     "height": 390
    },
    "id": "wsdkCNDpoxI3",
    "outputId": "a2d76b83-f89e-44ad-e39d-170f7213dcb9"
   },
   "outputs": [
    {
     "data": {
      "text/html": [
       "<div>\n",
       "<style scoped>\n",
       "    .dataframe tbody tr th:only-of-type {\n",
       "        vertical-align: middle;\n",
       "    }\n",
       "\n",
       "    .dataframe tbody tr th {\n",
       "        vertical-align: top;\n",
       "    }\n",
       "\n",
       "    .dataframe thead th {\n",
       "        text-align: right;\n",
       "    }\n",
       "</style>\n",
       "<table border=\"1\" class=\"dataframe\">\n",
       "  <thead>\n",
       "    <tr style=\"text-align: right;\">\n",
       "      <th>col_0</th>\n",
       "      <th>count</th>\n",
       "    </tr>\n",
       "    <tr>\n",
       "      <th>Purpose</th>\n",
       "      <th></th>\n",
       "    </tr>\n",
       "  </thead>\n",
       "  <tbody>\n",
       "    <tr>\n",
       "      <th>0</th>\n",
       "      <td>234</td>\n",
       "    </tr>\n",
       "    <tr>\n",
       "      <th>1</th>\n",
       "      <td>103</td>\n",
       "    </tr>\n",
       "    <tr>\n",
       "      <th>2</th>\n",
       "      <td>181</td>\n",
       "    </tr>\n",
       "    <tr>\n",
       "      <th>3</th>\n",
       "      <td>280</td>\n",
       "    </tr>\n",
       "    <tr>\n",
       "      <th>4</th>\n",
       "      <td>12</td>\n",
       "    </tr>\n",
       "    <tr>\n",
       "      <th>5</th>\n",
       "      <td>22</td>\n",
       "    </tr>\n",
       "    <tr>\n",
       "      <th>6</th>\n",
       "      <td>50</td>\n",
       "    </tr>\n",
       "    <tr>\n",
       "      <th>8</th>\n",
       "      <td>9</td>\n",
       "    </tr>\n",
       "    <tr>\n",
       "      <th>9</th>\n",
       "      <td>97</td>\n",
       "    </tr>\n",
       "    <tr>\n",
       "      <th>10</th>\n",
       "      <td>12</td>\n",
       "    </tr>\n",
       "  </tbody>\n",
       "</table>\n",
       "</div>"
      ],
      "text/plain": [
       "col_0    count\n",
       "Purpose       \n",
       "0          234\n",
       "1          103\n",
       "2          181\n",
       "3          280\n",
       "4           12\n",
       "5           22\n",
       "6           50\n",
       "8            9\n",
       "9           97\n",
       "10          12"
      ]
     },
     "execution_count": 10,
     "metadata": {},
     "output_type": "execute_result"
    }
   ],
   "source": [
    "pd.crosstab(index=df['Purpose'], columns='count')"
   ]
  },
  {
   "cell_type": "code",
   "execution_count": 11,
   "metadata": {
    "colab": {
     "base_uri": "https://localhost:8080/",
     "height": 235
    },
    "id": "Frf9FE_lo6bh",
    "outputId": "e72c1882-1bc2-4b92-814c-f5c0722e16bf"
   },
   "outputs": [
    {
     "data": {
      "text/html": [
       "<div>\n",
       "<style scoped>\n",
       "    .dataframe tbody tr th:only-of-type {\n",
       "        vertical-align: middle;\n",
       "    }\n",
       "\n",
       "    .dataframe tbody tr th {\n",
       "        vertical-align: top;\n",
       "    }\n",
       "\n",
       "    .dataframe thead th {\n",
       "        text-align: right;\n",
       "    }\n",
       "</style>\n",
       "<table border=\"1\" class=\"dataframe\">\n",
       "  <thead>\n",
       "    <tr style=\"text-align: right;\">\n",
       "      <th>col_0</th>\n",
       "      <th>count</th>\n",
       "    </tr>\n",
       "    <tr>\n",
       "      <th>Value Savings/Stocks</th>\n",
       "      <th></th>\n",
       "    </tr>\n",
       "  </thead>\n",
       "  <tbody>\n",
       "    <tr>\n",
       "      <th>1</th>\n",
       "      <td>603</td>\n",
       "    </tr>\n",
       "    <tr>\n",
       "      <th>2</th>\n",
       "      <td>103</td>\n",
       "    </tr>\n",
       "    <tr>\n",
       "      <th>3</th>\n",
       "      <td>63</td>\n",
       "    </tr>\n",
       "    <tr>\n",
       "      <th>4</th>\n",
       "      <td>48</td>\n",
       "    </tr>\n",
       "    <tr>\n",
       "      <th>5</th>\n",
       "      <td>183</td>\n",
       "    </tr>\n",
       "  </tbody>\n",
       "</table>\n",
       "</div>"
      ],
      "text/plain": [
       "col_0                 count\n",
       "Value Savings/Stocks       \n",
       "1                       603\n",
       "2                       103\n",
       "3                        63\n",
       "4                        48\n",
       "5                       183"
      ]
     },
     "execution_count": 11,
     "metadata": {},
     "output_type": "execute_result"
    }
   ],
   "source": [
    "pd.crosstab(index=df['Value Savings/Stocks'], columns='count')"
   ]
  },
  {
   "cell_type": "code",
   "execution_count": 12,
   "metadata": {
    "colab": {
     "base_uri": "https://localhost:8080/",
     "height": 235
    },
    "id": "uY3hwMoTpDkL",
    "outputId": "f4fb2148-ca6a-4398-d9a8-30dd113ea761"
   },
   "outputs": [
    {
     "data": {
      "text/html": [
       "<div>\n",
       "<style scoped>\n",
       "    .dataframe tbody tr th:only-of-type {\n",
       "        vertical-align: middle;\n",
       "    }\n",
       "\n",
       "    .dataframe tbody tr th {\n",
       "        vertical-align: top;\n",
       "    }\n",
       "\n",
       "    .dataframe thead th {\n",
       "        text-align: right;\n",
       "    }\n",
       "</style>\n",
       "<table border=\"1\" class=\"dataframe\">\n",
       "  <thead>\n",
       "    <tr style=\"text-align: right;\">\n",
       "      <th>col_0</th>\n",
       "      <th>count</th>\n",
       "    </tr>\n",
       "    <tr>\n",
       "      <th>Length of current employment</th>\n",
       "      <th></th>\n",
       "    </tr>\n",
       "  </thead>\n",
       "  <tbody>\n",
       "    <tr>\n",
       "      <th>1</th>\n",
       "      <td>62</td>\n",
       "    </tr>\n",
       "    <tr>\n",
       "      <th>2</th>\n",
       "      <td>172</td>\n",
       "    </tr>\n",
       "    <tr>\n",
       "      <th>3</th>\n",
       "      <td>339</td>\n",
       "    </tr>\n",
       "    <tr>\n",
       "      <th>4</th>\n",
       "      <td>174</td>\n",
       "    </tr>\n",
       "    <tr>\n",
       "      <th>5</th>\n",
       "      <td>253</td>\n",
       "    </tr>\n",
       "  </tbody>\n",
       "</table>\n",
       "</div>"
      ],
      "text/plain": [
       "col_0                         count\n",
       "Length of current employment       \n",
       "1                                62\n",
       "2                               172\n",
       "3                               339\n",
       "4                               174\n",
       "5                               253"
      ]
     },
     "execution_count": 12,
     "metadata": {},
     "output_type": "execute_result"
    }
   ],
   "source": [
    "pd.crosstab(index=df['Length of current employment'], columns='count')"
   ]
  },
  {
   "cell_type": "code",
   "execution_count": 13,
   "metadata": {
    "colab": {
     "base_uri": "https://localhost:8080/",
     "height": 204
    },
    "id": "28uvz9fIpI28",
    "outputId": "6e99c73c-db1b-4a3f-b07e-0b3bc6761cb7"
   },
   "outputs": [
    {
     "data": {
      "text/html": [
       "<div>\n",
       "<style scoped>\n",
       "    .dataframe tbody tr th:only-of-type {\n",
       "        vertical-align: middle;\n",
       "    }\n",
       "\n",
       "    .dataframe tbody tr th {\n",
       "        vertical-align: top;\n",
       "    }\n",
       "\n",
       "    .dataframe thead th {\n",
       "        text-align: right;\n",
       "    }\n",
       "</style>\n",
       "<table border=\"1\" class=\"dataframe\">\n",
       "  <thead>\n",
       "    <tr style=\"text-align: right;\">\n",
       "      <th>col_0</th>\n",
       "      <th>count</th>\n",
       "    </tr>\n",
       "    <tr>\n",
       "      <th>Instalment per cent</th>\n",
       "      <th></th>\n",
       "    </tr>\n",
       "  </thead>\n",
       "  <tbody>\n",
       "    <tr>\n",
       "      <th>1</th>\n",
       "      <td>136</td>\n",
       "    </tr>\n",
       "    <tr>\n",
       "      <th>2</th>\n",
       "      <td>231</td>\n",
       "    </tr>\n",
       "    <tr>\n",
       "      <th>3</th>\n",
       "      <td>157</td>\n",
       "    </tr>\n",
       "    <tr>\n",
       "      <th>4</th>\n",
       "      <td>476</td>\n",
       "    </tr>\n",
       "  </tbody>\n",
       "</table>\n",
       "</div>"
      ],
      "text/plain": [
       "col_0                count\n",
       "Instalment per cent       \n",
       "1                      136\n",
       "2                      231\n",
       "3                      157\n",
       "4                      476"
      ]
     },
     "execution_count": 13,
     "metadata": {},
     "output_type": "execute_result"
    }
   ],
   "source": [
    "pd.crosstab(index=df['Instalment per cent'], columns='count')"
   ]
  },
  {
   "cell_type": "code",
   "execution_count": 14,
   "metadata": {
    "colab": {
     "base_uri": "https://localhost:8080/",
     "height": 204
    },
    "id": "TkuEibx7pQdj",
    "outputId": "756633ca-c769-44d5-cf40-d6c65695d4a4"
   },
   "outputs": [
    {
     "data": {
      "text/html": [
       "<div>\n",
       "<style scoped>\n",
       "    .dataframe tbody tr th:only-of-type {\n",
       "        vertical-align: middle;\n",
       "    }\n",
       "\n",
       "    .dataframe tbody tr th {\n",
       "        vertical-align: top;\n",
       "    }\n",
       "\n",
       "    .dataframe thead th {\n",
       "        text-align: right;\n",
       "    }\n",
       "</style>\n",
       "<table border=\"1\" class=\"dataframe\">\n",
       "  <thead>\n",
       "    <tr style=\"text-align: right;\">\n",
       "      <th>col_0</th>\n",
       "      <th>count</th>\n",
       "    </tr>\n",
       "    <tr>\n",
       "      <th>Sex &amp; Marital Status</th>\n",
       "      <th></th>\n",
       "    </tr>\n",
       "  </thead>\n",
       "  <tbody>\n",
       "    <tr>\n",
       "      <th>1</th>\n",
       "      <td>50</td>\n",
       "    </tr>\n",
       "    <tr>\n",
       "      <th>2</th>\n",
       "      <td>310</td>\n",
       "    </tr>\n",
       "    <tr>\n",
       "      <th>3</th>\n",
       "      <td>548</td>\n",
       "    </tr>\n",
       "    <tr>\n",
       "      <th>4</th>\n",
       "      <td>92</td>\n",
       "    </tr>\n",
       "  </tbody>\n",
       "</table>\n",
       "</div>"
      ],
      "text/plain": [
       "col_0                 count\n",
       "Sex & Marital Status       \n",
       "1                        50\n",
       "2                       310\n",
       "3                       548\n",
       "4                        92"
      ]
     },
     "execution_count": 14,
     "metadata": {},
     "output_type": "execute_result"
    }
   ],
   "source": [
    "pd.crosstab(index=df['Sex & Marital Status'], columns='count')"
   ]
  },
  {
   "cell_type": "code",
   "execution_count": 15,
   "metadata": {
    "colab": {
     "base_uri": "https://localhost:8080/",
     "height": 173
    },
    "id": "VCG7b95NpUjf",
    "outputId": "01218bb4-bad0-48d5-f1fb-c6906c735e64"
   },
   "outputs": [
    {
     "data": {
      "text/html": [
       "<div>\n",
       "<style scoped>\n",
       "    .dataframe tbody tr th:only-of-type {\n",
       "        vertical-align: middle;\n",
       "    }\n",
       "\n",
       "    .dataframe tbody tr th {\n",
       "        vertical-align: top;\n",
       "    }\n",
       "\n",
       "    .dataframe thead th {\n",
       "        text-align: right;\n",
       "    }\n",
       "</style>\n",
       "<table border=\"1\" class=\"dataframe\">\n",
       "  <thead>\n",
       "    <tr style=\"text-align: right;\">\n",
       "      <th>col_0</th>\n",
       "      <th>count</th>\n",
       "    </tr>\n",
       "    <tr>\n",
       "      <th>Guarantors</th>\n",
       "      <th></th>\n",
       "    </tr>\n",
       "  </thead>\n",
       "  <tbody>\n",
       "    <tr>\n",
       "      <th>1</th>\n",
       "      <td>907</td>\n",
       "    </tr>\n",
       "    <tr>\n",
       "      <th>2</th>\n",
       "      <td>41</td>\n",
       "    </tr>\n",
       "    <tr>\n",
       "      <th>3</th>\n",
       "      <td>52</td>\n",
       "    </tr>\n",
       "  </tbody>\n",
       "</table>\n",
       "</div>"
      ],
      "text/plain": [
       "col_0       count\n",
       "Guarantors       \n",
       "1             907\n",
       "2              41\n",
       "3              52"
      ]
     },
     "execution_count": 15,
     "metadata": {},
     "output_type": "execute_result"
    }
   ],
   "source": [
    "pd.crosstab(index=df['Guarantors'], columns='count')"
   ]
  },
  {
   "cell_type": "code",
   "execution_count": 16,
   "metadata": {
    "colab": {
     "base_uri": "https://localhost:8080/",
     "height": 204
    },
    "id": "1UgQAK_7pz07",
    "outputId": "5752ff9a-d2c4-468e-aabf-54b14e878542"
   },
   "outputs": [
    {
     "data": {
      "text/html": [
       "<div>\n",
       "<style scoped>\n",
       "    .dataframe tbody tr th:only-of-type {\n",
       "        vertical-align: middle;\n",
       "    }\n",
       "\n",
       "    .dataframe tbody tr th {\n",
       "        vertical-align: top;\n",
       "    }\n",
       "\n",
       "    .dataframe thead th {\n",
       "        text-align: right;\n",
       "    }\n",
       "</style>\n",
       "<table border=\"1\" class=\"dataframe\">\n",
       "  <thead>\n",
       "    <tr style=\"text-align: right;\">\n",
       "      <th>col_0</th>\n",
       "      <th>count</th>\n",
       "    </tr>\n",
       "    <tr>\n",
       "      <th>Duration in Current address</th>\n",
       "      <th></th>\n",
       "    </tr>\n",
       "  </thead>\n",
       "  <tbody>\n",
       "    <tr>\n",
       "      <th>1</th>\n",
       "      <td>130</td>\n",
       "    </tr>\n",
       "    <tr>\n",
       "      <th>2</th>\n",
       "      <td>308</td>\n",
       "    </tr>\n",
       "    <tr>\n",
       "      <th>3</th>\n",
       "      <td>149</td>\n",
       "    </tr>\n",
       "    <tr>\n",
       "      <th>4</th>\n",
       "      <td>413</td>\n",
       "    </tr>\n",
       "  </tbody>\n",
       "</table>\n",
       "</div>"
      ],
      "text/plain": [
       "col_0                        count\n",
       "Duration in Current address       \n",
       "1                              130\n",
       "2                              308\n",
       "3                              149\n",
       "4                              413"
      ]
     },
     "execution_count": 16,
     "metadata": {},
     "output_type": "execute_result"
    }
   ],
   "source": [
    "pd.crosstab(index=df['Duration in Current address'], columns='count')"
   ]
  },
  {
   "cell_type": "code",
   "execution_count": 17,
   "metadata": {
    "colab": {
     "base_uri": "https://localhost:8080/",
     "height": 204
    },
    "id": "yqf9eRJ_rGO0",
    "outputId": "af99f40a-bc02-4070-b05d-bdab76a88ed0"
   },
   "outputs": [
    {
     "data": {
      "text/html": [
       "<div>\n",
       "<style scoped>\n",
       "    .dataframe tbody tr th:only-of-type {\n",
       "        vertical-align: middle;\n",
       "    }\n",
       "\n",
       "    .dataframe tbody tr th {\n",
       "        vertical-align: top;\n",
       "    }\n",
       "\n",
       "    .dataframe thead th {\n",
       "        text-align: right;\n",
       "    }\n",
       "</style>\n",
       "<table border=\"1\" class=\"dataframe\">\n",
       "  <thead>\n",
       "    <tr style=\"text-align: right;\">\n",
       "      <th>col_0</th>\n",
       "      <th>count</th>\n",
       "    </tr>\n",
       "    <tr>\n",
       "      <th>Most valuable available asset</th>\n",
       "      <th></th>\n",
       "    </tr>\n",
       "  </thead>\n",
       "  <tbody>\n",
       "    <tr>\n",
       "      <th>1</th>\n",
       "      <td>282</td>\n",
       "    </tr>\n",
       "    <tr>\n",
       "      <th>2</th>\n",
       "      <td>232</td>\n",
       "    </tr>\n",
       "    <tr>\n",
       "      <th>3</th>\n",
       "      <td>332</td>\n",
       "    </tr>\n",
       "    <tr>\n",
       "      <th>4</th>\n",
       "      <td>154</td>\n",
       "    </tr>\n",
       "  </tbody>\n",
       "</table>\n",
       "</div>"
      ],
      "text/plain": [
       "col_0                          count\n",
       "Most valuable available asset       \n",
       "1                                282\n",
       "2                                232\n",
       "3                                332\n",
       "4                                154"
      ]
     },
     "execution_count": 17,
     "metadata": {},
     "output_type": "execute_result"
    }
   ],
   "source": [
    "pd.crosstab(index=df['Most valuable available asset'], columns='count')"
   ]
  },
  {
   "cell_type": "code",
   "execution_count": 18,
   "metadata": {
    "colab": {
     "base_uri": "https://localhost:8080/",
     "height": 173
    },
    "id": "DfRo1gYwrFyA",
    "outputId": "3fdb3c15-53f1-475b-9c48-c9e74deb6cf6"
   },
   "outputs": [
    {
     "data": {
      "text/html": [
       "<div>\n",
       "<style scoped>\n",
       "    .dataframe tbody tr th:only-of-type {\n",
       "        vertical-align: middle;\n",
       "    }\n",
       "\n",
       "    .dataframe tbody tr th {\n",
       "        vertical-align: top;\n",
       "    }\n",
       "\n",
       "    .dataframe thead th {\n",
       "        text-align: right;\n",
       "    }\n",
       "</style>\n",
       "<table border=\"1\" class=\"dataframe\">\n",
       "  <thead>\n",
       "    <tr style=\"text-align: right;\">\n",
       "      <th>col_0</th>\n",
       "      <th>count</th>\n",
       "    </tr>\n",
       "    <tr>\n",
       "      <th>Concurrent Credits</th>\n",
       "      <th></th>\n",
       "    </tr>\n",
       "  </thead>\n",
       "  <tbody>\n",
       "    <tr>\n",
       "      <th>1</th>\n",
       "      <td>139</td>\n",
       "    </tr>\n",
       "    <tr>\n",
       "      <th>2</th>\n",
       "      <td>47</td>\n",
       "    </tr>\n",
       "    <tr>\n",
       "      <th>3</th>\n",
       "      <td>814</td>\n",
       "    </tr>\n",
       "  </tbody>\n",
       "</table>\n",
       "</div>"
      ],
      "text/plain": [
       "col_0               count\n",
       "Concurrent Credits       \n",
       "1                     139\n",
       "2                      47\n",
       "3                     814"
      ]
     },
     "execution_count": 18,
     "metadata": {},
     "output_type": "execute_result"
    }
   ],
   "source": [
    "pd.crosstab(index=df['Concurrent Credits'], columns='count')"
   ]
  },
  {
   "cell_type": "code",
   "execution_count": 19,
   "metadata": {
    "colab": {
     "base_uri": "https://localhost:8080/",
     "height": 173
    },
    "id": "qraxwHxIrFrP",
    "outputId": "0ed7469b-134a-4675-f966-74e67e768607"
   },
   "outputs": [
    {
     "data": {
      "text/html": [
       "<div>\n",
       "<style scoped>\n",
       "    .dataframe tbody tr th:only-of-type {\n",
       "        vertical-align: middle;\n",
       "    }\n",
       "\n",
       "    .dataframe tbody tr th {\n",
       "        vertical-align: top;\n",
       "    }\n",
       "\n",
       "    .dataframe thead th {\n",
       "        text-align: right;\n",
       "    }\n",
       "</style>\n",
       "<table border=\"1\" class=\"dataframe\">\n",
       "  <thead>\n",
       "    <tr style=\"text-align: right;\">\n",
       "      <th>col_0</th>\n",
       "      <th>count</th>\n",
       "    </tr>\n",
       "    <tr>\n",
       "      <th>Type of apartment</th>\n",
       "      <th></th>\n",
       "    </tr>\n",
       "  </thead>\n",
       "  <tbody>\n",
       "    <tr>\n",
       "      <th>1</th>\n",
       "      <td>179</td>\n",
       "    </tr>\n",
       "    <tr>\n",
       "      <th>2</th>\n",
       "      <td>714</td>\n",
       "    </tr>\n",
       "    <tr>\n",
       "      <th>3</th>\n",
       "      <td>107</td>\n",
       "    </tr>\n",
       "  </tbody>\n",
       "</table>\n",
       "</div>"
      ],
      "text/plain": [
       "col_0              count\n",
       "Type of apartment       \n",
       "1                    179\n",
       "2                    714\n",
       "3                    107"
      ]
     },
     "execution_count": 19,
     "metadata": {},
     "output_type": "execute_result"
    }
   ],
   "source": [
    "pd.crosstab(index=df['Type of apartment'], columns='count')"
   ]
  },
  {
   "cell_type": "code",
   "execution_count": 20,
   "metadata": {
    "colab": {
     "base_uri": "https://localhost:8080/",
     "height": 204
    },
    "id": "T_1eEgFcrFjc",
    "outputId": "65bad6ad-3e72-4457-a5f4-0c7d78a24580"
   },
   "outputs": [
    {
     "data": {
      "text/html": [
       "<div>\n",
       "<style scoped>\n",
       "    .dataframe tbody tr th:only-of-type {\n",
       "        vertical-align: middle;\n",
       "    }\n",
       "\n",
       "    .dataframe tbody tr th {\n",
       "        vertical-align: top;\n",
       "    }\n",
       "\n",
       "    .dataframe thead th {\n",
       "        text-align: right;\n",
       "    }\n",
       "</style>\n",
       "<table border=\"1\" class=\"dataframe\">\n",
       "  <thead>\n",
       "    <tr style=\"text-align: right;\">\n",
       "      <th>col_0</th>\n",
       "      <th>count</th>\n",
       "    </tr>\n",
       "    <tr>\n",
       "      <th>No of Credits at this Bank</th>\n",
       "      <th></th>\n",
       "    </tr>\n",
       "  </thead>\n",
       "  <tbody>\n",
       "    <tr>\n",
       "      <th>1</th>\n",
       "      <td>633</td>\n",
       "    </tr>\n",
       "    <tr>\n",
       "      <th>2</th>\n",
       "      <td>333</td>\n",
       "    </tr>\n",
       "    <tr>\n",
       "      <th>3</th>\n",
       "      <td>28</td>\n",
       "    </tr>\n",
       "    <tr>\n",
       "      <th>4</th>\n",
       "      <td>6</td>\n",
       "    </tr>\n",
       "  </tbody>\n",
       "</table>\n",
       "</div>"
      ],
      "text/plain": [
       "col_0                       count\n",
       "No of Credits at this Bank       \n",
       "1                             633\n",
       "2                             333\n",
       "3                              28\n",
       "4                               6"
      ]
     },
     "execution_count": 20,
     "metadata": {},
     "output_type": "execute_result"
    }
   ],
   "source": [
    "pd.crosstab(index=df['No of Credits at this Bank'], columns='count')"
   ]
  },
  {
   "cell_type": "code",
   "execution_count": 21,
   "metadata": {
    "colab": {
     "base_uri": "https://localhost:8080/",
     "height": 204
    },
    "id": "izsLYUa-rFbE",
    "outputId": "155219cb-16fc-463b-dd97-947d611c2540"
   },
   "outputs": [
    {
     "data": {
      "text/html": [
       "<div>\n",
       "<style scoped>\n",
       "    .dataframe tbody tr th:only-of-type {\n",
       "        vertical-align: middle;\n",
       "    }\n",
       "\n",
       "    .dataframe tbody tr th {\n",
       "        vertical-align: top;\n",
       "    }\n",
       "\n",
       "    .dataframe thead th {\n",
       "        text-align: right;\n",
       "    }\n",
       "</style>\n",
       "<table border=\"1\" class=\"dataframe\">\n",
       "  <thead>\n",
       "    <tr style=\"text-align: right;\">\n",
       "      <th>col_0</th>\n",
       "      <th>count</th>\n",
       "    </tr>\n",
       "    <tr>\n",
       "      <th>Occupation</th>\n",
       "      <th></th>\n",
       "    </tr>\n",
       "  </thead>\n",
       "  <tbody>\n",
       "    <tr>\n",
       "      <th>1</th>\n",
       "      <td>22</td>\n",
       "    </tr>\n",
       "    <tr>\n",
       "      <th>2</th>\n",
       "      <td>200</td>\n",
       "    </tr>\n",
       "    <tr>\n",
       "      <th>3</th>\n",
       "      <td>630</td>\n",
       "    </tr>\n",
       "    <tr>\n",
       "      <th>4</th>\n",
       "      <td>148</td>\n",
       "    </tr>\n",
       "  </tbody>\n",
       "</table>\n",
       "</div>"
      ],
      "text/plain": [
       "col_0       count\n",
       "Occupation       \n",
       "1              22\n",
       "2             200\n",
       "3             630\n",
       "4             148"
      ]
     },
     "execution_count": 21,
     "metadata": {},
     "output_type": "execute_result"
    }
   ],
   "source": [
    "pd.crosstab(index=df['Occupation'], columns='count')"
   ]
  },
  {
   "cell_type": "code",
   "execution_count": 22,
   "metadata": {
    "colab": {
     "base_uri": "https://localhost:8080/",
     "height": 142
    },
    "id": "hpQA-VwlrFRH",
    "outputId": "f3be23f8-77aa-4c40-ccc3-c297bd43ffc9"
   },
   "outputs": [
    {
     "data": {
      "text/html": [
       "<div>\n",
       "<style scoped>\n",
       "    .dataframe tbody tr th:only-of-type {\n",
       "        vertical-align: middle;\n",
       "    }\n",
       "\n",
       "    .dataframe tbody tr th {\n",
       "        vertical-align: top;\n",
       "    }\n",
       "\n",
       "    .dataframe thead th {\n",
       "        text-align: right;\n",
       "    }\n",
       "</style>\n",
       "<table border=\"1\" class=\"dataframe\">\n",
       "  <thead>\n",
       "    <tr style=\"text-align: right;\">\n",
       "      <th>col_0</th>\n",
       "      <th>count</th>\n",
       "    </tr>\n",
       "    <tr>\n",
       "      <th>No of dependents</th>\n",
       "      <th></th>\n",
       "    </tr>\n",
       "  </thead>\n",
       "  <tbody>\n",
       "    <tr>\n",
       "      <th>1</th>\n",
       "      <td>845</td>\n",
       "    </tr>\n",
       "    <tr>\n",
       "      <th>2</th>\n",
       "      <td>155</td>\n",
       "    </tr>\n",
       "  </tbody>\n",
       "</table>\n",
       "</div>"
      ],
      "text/plain": [
       "col_0             count\n",
       "No of dependents       \n",
       "1                   845\n",
       "2                   155"
      ]
     },
     "execution_count": 22,
     "metadata": {},
     "output_type": "execute_result"
    }
   ],
   "source": [
    "pd.crosstab(index=df['No of dependents'], columns='count')"
   ]
  },
  {
   "cell_type": "code",
   "execution_count": 23,
   "metadata": {
    "colab": {
     "base_uri": "https://localhost:8080/",
     "height": 142
    },
    "id": "fR86miVhrE_A",
    "outputId": "fbbbcfdb-eb68-43f1-c364-5e71ff0a048e"
   },
   "outputs": [
    {
     "data": {
      "text/html": [
       "<div>\n",
       "<style scoped>\n",
       "    .dataframe tbody tr th:only-of-type {\n",
       "        vertical-align: middle;\n",
       "    }\n",
       "\n",
       "    .dataframe tbody tr th {\n",
       "        vertical-align: top;\n",
       "    }\n",
       "\n",
       "    .dataframe thead th {\n",
       "        text-align: right;\n",
       "    }\n",
       "</style>\n",
       "<table border=\"1\" class=\"dataframe\">\n",
       "  <thead>\n",
       "    <tr style=\"text-align: right;\">\n",
       "      <th>col_0</th>\n",
       "      <th>count</th>\n",
       "    </tr>\n",
       "    <tr>\n",
       "      <th>Telephone</th>\n",
       "      <th></th>\n",
       "    </tr>\n",
       "  </thead>\n",
       "  <tbody>\n",
       "    <tr>\n",
       "      <th>1</th>\n",
       "      <td>596</td>\n",
       "    </tr>\n",
       "    <tr>\n",
       "      <th>2</th>\n",
       "      <td>404</td>\n",
       "    </tr>\n",
       "  </tbody>\n",
       "</table>\n",
       "</div>"
      ],
      "text/plain": [
       "col_0      count\n",
       "Telephone       \n",
       "1            596\n",
       "2            404"
      ]
     },
     "execution_count": 23,
     "metadata": {},
     "output_type": "execute_result"
    }
   ],
   "source": [
    "pd.crosstab(index=df['Telephone'], columns='count')"
   ]
  },
  {
   "cell_type": "code",
   "execution_count": 24,
   "metadata": {
    "colab": {
     "base_uri": "https://localhost:8080/",
     "height": 142
    },
    "id": "tHiSJTVJrTgm",
    "outputId": "dad9949f-97c1-47f6-d85e-99e41e154431"
   },
   "outputs": [
    {
     "data": {
      "text/html": [
       "<div>\n",
       "<style scoped>\n",
       "    .dataframe tbody tr th:only-of-type {\n",
       "        vertical-align: middle;\n",
       "    }\n",
       "\n",
       "    .dataframe tbody tr th {\n",
       "        vertical-align: top;\n",
       "    }\n",
       "\n",
       "    .dataframe thead th {\n",
       "        text-align: right;\n",
       "    }\n",
       "</style>\n",
       "<table border=\"1\" class=\"dataframe\">\n",
       "  <thead>\n",
       "    <tr style=\"text-align: right;\">\n",
       "      <th>col_0</th>\n",
       "      <th>count</th>\n",
       "    </tr>\n",
       "    <tr>\n",
       "      <th>Foreign Worker</th>\n",
       "      <th></th>\n",
       "    </tr>\n",
       "  </thead>\n",
       "  <tbody>\n",
       "    <tr>\n",
       "      <th>1</th>\n",
       "      <td>963</td>\n",
       "    </tr>\n",
       "    <tr>\n",
       "      <th>2</th>\n",
       "      <td>37</td>\n",
       "    </tr>\n",
       "  </tbody>\n",
       "</table>\n",
       "</div>"
      ],
      "text/plain": [
       "col_0           count\n",
       "Foreign Worker       \n",
       "1                 963\n",
       "2                  37"
      ]
     },
     "execution_count": 24,
     "metadata": {},
     "output_type": "execute_result"
    }
   ],
   "source": [
    "pd.crosstab(index=df['Foreign Worker'], columns='count')"
   ]
  },
  {
   "cell_type": "markdown",
   "metadata": {
    "id": "NJslk34zZifY"
   },
   "source": [
    "## Detect Outliers on Continuous Variables\n",
    " - Duration of Credit (month)\n",
    " - Credit Amount\n",
    " - Age (years)"
   ]
  },
  {
   "cell_type": "code",
   "execution_count": 25,
   "metadata": {
    "id": "ChnJ-ZGW0eJR"
   },
   "outputs": [],
   "source": [
    "#function to detect outliers in a dataset using Z score\n",
    "import numpy as np\n",
    "import pandas as pd\n",
    "\n",
    "def detect_outlier(data_1):\n",
    "    outliers1=[]\n",
    "    threshold= 3\n",
    "    mean_1 = np.mean(data_1)\n",
    "    std_1 =np.std(data_1)\n",
    "    \n",
    "    \n",
    "    for y in data_1:\n",
    "        z_score= (y - mean_1)/std_1 \n",
    "        if np.abs(z_score) > threshold:\n",
    "            outliers1.append(y)\n",
    "    if outliers1 == []:\n",
    "      print(\"There are no outliers by checking z-score.\")\n",
    "    else: return outliers1   "
   ]
  },
  {
   "cell_type": "code",
   "execution_count": 26,
   "metadata": {
    "id": "dybm29y0EuNs"
   },
   "outputs": [],
   "source": [
    "#function to detect outliers in a dataset using IQR method\n",
    "import numpy as np \n",
    "import pandas as pd\n",
    "\n",
    "def detect_outlier2(data_1):\n",
    "    outliers2=[]\n",
    "    #sorted(data_1)\n",
    "    q1, q3= np.percentile(sorted(data_1),[25,75])\n",
    "    iqr=q3-q1\n",
    "    #print ('iqr,q1,q3', iqr,q1,q3)\n",
    "    lower_bound = q1 - (1.5 * iqr)\n",
    "    upper_bound = q3 + (1.5 * iqr)\n",
    "    print('lower_bound =', lower_bound, 'upper_bound =', upper_bound)\n",
    "    for y in data_1:\n",
    "        if (y < lower_bound or y > upper_bound):\n",
    "            outliers2.append(y)\n",
    "    if outliers2 == []:\n",
    "      print(\"There are no outliers by checking IQR.\")\n",
    "    else: return outliers2 "
   ]
  },
  {
   "cell_type": "code",
   "execution_count": 27,
   "metadata": {
    "colab": {
     "base_uri": "https://localhost:8080/"
    },
    "id": "1aldxneRjvVf",
    "outputId": "bcb7c301-97e4-4e7b-dc30-292d4fdc6615"
   },
   "outputs": [
    {
     "name": "stdout",
     "output_type": "stream",
     "text": [
      "[60, 60, 60, 60, 60, 60, 72, 60, 60, 60, 60, 60, 60, 60]\n",
      "lower_bound = -6.0 upper_bound = 42.0\n",
      "[48, 48, 48, 48, 48, 48, 48, 48, 47, 48, 60, 54, 48, 48, 60, 48, 60, 48, 48, 60, 48, 48, 48, 48, 48, 48, 60, 60, 45, 48, 48, 48, 72, 48, 60, 60, 48, 60, 60, 48, 60, 48, 48, 48, 60, 45, 48, 48, 48, 48, 48, 48, 48, 60, 48, 48, 48, 48, 48, 48, 45, 48, 54, 48, 45, 48, 45, 48, 48, 48]\n"
     ]
    }
   ],
   "source": [
    "#detect outliers on 'Duration of Credit (month)'\n",
    "data_variable03= df.loc[:,'Duration of Credit (month)']\n",
    "outlier_datapoints03 = detect_outlier(data_variable03)\n",
    "print(outlier_datapoints03)\n",
    "outlier_datapoints031 = detect_outlier2(data_variable03)\n",
    "print(outlier_datapoints031)"
   ]
  },
  {
   "cell_type": "code",
   "execution_count": 28,
   "metadata": {
    "colab": {
     "base_uri": "https://localhost:8080/",
     "height": 282
    },
    "id": "14eaGd6gqrt1",
    "outputId": "fd80a9e7-f039-4d34-9494-9f5cf1d9eace"
   },
   "outputs": [
    {
     "data": {
      "text/plain": [
       "<matplotlib.axes._subplots.AxesSubplot at 0x1bf36661cd0>"
      ]
     },
     "execution_count": 28,
     "metadata": {},
     "output_type": "execute_result"
    },
    {
     "data": {
      "image/png": "[encoded data removed]",
      "text/plain": [
       "<Figure size 432x288 with 1 Axes>"
      ]
     },
     "metadata": {
      "needs_background": "light"
     },
     "output_type": "display_data"
    }
   ],
   "source": [
    "#detect outliers on 'Duration of Credit (month)' by using boxplot\n",
    "import seaborn as sns\n",
    "import matplotlib.pyplot as plt\n",
    "\n",
    "sns.boxplot(data=df['Duration of Credit (month)'])"
   ]
  },
  {
   "cell_type": "code",
   "execution_count": 29,
   "metadata": {
    "colab": {
     "base_uri": "https://localhost:8080/"
    },
    "id": "N99uRI6Jpt_P",
    "outputId": "3a973c50-ca57-4d6f-c6ed-efe3bd15abce"
   },
   "outputs": [
    {
     "name": "stdout",
     "output_type": "stream",
     "text": [
      "[12749, 12169, 13756, 11760, 14179, 12204, 15857, 15653, 14555, 14318, 15672, 11938, 14782, 12612, 14027, 12976, 14421, 12389, 15945, 11816, 11998, 18424, 14896, 12579, 12680]\n",
      "lower_bound = -2544.625 upper_bound = 7882.375\n",
      "[10875, 8858, 12749, 8072, 8487, 12169, 10722, 8613, 8588, 10366, 8133, 9436, 10477, 13756, 11760, 14179, 10974, 9566, 8358, 9857, 10222, 9055, 7966, 12204, 8229, 10623, 9277, 15857, 10144, 15653, 8335, 8471, 8947, 11054, 9157, 9283, 14555, 9271, 8386, 14318, 15672, 10961, 7980, 11560, 11328, 11938, 14782, 12612, 9398, 9572, 8065, 9034, 14027, 9629, 12976, 10297, 14421, 8086, 10127, 12389, 11590, 15945, 9960, 8648, 8318, 11816, 11998, 18424, 14896, 8978, 12579, 12680]\n"
     ]
    }
   ],
   "source": [
    "#detect outliers on 'Credit Amount'\n",
    "data_variable06= df.loc[:,'Credit Amount']\n",
    "outlier_datapoints06 = detect_outlier(data_variable06)\n",
    "print(outlier_datapoints06)\n",
    "outlier_datapoints061 = detect_outlier2(data_variable06)\n",
    "print(outlier_datapoints061)"
   ]
  },
  {
   "cell_type": "code",
   "execution_count": 30,
   "metadata": {
    "colab": {
     "base_uri": "https://localhost:8080/",
     "height": 282
    },
    "id": "x9rUOihuq298",
    "outputId": "a98de128-f661-4182-d076-17e292ec4f9f"
   },
   "outputs": [
    {
     "data": {
      "text/plain": [
       "<matplotlib.axes._subplots.AxesSubplot at 0x1bf36dae6d0>"
      ]
     },
     "execution_count": 30,
     "metadata": {},
     "output_type": "execute_result"
    },
    {
     "data": {
      "image/png": "[encoded data removed]",
      "text/plain": [
       "<Figure size 432x288 with 1 Axes>"
      ]
     },
     "metadata": {
      "needs_background": "light"
     },
     "output_type": "display_data"
    }
   ],
   "source": [
    "#detect outliers on 'Credit Amount' by using boxplot\n",
    "sns.boxplot(data=df['Credit Amount'])"
   ]
  },
  {
   "cell_type": "code",
   "execution_count": 31,
   "metadata": {
    "id": "5Oy-bOglsSCm"
   },
   "outputs": [],
   "source": [
    "\n",
    "def estimate_gaussian(dataset):\n",
    "\n",
    "    mu = np.mean(dataset) # moyenne cf mu\n",
    "    sigma = np.std(dataset) # écart_type/standard deviation\n",
    "    limit = sigma * 1.5\n",
    "\n",
    "    min_threshold = mu - limit\n",
    "    max_threshold = mu + limit\n",
    "\n",
    "    return mu, sigma, min_threshold, max_threshold\n",
    "\n"
   ]
  },
  {
   "cell_type": "code",
   "execution_count": 32,
   "metadata": {
    "colab": {
     "base_uri": "https://localhost:8080/",
     "height": 325
    },
    "id": "hxm6THGfs-Nn",
    "outputId": "cd5745b2-9f26-44e6-92fe-4605a0c11a5f"
   },
   "outputs": [
    {
     "data": {
      "image/png": "[encoded data removed]",
      "text/plain": [
       "<Figure size 432x288 with 1 Axes>"
      ]
     },
     "metadata": {
      "needs_background": "light"
     },
     "output_type": "display_data"
    }
   ],
   "source": [
    "#detect outliers on 'Duration of Credit (month)' and 'Credit Amount' by using scatter plot\n",
    "mu, sigma, min_threshold, max_threshold = estimate_gaussian(df['Credit Amount'].values)\n",
    "\n",
    "xs = df['Duration of Credit (month)']\n",
    "ys = df['Credit Amount']\n",
    "\n",
    "for x, y in zip(xs, ys):\n",
    "    color = 'blue'  # non-outlier color\n",
    "    if not min_threshold <= y <= max_threshold:  # condition for being an outlier\n",
    "        color = 'red'  # outlier color\n",
    "    plt.scatter(x, y, color=color)\n",
    "plt.show()"
   ]
  },
  {
   "cell_type": "code",
   "execution_count": 33,
   "metadata": {
    "colab": {
     "base_uri": "https://localhost:8080/"
    },
    "id": "unXgF2ga3YEW",
    "outputId": "bdce04fa-f665-4809-9fd7-60f3ce9b1c69"
   },
   "outputs": [
    {
     "name": "stdout",
     "output_type": "stream",
     "text": [
      "outliers using z-score \n",
      " [70, 74, 74, 74, 74, 75, 75]\n",
      "lower_bound = 4.5 upper_bound = 64.5\n",
      "outliers using IQR \n",
      " [65, 65, 65, 65, 65, 66, 66, 66, 66, 66, 67, 67, 67, 68, 68, 68, 70, 74, 74, 74, 74, 75, 75]\n"
     ]
    }
   ],
   "source": [
    "#detect outliers on 'Age(years)'\n",
    "data_variable14= df.loc[:,'Age (years)']\n",
    "outlier_datapoints141 = detect_outlier(data_variable14)\n",
    "#print(data_variable14)\n",
    "#sorted (outlier_datapoints141)\n",
    "print('outliers using z-score \\n', sorted (outlier_datapoints141))\n",
    "outlier_datapoints14 = detect_outlier2(data_variable14)\n",
    "#print(data_variable14)\n",
    "print('outliers using IQR \\n', sorted (outlier_datapoints14))"
   ]
  },
  {
   "cell_type": "code",
   "execution_count": 34,
   "metadata": {
    "colab": {
     "base_uri": "https://localhost:8080/",
     "height": 282
    },
    "id": "gtDmjnohzVkg",
    "outputId": "62494d24-a9b0-4e4f-a7a5-b9a4d1cf08af"
   },
   "outputs": [
    {
     "data": {
      "text/plain": [
       "<matplotlib.axes._subplots.AxesSubplot at 0x1bf36e0adc0>"
      ]
     },
     "execution_count": 34,
     "metadata": {},
     "output_type": "execute_result"
    },
    {
     "data": {
      "image/png": "[encoded data removed]",
      "text/plain": [
       "<Figure size 432x288 with 1 Axes>"
      ]
     },
     "metadata": {
      "needs_background": "light"
     },
     "output_type": "display_data"
    }
   ],
   "source": [
    "#detect outliers on 'Age(years)' by using boxplot\n",
    "sns.boxplot(data=df['Age (years)'])"
   ]
  },
  {
   "cell_type": "code",
   "execution_count": 35,
   "metadata": {
    "colab": {
     "base_uri": "https://localhost:8080/",
     "height": 265
    },
    "id": "rZYLDpLSz5Yh",
    "outputId": "c4c56acd-c270-41d6-8991-47a120feb9ba"
   },
   "outputs": [
    {
     "data": {
      "image/png": "[encoded data removed]",
      "text/plain": [
       "<Figure size 432x288 with 1 Axes>"
      ]
     },
     "metadata": {
      "needs_background": "light"
     },
     "output_type": "display_data"
    }
   ],
   "source": [
    "mu, sigma, min_threshold, max_threshold = estimate_gaussian(df['Age (years)'].values)\n",
    "\n",
    "xs = df['No of Credits at this Bank']\n",
    "ys = df['Age (years)']\n",
    "\n",
    "for x, y in zip(xs, ys):\n",
    "    color = 'blue'  # non-outlier color\n",
    "    if not min_threshold <= y <= max_threshold:  # condition for being an outlier\n",
    "        color = 'red'  # outlier color\n",
    "    plt.scatter(x, y, color=color)\n",
    "plt.show()"
   ]
  },
  {
   "cell_type": "markdown",
   "metadata": {},
   "source": [
    "# 2. Exploratory Data Analysis"
   ]
  },
  {
   "cell_type": "markdown",
   "metadata": {
    "id": "WCi5Q-t5u8wv"
   },
   "source": [
    "## Distribution of variables with numerical values - plotting histograms\n",
    "- Duration of Credit (month)\n",
    "- Credit Amount\n",
    "- Instalment percent\n",
    "- Age (years)\n",
    "- No of Credits at this Bank:\n",
    "- No of dependents"
   ]
  },
  {
   "cell_type": "code",
   "execution_count": 36,
   "metadata": {
    "colab": {
     "base_uri": "https://localhost:8080/",
     "height": 413
    },
    "id": "dUB9oE0n3BPR",
    "outputId": "d9f7c78f-8ae2-4061-d7fb-4a8cc6ac6873"
   },
   "outputs": [
    {
     "data": {
      "text/plain": [
       "[Text(0, 0.5, 'Count'), Text(0.5, 0, 'Duration of Credit (month)')]"
      ]
     },
     "execution_count": 36,
     "metadata": {},
     "output_type": "execute_result"
    },
    {
     "data": {
      "image/png": "[encoded data removed]",
      "text/plain": [
       "<Figure size 576x360 with 1 Axes>"
      ]
     },
     "metadata": {},
     "output_type": "display_data"
    }
   ],
   "source": [
    "import seaborn as sns\n",
    "# Distribution of 'Duration of Credit (month)'\n",
    "sns.set(style='whitegrid', palette=\"deep\", font_scale=1.1, rc={\"figure.figsize\": [8, 5]})\n",
    "sns.distplot(\n",
    "    df['Duration of Credit (month)'], norm_hist=False, kde=False, bins=20, hist_kws={\"alpha\": 1}\n",
    ").set(xlabel='Duration of Credit (month)', ylabel='Count')"
   ]
  },
  {
   "cell_type": "code",
   "execution_count": 37,
   "metadata": {
    "colab": {
     "base_uri": "https://localhost:8080/",
     "height": 413
    },
    "id": "T2k7ScZA1UwR",
    "outputId": "836b286a-78b8-4459-828f-a00cc20031b1"
   },
   "outputs": [
    {
     "data": {
      "text/plain": [
       "[Text(0, 0.5, 'Count'), Text(0.5, 0, 'Credit Amount')]"
      ]
     },
     "execution_count": 37,
     "metadata": {},
     "output_type": "execute_result"
    },
    {
     "data": {
      "image/png": "[encoded data removed]",
      "text/plain": [
       "<Figure size 576x360 with 1 Axes>"
      ]
     },
     "metadata": {},
     "output_type": "display_data"
    }
   ],
   "source": [
    "# Distribution of 'Credit Amount'\n",
    "sns.set(style='whitegrid', palette=\"deep\", font_scale=1.1, rc={\"figure.figsize\": [8, 5]})\n",
    "sns.distplot(\n",
    "    df['Credit Amount'], norm_hist=False, kde=False, bins=20, hist_kws={\"alpha\": 1}\n",
    ").set(xlabel='Credit Amount', ylabel='Count')"
   ]
  },
  {
   "cell_type": "code",
   "execution_count": 38,
   "metadata": {
    "colab": {
     "base_uri": "https://localhost:8080/",
     "height": 413
    },
    "id": "LAU435gQ2GZB",
    "outputId": "dfb44c30-6866-446a-b563-ac8428ffe41f"
   },
   "outputs": [
    {
     "data": {
      "text/plain": [
       "[Text(0, 0.5, 'Count'), Text(0.5, 0, 'Instalment percent')]"
      ]
     },
     "execution_count": 38,
     "metadata": {},
     "output_type": "execute_result"
    },
    {
     "data": {
      "image/png": "[encoded data removed]",
      "text/plain": [
       "<Figure size 576x360 with 1 Axes>"
      ]
     },
     "metadata": {},
     "output_type": "display_data"
    }
   ],
   "source": [
    "# Distribution of 'Instalment percent'\n",
    "sns.set(style='whitegrid', palette=\"deep\", font_scale=1.1, rc={\"figure.figsize\": [8, 5]})\n",
    "sns.distplot(\n",
    "    df['Instalment per cent'], norm_hist=False, kde=False, bins=20, hist_kws={\"alpha\": 1}\n",
    ").set(xlabel='Instalment percent', ylabel='Count')"
   ]
  },
  {
   "cell_type": "code",
   "execution_count": 39,
   "metadata": {
    "colab": {
     "base_uri": "https://localhost:8080/",
     "height": 413
    },
    "id": "6z9RFR8u3LHQ",
    "outputId": "1c051b35-d7dc-4ddf-94fd-b0d89ffef983"
   },
   "outputs": [
    {
     "data": {
      "text/plain": [
       "[Text(0, 0.5, 'Count'), Text(0.5, 0, 'Age (years)')]"
      ]
     },
     "execution_count": 39,
     "metadata": {},
     "output_type": "execute_result"
    },
    {
     "data": {
      "image/png": "[encoded data removed]",
      "text/plain": [
       "<Figure size 576x360 with 1 Axes>"
      ]
     },
     "metadata": {},
     "output_type": "display_data"
    }
   ],
   "source": [
    "# Distribution of 'Age (years)'\n",
    "sns.set(style='whitegrid', palette=\"deep\", font_scale=1.1, rc={\"figure.figsize\": [8, 5]})\n",
    "sns.distplot(\n",
    "    df['Age (years)'], norm_hist=False, kde=False, bins=20, hist_kws={\"alpha\": 1}\n",
    ").set(xlabel='Age (years)', ylabel='Count')"
   ]
  },
  {
   "cell_type": "code",
   "execution_count": 40,
   "metadata": {
    "colab": {
     "base_uri": "https://localhost:8080/",
     "height": 413
    },
    "id": "Ofl8VhM21HNW",
    "outputId": "741b90ac-0554-4307-d930-7eec2b3bf4f2"
   },
   "outputs": [
    {
     "data": {
      "text/plain": [
       "[Text(0, 0.5, 'Count'), Text(0.5, 0, 'No of Credits at this Bank')]"
      ]
     },
     "execution_count": 40,
     "metadata": {},
     "output_type": "execute_result"
    },
    {
     "data": {
      "image/png": "[encoded data removed]",
      "text/plain": [
       "<Figure size 576x360 with 1 Axes>"
      ]
     },
     "metadata": {},
     "output_type": "display_data"
    }
   ],
   "source": [
    "# Distribution of ''No of Credits at this Bank'\n",
    "sns.set(style='whitegrid', palette=\"deep\", font_scale=1.1, rc={\"figure.figsize\": [8, 5]})\n",
    "sns.distplot(\n",
    "    df['No of Credits at this Bank'], norm_hist=False, kde=False, bins=20, hist_kws={\"alpha\": 1}\n",
    ").set(xlabel='No of Credits at this Bank', ylabel='Count')"
   ]
  },
  {
   "cell_type": "code",
   "execution_count": 41,
   "metadata": {
    "colab": {
     "base_uri": "https://localhost:8080/",
     "height": 413
    },
    "id": "YnCC2VQv271I",
    "outputId": "e22871d4-0ee5-443c-b03d-286e42c2f3aa"
   },
   "outputs": [
    {
     "data": {
      "text/plain": [
       "[Text(0, 0.5, 'Count'), Text(0.5, 0, 'No of dependents')]"
      ]
     },
     "execution_count": 41,
     "metadata": {},
     "output_type": "execute_result"
    },
    {
     "data": {
      "image/png": "[encoded data removed]",
      "text/plain": [
       "<Figure size 576x360 with 1 Axes>"
      ]
     },
     "metadata": {},
     "output_type": "display_data"
    }
   ],
   "source": [
    "# Distribution of 'No of dependents'\n",
    "sns.set(style='whitegrid', palette=\"deep\", font_scale=1.1, rc={\"figure.figsize\": [8, 5]})\n",
    "sns.distplot(\n",
    "    df['No of dependents'], norm_hist=False, kde=False, bins=20, hist_kws={\"alpha\": 1}\n",
    ").set(xlabel='No of dependents', ylabel='Count')"
   ]
  },
  {
   "cell_type": "code",
   "execution_count": 42,
   "metadata": {
    "colab": {
     "base_uri": "https://localhost:8080/",
     "height": 538
    },
    "id": "RBYRiUdj6Lq9",
    "outputId": "20ade4f0-85f0-466f-91cf-40cf82513634"
   },
   "outputs": [
    {
     "data": {
      "text/plain": [
       "array([[<matplotlib.axes._subplots.AxesSubplot object at 0x000001BF3730DA30>,\n",
       "        <matplotlib.axes._subplots.AxesSubplot object at 0x000001BF37198C40>],\n",
       "       [<matplotlib.axes._subplots.AxesSubplot object at 0x000001BF371C9130>,\n",
       "        <matplotlib.axes._subplots.AxesSubplot object at 0x000001BF36F17FA0>]],\n",
       "      dtype=object)"
      ]
     },
     "execution_count": 42,
     "metadata": {},
     "output_type": "execute_result"
    },
    {
     "data": {
      "image/png": "[encoded data removed]",
      "text/plain": [
       "<Figure size 1440x720 with 4 Axes>"
      ]
     },
     "metadata": {},
     "output_type": "display_data"
    }
   ],
   "source": [
    "df.hist(['Age (years)', 'Credit Amount','Duration of Credit (month)'], figsize=(20,10))"
   ]
  },
  {
   "cell_type": "markdown",
   "metadata": {
    "id": "WBfKhHlF7o4P"
   },
   "source": [
    "**Here these histograms show Slightly skewed distribution for Age, Credit Amount and Duration of credit,**"
   ]
  },
  {
   "cell_type": "markdown",
   "metadata": {
    "id": "8o3Y4OwyuFhR"
   },
   "source": [
    "## Analyze correlation between independent variables and targeted variable - 'Creditability'."
   ]
  },
  {
   "cell_type": "markdown",
   "metadata": {
    "id": "b_bcPo4hG6nV"
   },
   "source": [
    "**Feature Selection**\n",
    "Now its time to finally choose the best columns(Features) which are correlated to the Target variable. This can be done directly by measuring the correlation values or ANOVA/Chi-Square tests. However, it is always helpful to visualize the relation between the Target variable and each of the predictors to get a better sense of data.\n",
    "\n",
    "I have listed below the techniques used for visualizing relationship between two variables as well as measuring the strength statistically.\n",
    "\n",
    "**Visual exploration of relationship between variables**\n",
    "\n",
    "\n",
    "*   Continuous Vs Continuous ---- Scatter Plot\n",
    "*   Categorical Vs Continuous---- Box Plot\n",
    "*  Categorical Vs Categorical---- Grouped Bar Plots\n",
    "\n",
    "\n",
    "\n",
    "\n",
    "**Statistical measurement of relationship strength between variables**\n",
    "\n",
    "\n",
    "*   Continuous Vs Continuous ---- Correlation matrix\n",
    "*   Categorical Vs Continuous---- ANOVA test\n",
    "*   Categorical Vs Categorical--- Chi-Square test\n",
    "\n",
    "\n",
    "\n",
    "\n",
    "\n",
    "\n",
    "In this case study the Target variable is categorical, hence below two scenarios will be present\n",
    "\n",
    "**Categorical Target Variable Vs Continuous Predictor**\n",
    "**Categorical Target Variable Vs Categorical Predicto**"
   ]
  },
  {
   "cell_type": "markdown",
   "metadata": {
    "id": "xtj1WHGyHzgB"
   },
   "source": [
    "### Relationship Exploration: Categorical Vs Continuous -- Box Plots\n",
    "When the target variable is Categorical and the predictor variable is Continuous we analyze the relation using bar plots/Boxplots and measure the strength of relation using Anova test"
   ]
  },
  {
   "cell_type": "code",
   "execution_count": 43,
   "metadata": {
    "colab": {
     "base_uri": "https://localhost:8080/",
     "height": 413
    },
    "id": "YeAMtUYzJAqC",
    "outputId": "570893fc-f31e-470c-8542-36e94b7089d4"
   },
   "outputs": [
    {
     "data": {
      "image/png": "[encoded data removed]",
      "text/plain": [
       "<Figure size 1296x360 with 3 Axes>"
      ]
     },
     "metadata": {},
     "output_type": "display_data"
    }
   ],
   "source": [
    "# Box plots for Categorical Target Variable \"Credibility\" and continuous predictors\n",
    "ContinuousColsList=['Age (years)','Credit Amount', 'Duration of Credit (month)']\n",
    "import matplotlib.pyplot as plt\n",
    "\n",
    "fig, PlotCanvas=plt.subplots(nrows=1, ncols=len(ContinuousColsList), figsize=(18,5))\n",
    "for PredictorCol , i in zip(ContinuousColsList, range(len(ContinuousColsList))):\n",
    "    df.boxplot(column=PredictorCol, by='Creditability',  figsize=(5,5), vert=True, ax=PlotCanvas[i])\n"
   ]
  },
  {
   "cell_type": "markdown",
   "metadata": {
    "id": "kJjy87pqMxvA"
   },
   "source": [
    "**Box-Plots interpretation**\n",
    "What should you look for in these box plots?\n",
    "\n",
    "These plots gives an idea about the data distribution of continuous predictor in the Y-axis for each of the category in the X-Axis.\n",
    "\n",
    "If the distribution looks similar for each category(Boxes are in the same line), that means the the continuous variable has NO effect on the target variable. Hence, the variables are not correlated to each other.\n",
    "\n",
    "For example, look at the first chart \"Age (years)\" Vs \"Creditability\". The boxes are in the similar line! It means that people whose loan was rejected and whose loan was approved have same kind of age. Hence, I cannot distinguish between approval and rejection based on the age of an applicant. So this column is NOT correlated with the Creditability.\n",
    "\n",
    "The other other two charts also exhibit opposite characteristics, hence \"Credit Amountt\" and \"Duration of Credit (month)\" are correlated with the target variable.\n",
    "\n",
    "We confirm this by looking at the results of ANOVA test below"
   ]
  },
  {
   "cell_type": "markdown",
   "metadata": {
    "id": "D98nkBsiNRbQ"
   },
   "source": [
    "**Statistical Feature Selection (Categorical Vs Continuous) using ANOVA test**\n",
    "Analysis of variance(ANOVA) is performed to check if there is any relationship between the given continuous and categorical variable\n",
    "\n",
    "* Assumption(H0): There is NO relation between the given variables (i.e. The average(mean) values of the numeric Predictor variable is same for all the groups in the categorical Target variable)\n",
    "* ANOVA Test result: Probability of H0 being true"
   ]
  },
  {
   "cell_type": "code",
   "execution_count": 44,
   "metadata": {
    "id": "J7X3-folNndV"
   },
   "outputs": [],
   "source": [
    "def FunctionAnova(inpData, TargetVariable, ContinuousPredictorList):\n",
    "    from scipy.stats import f_oneway\n",
    "\n",
    "    # Creating an empty list of final selected predictors\n",
    "    SelectedPredictors=[]\n",
    "    \n",
    "    print('##### ANOVA Results ##### \\n')\n",
    "    for predictor in ContinuousPredictorList:\n",
    "        CategoryGroupLists=inpData.groupby(TargetVariable)[predictor].apply(list)\n",
    "        AnovaResults = f_oneway(*CategoryGroupLists)\n",
    "        \n",
    "        # If the ANOVA P-Value is <0.05, that means we reject H0\n",
    "        if (AnovaResults[1] < 0.05):\n",
    "            print(predictor, 'is correlated with', TargetVariable, '| P-Value:', AnovaResults[1])\n",
    "            SelectedPredictors.append(predictor)\n",
    "        else:\n",
    "            print(predictor, 'is NOT correlated with', TargetVariable, '| P-Value:', AnovaResults[1])\n",
    "    \n",
    "    return(SelectedPredictors)"
   ]
  },
  {
   "cell_type": "code",
   "execution_count": 45,
   "metadata": {
    "colab": {
     "base_uri": "https://localhost:8080/"
    },
    "id": "_nL44NNjNrgD",
    "outputId": "0d25c813-61f7-4db4-83ff-85e7894c668c"
   },
   "outputs": [
    {
     "name": "stdout",
     "output_type": "stream",
     "text": [
      "##### ANOVA Results ##### \n",
      "\n",
      "Age (years) is correlated with Creditability | P-Value: 0.003868455281308189\n",
      "Credit Amount is correlated with Creditability | P-Value: 8.795399017206301e-07\n",
      "Duration of Credit (month) is correlated with Creditability | P-Value: 6.488049877187189e-12\n"
     ]
    },
    {
     "data": {
      "text/plain": [
       "['Age (years)', 'Credit Amount', 'Duration of Credit (month)']"
      ]
     },
     "execution_count": 45,
     "metadata": {},
     "output_type": "execute_result"
    }
   ],
   "source": [
    "# Calling the function to check which categorical variables are correlated with target\n",
    "ContinuousVariables=['Age (years)','Credit Amount', 'Duration of Credit (month)']\n",
    "FunctionAnova(inpData=df, TargetVariable='Creditability', ContinuousPredictorList=ContinuousVariables)"
   ]
  },
  {
   "cell_type": "markdown",
   "metadata": {
    "id": "177jwMcCOL6m"
   },
   "source": [
    "The results of ANOVA confirm our visual analysis using box plots above!\n",
    "\n",
    "Notice the P-Value of \"Age (years)\", it is just at the boundry of the threshold. This is something we already doubted in the box plots section already.\n",
    "\n",
    "While the other two P-Values are clearly zero, hence they are correlated without doubt.\n",
    "\n",
    "All three columns are correlated with Creditability."
   ]
  },
  {
   "cell_type": "markdown",
   "metadata": {
    "id": "aaIYXjXZcIvo"
   },
   "source": [
    "### Relationship Exploration: Categorical Vs Categorical -- Histrogram"
   ]
  },
  {
   "cell_type": "code",
   "execution_count": 46,
   "metadata": {
    "colab": {
     "base_uri": "https://localhost:8080/",
     "height": 342
    },
    "id": "82GECLFIv19K",
    "outputId": "020bd9db-0b00-41fa-f7c6-32ce606a0fc3"
   },
   "outputs": [
    {
     "data": {
      "image/png": "[encoded data removed]",
      "text/plain": [
       "<Figure size 1008x360 with 1 Axes>"
      ]
     },
     "metadata": {},
     "output_type": "display_data"
    }
   ],
   "source": [
    "plt.figure(figsize=(14,5))\n",
    "\n",
    "plt.subplot(1,2,1)\n",
    "plt.hist(df['Account Balance'][df['Creditability'] == 1], bins=15, alpha = 0.7, label = 'Good Credit',color=\"blue\")\n",
    "plt.hist(df['Account Balance'][df['Creditability'] == 0], bins=15, alpha = 0.7, label = 'Bad Credit',color=\"green\")\n",
    "plt.ylabel('Distribution')\n",
    "plt.xlabel('Account Balance')\n",
    "plt.legend()\n",
    "\n",
    "plt.show()"
   ]
  },
  {
   "cell_type": "code",
   "execution_count": 47,
   "metadata": {
    "colab": {
     "base_uri": "https://localhost:8080/",
     "height": 342
    },
    "id": "ddwp4B3kwhfU",
    "outputId": "48f25015-a9f4-43e7-afe4-4689406e02c0"
   },
   "outputs": [
    {
     "data": {
      "image/png": "[encoded data removed]",
      "text/plain": [
       "<Figure size 1008x360 with 1 Axes>"
      ]
     },
     "metadata": {},
     "output_type": "display_data"
    }
   ],
   "source": [
    "plt.figure(figsize=(14,5))\n",
    "\n",
    "plt.subplot(1,2,1)\n",
    "plt.hist(df['Payment Status of Previous Credit'][df['Creditability'] == 1], bins=15, alpha = 0.7, label = 'Good Credit',color=\"blue\")\n",
    "plt.hist(df['Payment Status of Previous Credit'][df['Creditability'] == 0], bins=15, alpha = 0.7, label = 'Bad Credit',color=\"green\")\n",
    "plt.ylabel('Distribution')\n",
    "plt.xlabel('Payment Status of Previous Credit')\n",
    "plt.legend()\n",
    "\n",
    "plt.show()"
   ]
  },
  {
   "cell_type": "code",
   "execution_count": 48,
   "metadata": {
    "colab": {
     "base_uri": "https://localhost:8080/",
     "height": 342
    },
    "id": "R80UW_430-8q",
    "outputId": "18411686-b43b-40ff-ee2b-92a9e5887c01"
   },
   "outputs": [
    {
     "data": {
      "image/png": "[encoded data removed]",
      "text/plain": [
       "<Figure size 1008x360 with 1 Axes>"
      ]
     },
     "metadata": {},
     "output_type": "display_data"
    }
   ],
   "source": [
    "plt.figure(figsize=(14,5))\n",
    "\n",
    "plt.subplot(1,2,1)\n",
    "plt.hist(df['Purpose'][df['Creditability'] == 1], bins=15, alpha = 0.7, label = 'Good Credit',color=\"blue\")\n",
    "plt.hist(df['Purpose'][df['Creditability'] == 0], bins=15, alpha = 0.7, label = 'Bad Credit',color=\"green\")\n",
    "plt.ylabel('Distribution')\n",
    "plt.xlabel('Purpose')\n",
    "plt.legend()\n",
    "\n",
    "plt.show()"
   ]
  },
  {
   "cell_type": "code",
   "execution_count": 49,
   "metadata": {
    "colab": {
     "base_uri": "https://localhost:8080/",
     "height": 344
    },
    "id": "6X5zmQgS2E_V",
    "outputId": "ec44f31e-96ac-456f-c819-9ac9e0573111"
   },
   "outputs": [
    {
     "data": {
      "image/png": "[encoded data removed]",
      "text/plain": [
       "<Figure size 1008x360 with 1 Axes>"
      ]
     },
     "metadata": {},
     "output_type": "display_data"
    }
   ],
   "source": [
    "plt.figure(figsize=(14,5))\n",
    "\n",
    "plt.subplot(1,2,1)\n",
    "plt.hist(df['Value Savings/Stocks'][df['Creditability'] == 1], bins=15, alpha = 0.7, label = 'Good Credit',color=\"blue\")\n",
    "plt.hist(df['Value Savings/Stocks'][df['Creditability'] == 0], bins=15, alpha = 0.7, label = 'Bad Credit',color=\"green\")\n",
    "plt.ylabel('Distribution')\n",
    "plt.xlabel('Value Savings/Stocks')\n",
    "plt.legend()\n",
    "\n",
    "plt.show()"
   ]
  },
  {
   "cell_type": "code",
   "execution_count": 50,
   "metadata": {
    "colab": {
     "base_uri": "https://localhost:8080/",
     "height": 342
    },
    "id": "Yug_XE-s2MgC",
    "outputId": "a5c0321c-4aac-4525-db2e-b2b5a0cceea9"
   },
   "outputs": [
    {
     "data": {
      "image/png": "[encoded data removed]",
      "text/plain": [
       "<Figure size 1008x360 with 1 Axes>"
      ]
     },
     "metadata": {},
     "output_type": "display_data"
    }
   ],
   "source": [
    "plt.figure(figsize=(14,5))\n",
    "\n",
    "plt.subplot(1,2,1)\n",
    "plt.hist(df['Length of current employment'][df['Creditability'] == 1], bins=15, alpha = 0.7, label = 'Good Credit',color=\"blue\")\n",
    "plt.hist(df['Length of current employment'][df['Creditability'] == 0], bins=15, alpha = 0.7, label = 'Bad Credit',color=\"green\")\n",
    "plt.ylabel('Distribution')\n",
    "plt.xlabel('Length of current employment')\n",
    "plt.legend()\n",
    "\n",
    "plt.show()"
   ]
  },
  {
   "cell_type": "code",
   "execution_count": 51,
   "metadata": {
    "colab": {
     "base_uri": "https://localhost:8080/",
     "height": 342
    },
    "id": "B1FBW6z12Xor",
    "outputId": "91804373-4762-41c7-fd1e-f1667c1e1ba2"
   },
   "outputs": [
    {
     "data": {
      "image/png": "[encoded data removed]",
      "text/plain": [
       "<Figure size 1008x360 with 1 Axes>"
      ]
     },
     "metadata": {},
     "output_type": "display_data"
    }
   ],
   "source": [
    "plt.figure(figsize=(14,5))\n",
    "\n",
    "plt.subplot(1,2,1)\n",
    "plt.hist(df['Instalment per cent'][df['Creditability'] == 1], bins=15, alpha = 0.7, label = 'Good Credit',color=\"blue\")\n",
    "plt.hist(df['Instalment per cent'][df['Creditability'] == 0], bins=15, alpha = 0.7, label = 'Bad Credit',color=\"green\")\n",
    "plt.ylabel('Distribution')\n",
    "plt.xlabel('Instalment per cent')\n",
    "plt.legend()\n",
    "\n",
    "plt.show()"
   ]
  },
  {
   "cell_type": "code",
   "execution_count": 52,
   "metadata": {
    "colab": {
     "base_uri": "https://localhost:8080/",
     "height": 342
    },
    "id": "kWTZa4gE2gKm",
    "outputId": "4fd9e343-fc4b-41eb-ba5e-ea66b162e4fc"
   },
   "outputs": [
    {
     "data": {
      "image/png": "[encoded data removed]",
      "text/plain": [
       "<Figure size 1008x360 with 1 Axes>"
      ]
     },
     "metadata": {},
     "output_type": "display_data"
    }
   ],
   "source": [
    "plt.figure(figsize=(14,5))\n",
    "\n",
    "plt.subplot(1,2,1)\n",
    "plt.hist(df['Sex & Marital Status'][df['Creditability'] == 1], bins=15, alpha = 0.7, label = 'Good Credit',color=\"blue\")\n",
    "plt.hist(df['Sex & Marital Status'][df['Creditability'] == 0], bins=15, alpha = 0.7, label = 'Bad Credit',color=\"green\")\n",
    "plt.ylabel('Distribution')\n",
    "plt.xlabel('Sex & Marital Status')\n",
    "plt.legend()\n",
    "\n",
    "plt.show()"
   ]
  },
  {
   "cell_type": "code",
   "execution_count": 53,
   "metadata": {
    "colab": {
     "base_uri": "https://localhost:8080/",
     "height": 342
    },
    "id": "WYA4fmqP2qMF",
    "outputId": "c5a7f39d-a304-46f1-8940-d908cc993ced"
   },
   "outputs": [
    {
     "data": {
      "image/png": "[encoded data removed]",
      "text/plain": [
       "<Figure size 1008x360 with 1 Axes>"
      ]
     },
     "metadata": {},
     "output_type": "display_data"
    }
   ],
   "source": [
    "plt.figure(figsize=(14,5))\n",
    "\n",
    "plt.subplot(1,2,1)\n",
    "plt.hist(df['Guarantors'][df['Creditability'] == 1], bins=15, alpha = 0.7, label = 'Good Credit',color=\"blue\")\n",
    "plt.hist(df['Guarantors'][df['Creditability'] == 0], bins=15, alpha = 0.7, label = 'Bad Credit',color=\"green\")\n",
    "plt.ylabel('Distribution')\n",
    "plt.xlabel('Guarantors')\n",
    "plt.legend()\n",
    "\n",
    "plt.show()"
   ]
  },
  {
   "cell_type": "code",
   "execution_count": 54,
   "metadata": {
    "colab": {
     "base_uri": "https://localhost:8080/",
     "height": 344
    },
    "id": "BBycgF2F1tKN",
    "outputId": "4cadb9b3-f456-49bc-b841-dbe814d854bd"
   },
   "outputs": [
    {
     "data": {
      "image/png": "[encoded data removed]",
      "text/plain": [
       "<Figure size 1008x360 with 1 Axes>"
      ]
     },
     "metadata": {},
     "output_type": "display_data"
    }
   ],
   "source": [
    "plt.figure(figsize=(14,5))\n",
    "\n",
    "plt.subplot(1,2,1)\n",
    "plt.hist(df['Duration in Current address'][df['Creditability'] == 1], bins=15, alpha = 0.7, label = 'Good Credit',color=\"blue\")\n",
    "plt.hist(df['Duration in Current address'][df['Creditability'] == 0], bins=15, alpha = 0.7, label = 'Bad Credit',color=\"green\")\n",
    "plt.ylabel('Distribution')\n",
    "plt.xlabel('Duration in Current address')\n",
    "plt.legend()\n",
    "\n",
    "plt.show()"
   ]
  },
  {
   "cell_type": "code",
   "execution_count": 55,
   "metadata": {
    "colab": {
     "base_uri": "https://localhost:8080/",
     "height": 342
    },
    "id": "_ON3a9Gq1tVT",
    "outputId": "030ec863-b526-41fd-d03d-9079d36c99bd"
   },
   "outputs": [
    {
     "data": {
      "image/png": "[encoded data removed]",
      "text/plain": [
       "<Figure size 1008x360 with 1 Axes>"
      ]
     },
     "metadata": {},
     "output_type": "display_data"
    }
   ],
   "source": [
    "plt.figure(figsize=(14,5))\n",
    "\n",
    "plt.subplot(1,2,1)\n",
    "plt.hist(df['Most valuable available asset'][df['Creditability'] == 1], bins=15, alpha = 0.7, label = 'Good Credit',color=\"blue\")\n",
    "plt.hist(df['Most valuable available asset'][df['Creditability'] == 0], bins=15, alpha = 0.7, label = 'Bad Credit',color=\"green\")\n",
    "plt.ylabel('Distribution')\n",
    "plt.xlabel('Most valuable available asset')\n",
    "plt.legend()\n",
    "\n",
    "plt.show()"
   ]
  },
  {
   "cell_type": "code",
   "execution_count": 56,
   "metadata": {
    "colab": {
     "base_uri": "https://localhost:8080/",
     "height": 342
    },
    "id": "ykH-FnSY1tcV",
    "outputId": "bf9b25c6-51ef-4e90-d4cd-20e4b48579ed"
   },
   "outputs": [
    {
     "data": {
      "image/png": "[encoded data removed]",
      "text/plain": [
       "<Figure size 1008x360 with 1 Axes>"
      ]
     },
     "metadata": {},
     "output_type": "display_data"
    }
   ],
   "source": [
    "plt.figure(figsize=(14,5))\n",
    "\n",
    "plt.subplot(1,2,1)\n",
    "plt.hist(df['Concurrent Credits'][df['Creditability'] == 1], bins=15, alpha = 0.7, label = 'Good Credit',color=\"blue\")\n",
    "plt.hist(df['Concurrent Credits'][df['Creditability'] == 0], bins=15, alpha = 0.7, label = 'Bad Credit',color=\"green\")\n",
    "plt.ylabel('Distribution')\n",
    "plt.xlabel('Concurrent Credits')\n",
    "plt.legend()\n",
    "\n",
    "plt.show()"
   ]
  },
  {
   "cell_type": "code",
   "execution_count": 57,
   "metadata": {
    "colab": {
     "base_uri": "https://localhost:8080/",
     "height": 342
    },
    "id": "mzw4xM6j1thb",
    "outputId": "23c219fa-c949-4759-adf3-0575cc7fb4ea"
   },
   "outputs": [
    {
     "data": {
      "image/png": "[encoded data removed]",
      "text/plain": [
       "<Figure size 1008x360 with 1 Axes>"
      ]
     },
     "metadata": {},
     "output_type": "display_data"
    }
   ],
   "source": [
    "plt.figure(figsize=(14,5))\n",
    "\n",
    "plt.subplot(1,2,1)\n",
    "plt.hist(df['Type of apartment'][df['Creditability'] == 1], bins=15, alpha = 0.7, label = 'Good Credit',color=\"blue\")\n",
    "plt.hist(df['Type of apartment'][df['Creditability'] == 0], bins=15, alpha = 0.7, label = 'Bad Credit',color=\"green\")\n",
    "plt.ylabel('Distribution')\n",
    "plt.xlabel('Type of apartment')\n",
    "plt.legend()\n",
    "\n",
    "plt.show()"
   ]
  },
  {
   "cell_type": "code",
   "execution_count": 58,
   "metadata": {
    "colab": {
     "base_uri": "https://localhost:8080/",
     "height": 342
    },
    "id": "7yCIaigt1tme",
    "outputId": "bf9b6ad1-d719-4807-e392-0d12bd22f59e"
   },
   "outputs": [
    {
     "data": {
      "image/png": "[encoded data removed]",
      "text/plain": [
       "<Figure size 1008x360 with 1 Axes>"
      ]
     },
     "metadata": {},
     "output_type": "display_data"
    }
   ],
   "source": [
    "plt.figure(figsize=(14,5))\n",
    "\n",
    "plt.subplot(1,2,1)\n",
    "plt.hist(df['No of Credits at this Bank'][df['Creditability'] == 1], bins=15, alpha = 0.7, label = 'Good Credit',color=\"blue\")\n",
    "plt.hist(df['No of Credits at this Bank'][df['Creditability'] == 0], bins=15, alpha = 0.7, label = 'Bad Credit',color=\"green\")\n",
    "plt.ylabel('Distribution')\n",
    "plt.xlabel('No of Credits at this Bank')\n",
    "plt.legend()\n",
    "\n",
    "plt.show()"
   ]
  },
  {
   "cell_type": "code",
   "execution_count": 59,
   "metadata": {
    "colab": {
     "base_uri": "https://localhost:8080/",
     "height": 342
    },
    "id": "oCB2wuvW1tpM",
    "outputId": "8c8b033d-846f-450a-8488-d4288d1e81b9"
   },
   "outputs": [
    {
     "data": {
      "image/png": "[encoded data removed]",
      "text/plain": [
       "<Figure size 1008x360 with 1 Axes>"
      ]
     },
     "metadata": {},
     "output_type": "display_data"
    }
   ],
   "source": [
    "plt.figure(figsize=(14,5))\n",
    "\n",
    "plt.subplot(1,2,1)\n",
    "plt.hist(df['Occupation'][df['Creditability'] == 1], bins=15, alpha = 0.7, label = 'Good Credit',color=\"blue\")\n",
    "plt.hist(df['Occupation'][df['Creditability'] == 0], bins=15, alpha = 0.7, label = 'Bad Credit',color=\"green\")\n",
    "plt.ylabel('Distribution')\n",
    "plt.xlabel('Occupation')\n",
    "plt.legend()\n",
    "\n",
    "plt.show()"
   ]
  },
  {
   "cell_type": "code",
   "execution_count": 60,
   "metadata": {
    "colab": {
     "base_uri": "https://localhost:8080/",
     "height": 342
    },
    "id": "CpU95gGd1ttA",
    "outputId": "210cb03f-7417-4309-e033-a68b643469c7"
   },
   "outputs": [
    {
     "data": {
      "image/png": "[encoded data removed]",
      "text/plain": [
       "<Figure size 1008x360 with 1 Axes>"
      ]
     },
     "metadata": {},
     "output_type": "display_data"
    }
   ],
   "source": [
    "plt.figure(figsize=(14,5))\n",
    "\n",
    "plt.subplot(1,2,1)\n",
    "plt.hist(df['No of dependents'][df['Creditability'] == 1], bins=15, alpha = 0.7, label = 'Good Credit',color=\"blue\")\n",
    "plt.hist(df['No of dependents'][df['Creditability'] == 0], bins=15, alpha = 0.7, label = 'Bad Credit',color=\"green\")\n",
    "plt.ylabel('Distribution')\n",
    "plt.xlabel('No of dependents')\n",
    "plt.legend()\n",
    "\n",
    "plt.show()"
   ]
  },
  {
   "cell_type": "code",
   "execution_count": 61,
   "metadata": {
    "colab": {
     "base_uri": "https://localhost:8080/",
     "height": 342
    },
    "id": "J4MbFWZF1tv_",
    "outputId": "681e2a1b-5468-4f28-e432-ca1454c3006d"
   },
   "outputs": [
    {
     "data": {
      "image/png": "[encoded data removed]",
      "text/plain": [
       "<Figure size 1008x360 with 1 Axes>"
      ]
     },
     "metadata": {},
     "output_type": "display_data"
    }
   ],
   "source": [
    "plt.figure(figsize=(14,5))\n",
    "\n",
    "plt.subplot(1,2,1)\n",
    "plt.hist(df['Telephone'][df['Creditability'] == 1], bins=15, alpha = 0.7, label = 'Good Credit',color=\"blue\")\n",
    "plt.hist(df['Telephone'][df['Creditability'] == 0], bins=15, alpha = 0.7, label = 'Bad Credit',color=\"green\")\n",
    "plt.ylabel('Distribution')\n",
    "plt.xlabel('Telephone')\n",
    "plt.legend()\n",
    "\n",
    "plt.show()"
   ]
  },
  {
   "cell_type": "code",
   "execution_count": 62,
   "metadata": {
    "colab": {
     "base_uri": "https://localhost:8080/",
     "height": 347
    },
    "id": "1MGfJH031tzS",
    "outputId": "808cf38f-602e-474d-aaca-6ff3b17bc039"
   },
   "outputs": [
    {
     "data": {
      "image/png": "[encoded data removed]",
      "text/plain": [
       "<Figure size 1008x360 with 1 Axes>"
      ]
     },
     "metadata": {},
     "output_type": "display_data"
    }
   ],
   "source": [
    "plt.figure(figsize=(14,5))\n",
    "\n",
    "plt.subplot(1,2,1)\n",
    "plt.hist(df['Foreign Worker'][df['Creditability'] == 1], bins=15, alpha = 0.7, label = 'Good Credit',color=\"blue\")\n",
    "plt.hist(df['Foreign Worker'][df['Creditability'] == 0], bins=15, alpha = 0.7, label = 'Bad Credit',color=\"green\")\n",
    "plt.ylabel('Distribution')\n",
    "plt.xlabel('Foreign Worker')\n",
    "plt.legend()\n",
    "\n",
    "plt.show()"
   ]
  },
  {
   "cell_type": "markdown",
   "metadata": {
    "id": "xra3mF7vBshn"
   },
   "source": [
    "**Selection of Attributes:**\n",
    "According to the histogram of correlations between the independent (categorical) and dependent (categorical) variables, several variables have an effect on the target class. For example, as they change between groups, the ratio of \"bad credit\" to \"good credit\" changes accordingly. They are considered to have a strong correlation with the target.\n",
    "\n",
    "- Account Balance\n",
    "- Payment Status of Previous Credit\n",
    "- Purpose\n",
    "- Value Savings/Stocks\n",
    "- Length of current employment\n",
    "- Sex & Marital Status\n",
    "- Guarantors\n",
    "- Concurrent Credits\n",
    "- Type of apartment\n",
    "- Occupation\n",
    "- Foreign Worker\n",
    "\n",
    "Together with 'Age(year)', 'Credit Amount', and 'Duration of Credit (month)', these variables are the selected features for following steps.\n"
   ]
  },
  {
   "cell_type": "markdown",
   "metadata": {},
   "source": [
    "### Target Varialbe Analysis"
   ]
  },
  {
   "cell_type": "code",
   "execution_count": 63,
   "metadata": {
    "colab": {
     "base_uri": "https://localhost:8080/",
     "height": 142
    },
    "id": "4zOScS6yE1cT",
    "outputId": "6f66e465-da42-4970-b81b-a77db1a57946"
   },
   "outputs": [
    {
     "data": {
      "text/html": [
       "<div>\n",
       "<style scoped>\n",
       "    .dataframe tbody tr th:only-of-type {\n",
       "        vertical-align: middle;\n",
       "    }\n",
       "\n",
       "    .dataframe tbody tr th {\n",
       "        vertical-align: top;\n",
       "    }\n",
       "\n",
       "    .dataframe thead th {\n",
       "        text-align: right;\n",
       "    }\n",
       "</style>\n",
       "<table border=\"1\" class=\"dataframe\">\n",
       "  <thead>\n",
       "    <tr style=\"text-align: right;\">\n",
       "      <th>col_0</th>\n",
       "      <th>count</th>\n",
       "    </tr>\n",
       "    <tr>\n",
       "      <th>Creditability</th>\n",
       "      <th></th>\n",
       "    </tr>\n",
       "  </thead>\n",
       "  <tbody>\n",
       "    <tr>\n",
       "      <th>0</th>\n",
       "      <td>300</td>\n",
       "    </tr>\n",
       "    <tr>\n",
       "      <th>1</th>\n",
       "      <td>700</td>\n",
       "    </tr>\n",
       "  </tbody>\n",
       "</table>\n",
       "</div>"
      ],
      "text/plain": [
       "col_0          count\n",
       "Creditability       \n",
       "0                300\n",
       "1                700"
      ]
     },
     "execution_count": 63,
     "metadata": {},
     "output_type": "execute_result"
    }
   ],
   "source": [
    "pd.crosstab(index=df['Creditability'], columns='count')"
   ]
  },
  {
   "cell_type": "markdown",
   "metadata": {
    "id": "i6S3ZHUtE3Jl"
   },
   "source": [
    "- The class distribution is slightly imbalanced (3:7). We don't need to deal with it.\n",
    "- There are no missing values in this dataset.\n",
    "- 'Credit Amount' and 'Age(years)' are highly skewed, which need to be transformed.\n",
    "- 'Duration of Credit(month)' has several groups with less number, it needs to be discretized."
   ]
  },
  {
   "cell_type": "markdown",
   "metadata": {
    "id": "U0lZMTSaJBou"
   },
   "source": [
    "# 3. Data Transformation \n",
    "on 'Credit Amount' , 'Age(years)' and 'Duration of Credit(month)'\n"
   ]
  },
  {
   "cell_type": "markdown",
   "metadata": {
    "id": "nqIu9QSTvd1A"
   },
   "source": [
    "**Log transformation**\n",
    "A log transformation can help to fit a very skewed distribution into a Gaussian one. After log transformation we can easily see pattern in our data.\n"
   ]
  },
  {
   "cell_type": "code",
   "execution_count": 64,
   "metadata": {
    "colab": {
     "base_uri": "https://localhost:8080/",
     "height": 265
    },
    "id": "REUIXSSRvkve",
    "outputId": "c8aae694-0267-4259-8993-45894f127e1b"
   },
   "outputs": [
    {
     "data": {
      "image/png": "[encoded data removed]",
      "text/plain": [
       "<Figure size 576x360 with 1 Axes>"
      ]
     },
     "metadata": {},
     "output_type": "display_data"
    }
   ],
   "source": [
    "import numpy as np\n",
    "import matplotlib.pyplot as plt\n",
    "df[\"Age (years)\"].apply(np.log).hist()\n",
    "plt.show()"
   ]
  },
  {
   "cell_type": "markdown",
   "metadata": {
    "id": "mRJNv-frysRA"
   },
   "source": [
    "We can aslo try using **Square Root Transformation.**, **Reciprocal Transformation** and **Boxcox Transformation.** Since Age variable stll has skewed distribution after applying log transfrmation."
   ]
  },
  {
   "cell_type": "code",
   "execution_count": 65,
   "metadata": {
    "colab": {
     "base_uri": "https://localhost:8080/",
     "height": 282
    },
    "id": "jr8NrMiD1ifx",
    "outputId": "3e65767f-fb8d-47c7-e673-c096888c4ef0"
   },
   "outputs": [
    {
     "data": {
      "text/plain": [
       "<matplotlib.axes._subplots.AxesSubplot at 0x1bf37ac6af0>"
      ]
     },
     "execution_count": 65,
     "metadata": {},
     "output_type": "execute_result"
    },
    {
     "data": {
      "image/png": "[encoded data removed]",
      "text/plain": [
       "<Figure size 576x360 with 1 Axes>"
      ]
     },
     "metadata": {},
     "output_type": "display_data"
    }
   ],
   "source": [
    "df[\"Age (years)\"].apply(np.sqrt).hist()"
   ]
  },
  {
   "cell_type": "code",
   "execution_count": 66,
   "metadata": {
    "colab": {
     "base_uri": "https://localhost:8080/",
     "height": 282
    },
    "id": "u8b68V121v9H",
    "outputId": "68d759f8-986f-414c-9625-6bab5cb33c26"
   },
   "outputs": [
    {
     "data": {
      "text/plain": [
       "<matplotlib.axes._subplots.AxesSubplot at 0x1bf37643eb0>"
      ]
     },
     "execution_count": 66,
     "metadata": {},
     "output_type": "execute_result"
    },
    {
     "data": {
      "image/png": "[encoded data removed]",
      "text/plain": [
       "<Figure size 576x360 with 1 Axes>"
      ]
     },
     "metadata": {},
     "output_type": "display_data"
    }
   ],
   "source": [
    "df[\"Age (years)\"].apply(np.reciprocal).hist()"
   ]
  },
  {
   "cell_type": "code",
   "execution_count": 67,
   "metadata": {
    "colab": {
     "base_uri": "https://localhost:8080/",
     "height": 265
    },
    "id": "WMvXt9Dl69M0",
    "outputId": "9e872c0e-ef26-48f1-f09e-edf3e81cbe5d"
   },
   "outputs": [
    {
     "data": {
      "image/png": "[encoded data removed]",
      "text/plain": [
       "<Figure size 576x360 with 1 Axes>"
      ]
     },
     "metadata": {},
     "output_type": "display_data"
    }
   ],
   "source": [
    "from numpy import exp\n",
    "from scipy.stats import boxcox\n",
    "import matplotlib.pyplot as plt\n",
    "# transform to be exponential\n",
    "data = exp(df[\"Age (years)\"])\n",
    "# power transform\n",
    "data = boxcox(data, 0)\n",
    "plt.hist(data)\n",
    "plt.show()"
   ]
  },
  {
   "cell_type": "code",
   "execution_count": 68,
   "metadata": {
    "colab": {
     "base_uri": "https://localhost:8080/",
     "height": 267
    },
    "id": "PnAzg32FxjTv",
    "outputId": "df012957-980b-439e-9c27-accbf18ab99a"
   },
   "outputs": [
    {
     "data": {
      "image/png": "[encoded data removed]",
      "text/plain": [
       "<Figure size 576x360 with 1 Axes>"
      ]
     },
     "metadata": {},
     "output_type": "display_data"
    }
   ],
   "source": [
    "df[\"Duration of Credit (month)\"].apply(np.log).hist()\n",
    "plt.show()"
   ]
  },
  {
   "cell_type": "code",
   "execution_count": 69,
   "metadata": {
    "colab": {
     "base_uri": "https://localhost:8080/",
     "height": 265
    },
    "id": "_iaHMG_qxkMG",
    "outputId": "d461a260-6bfb-4b10-9f1d-e0c237eea310"
   },
   "outputs": [
    {
     "data": {
      "image/png": "[encoded data removed]",
      "text/plain": [
       "<Figure size 576x360 with 1 Axes>"
      ]
     },
     "metadata": {},
     "output_type": "display_data"
    }
   ],
   "source": [
    "df[\"Credit Amount\"].apply(np.log).hist()\n",
    "plt.show()"
   ]
  },
  {
   "cell_type": "code",
   "execution_count": 70,
   "metadata": {
    "colab": {
     "base_uri": "https://localhost:8080/",
     "height": 267
    },
    "id": "TrjxYCvayBHW",
    "outputId": "02092076-1a20-47a8-af0b-ef43d596daa1"
   },
   "outputs": [
    {
     "data": {
      "image/png": "[encoded data removed]",
      "text/plain": [
       "<Figure size 576x360 with 1 Axes>"
      ]
     },
     "metadata": {},
     "output_type": "display_data"
    }
   ],
   "source": [
    "import numpy as np\n",
    "import matplotlib.pyplot as plt\n",
    "df[\"Age (years)\"].apply(np.log).hist()\n",
    "df[\"Credit Amount\"].apply(np.log).hist()\n",
    "df[\"Duration of Credit (month)\"].apply(np.log).hist()\n",
    "plt.show()"
   ]
  },
  {
   "cell_type": "code",
   "execution_count": 71,
   "metadata": {
    "id": "RELL3K26ZHDF"
   },
   "outputs": [],
   "source": [
    "# create new variables after transformation\n",
    "df[\"Age_new\"] = df[\"Age (years)\"].apply(np.log)\n",
    "df[\"CreditAmount_new\"] = df[\"Credit Amount\"].apply(np.log)\n",
    "df[\"DurationCredit_new\"] = df[\"Duration of Credit (month)\"].apply(np.log)"
   ]
  },
  {
   "cell_type": "code",
   "execution_count": 72,
   "metadata": {
    "colab": {
     "base_uri": "https://localhost:8080/",
     "height": 793
    },
    "id": "FzwrQ0WU0VJa",
    "outputId": "e04e2654-c31d-4604-b9f3-c2f0ef2a1e21"
   },
   "outputs": [
    {
     "data": {
      "text/html": [
       "<div>\n",
       "<style scoped>\n",
       "    .dataframe tbody tr th:only-of-type {\n",
       "        vertical-align: middle;\n",
       "    }\n",
       "\n",
       "    .dataframe tbody tr th {\n",
       "        vertical-align: top;\n",
       "    }\n",
       "\n",
       "    .dataframe thead th {\n",
       "        text-align: right;\n",
       "    }\n",
       "</style>\n",
       "<table border=\"1\" class=\"dataframe\">\n",
       "  <thead>\n",
       "    <tr style=\"text-align: right;\">\n",
       "      <th></th>\n",
       "      <th>skew</th>\n",
       "      <th>kurtosis</th>\n",
       "    </tr>\n",
       "  </thead>\n",
       "  <tbody>\n",
       "    <tr>\n",
       "      <th>Creditability</th>\n",
       "      <td>-0.874183</td>\n",
       "      <td>-1.238284</td>\n",
       "    </tr>\n",
       "    <tr>\n",
       "      <th>Account Balance</th>\n",
       "      <td>0.006957</td>\n",
       "      <td>-1.663703</td>\n",
       "    </tr>\n",
       "    <tr>\n",
       "      <th>Duration of Credit (month)</th>\n",
       "      <td>1.094184</td>\n",
       "      <td>0.919781</td>\n",
       "    </tr>\n",
       "    <tr>\n",
       "      <th>Payment Status of Previous Credit</th>\n",
       "      <td>-0.011886</td>\n",
       "      <td>-0.579056</td>\n",
       "    </tr>\n",
       "    <tr>\n",
       "      <th>Purpose</th>\n",
       "      <td>1.178887</td>\n",
       "      <td>0.554083</td>\n",
       "    </tr>\n",
       "    <tr>\n",
       "      <th>Credit Amount</th>\n",
       "      <td>1.949594</td>\n",
       "      <td>4.292481</td>\n",
       "    </tr>\n",
       "    <tr>\n",
       "      <th>Value Savings/Stocks</th>\n",
       "      <td>1.016677</td>\n",
       "      <td>-0.680224</td>\n",
       "    </tr>\n",
       "    <tr>\n",
       "      <th>Length of current employment</th>\n",
       "      <td>-0.117615</td>\n",
       "      <td>-0.934331</td>\n",
       "    </tr>\n",
       "    <tr>\n",
       "      <th>Instalment per cent</th>\n",
       "      <td>-0.531348</td>\n",
       "      <td>-1.210473</td>\n",
       "    </tr>\n",
       "    <tr>\n",
       "      <th>Sex &amp; Marital Status</th>\n",
       "      <td>-0.305146</td>\n",
       "      <td>-0.002567</td>\n",
       "    </tr>\n",
       "    <tr>\n",
       "      <th>Guarantors</th>\n",
       "      <td>3.264249</td>\n",
       "      <td>9.328756</td>\n",
       "    </tr>\n",
       "    <tr>\n",
       "      <th>Duration in Current address</th>\n",
       "      <td>-0.272570</td>\n",
       "      <td>-1.381449</td>\n",
       "    </tr>\n",
       "    <tr>\n",
       "      <th>Most valuable available asset</th>\n",
       "      <td>0.045673</td>\n",
       "      <td>-1.238515</td>\n",
       "    </tr>\n",
       "    <tr>\n",
       "      <th>Age (years)</th>\n",
       "      <td>1.024712</td>\n",
       "      <td>0.620529</td>\n",
       "    </tr>\n",
       "    <tr>\n",
       "      <th>Concurrent Credits</th>\n",
       "      <td>-1.826518</td>\n",
       "      <td>1.512588</td>\n",
       "    </tr>\n",
       "    <tr>\n",
       "      <th>Type of apartment</th>\n",
       "      <td>-0.073832</td>\n",
       "      <td>0.484031</td>\n",
       "    </tr>\n",
       "    <tr>\n",
       "      <th>No of Credits at this Bank</th>\n",
       "      <td>1.272576</td>\n",
       "      <td>1.604439</td>\n",
       "    </tr>\n",
       "    <tr>\n",
       "      <th>Occupation</th>\n",
       "      <td>-0.374295</td>\n",
       "      <td>0.501891</td>\n",
       "    </tr>\n",
       "    <tr>\n",
       "      <th>No of dependents</th>\n",
       "      <td>1.909445</td>\n",
       "      <td>1.649274</td>\n",
       "    </tr>\n",
       "    <tr>\n",
       "      <th>Telephone</th>\n",
       "      <td>0.391868</td>\n",
       "      <td>-1.850144</td>\n",
       "    </tr>\n",
       "    <tr>\n",
       "      <th>Foreign Worker</th>\n",
       "      <td>4.913027</td>\n",
       "      <td>22.182198</td>\n",
       "    </tr>\n",
       "    <tr>\n",
       "      <th>Age_new</th>\n",
       "      <td>0.414576</td>\n",
       "      <td>-0.544059</td>\n",
       "    </tr>\n",
       "    <tr>\n",
       "      <th>CreditAmount_new</th>\n",
       "      <td>0.129134</td>\n",
       "      <td>-0.337348</td>\n",
       "    </tr>\n",
       "    <tr>\n",
       "      <th>DurationCredit_new</th>\n",
       "      <td>-0.127414</td>\n",
       "      <td>-0.531439</td>\n",
       "    </tr>\n",
       "  </tbody>\n",
       "</table>\n",
       "</div>"
      ],
      "text/plain": [
       "                                       skew   kurtosis\n",
       "Creditability                     -0.874183  -1.238284\n",
       "Account Balance                    0.006957  -1.663703\n",
       "Duration of Credit (month)         1.094184   0.919781\n",
       "Payment Status of Previous Credit -0.011886  -0.579056\n",
       "Purpose                            1.178887   0.554083\n",
       "Credit Amount                      1.949594   4.292481\n",
       "Value Savings/Stocks               1.016677  -0.680224\n",
       "Length of current employment      -0.117615  -0.934331\n",
       "Instalment per cent               -0.531348  -1.210473\n",
       "Sex & Marital Status              -0.305146  -0.002567\n",
       "Guarantors                         3.264249   9.328756\n",
       "Duration in Current address       -0.272570  -1.381449\n",
       "Most valuable available asset      0.045673  -1.238515\n",
       "Age (years)                        1.024712   0.620529\n",
       "Concurrent Credits                -1.826518   1.512588\n",
       "Type of apartment                 -0.073832   0.484031\n",
       "No of Credits at this Bank         1.272576   1.604439\n",
       "Occupation                        -0.374295   0.501891\n",
       "No of dependents                   1.909445   1.649274\n",
       "Telephone                          0.391868  -1.850144\n",
       "Foreign Worker                     4.913027  22.182198\n",
       "Age_new                            0.414576  -0.544059\n",
       "CreditAmount_new                   0.129134  -0.337348\n",
       "DurationCredit_new                -0.127414  -0.531439"
      ]
     },
     "execution_count": 72,
     "metadata": {},
     "output_type": "execute_result"
    }
   ],
   "source": [
    "df.agg(['skew', 'kurtosis']).transpose()"
   ]
  },
  {
   "cell_type": "markdown",
   "metadata": {
    "id": "-9mVL8re0qMv"
   },
   "source": [
    "As rule of thumb, skewness can be interpreted like this\n",
    "\t                     \n",
    "Fairly Symmetrical,\t  if Skewness is   -0.5 to 0.5, \n",
    "Moderate Skewed,\t   if Skewness is    -0.5 to -1.0 and 0.5 to 1.0\n",
    "Highly Skewed    if Skewness is     \t< -1.0 and > 1.0\n",
    "\n",
    "After transformation, the skewness of three variables have been largely reduced to Fairly Symmetrical range. "
   ]
  },
  {
   "cell_type": "markdown",
   "metadata": {
    "id": "S1tpUa-Ui8uT"
   },
   "source": [
    "# 4. Data Modeling"
   ]
  },
  {
   "cell_type": "markdown",
   "metadata": {
    "id": "Shk5U7D2QY15"
   },
   "source": [
    "The target variable is a binary classfication. So we choose Decision Tree, Naive Bayes, Random Forest, Support Vector, Gradient Boosting classification models to train the data. Then compare the results of each models. \n",
    "\n",
    "\n",
    "\n",
    "\n",
    "\n",
    "\n",
    "\n"
   ]
  },
  {
   "cell_type": "markdown",
   "metadata": {},
   "source": [
    "## Training Models on Original Dataset\n",
    "Since Decison Tree and Naive Bayes are not sensitive with whether Normal  distrubition. We first use the original data before transformation for training models."
   ]
  },
  {
   "cell_type": "code",
   "execution_count": 73,
   "metadata": {
    "id": "5SZ3166ZRb46"
   },
   "outputs": [],
   "source": [
    "# First split the data into train and test set\n",
    "from sklearn.model_selection import train_test_split\n",
    "\n",
    "# Split dataset into training set and test set\n",
    "# Our class column is Creditability here and everything else will be used as features \n",
    "class_col_name='Creditability' \n",
    "\n",
    "feature_names=df.columns[df.columns != class_col_name ]\n",
    "# 70% training and 30% test\n",
    "X_train, X_test, y_train, y_test = train_test_split(df.loc[:, feature_names], df[class_col_name], test_size=0.3,random_state=1) "
   ]
  },
  {
   "cell_type": "markdown",
   "metadata": {
    "id": "yfytH3jeRqaz"
   },
   "source": [
    "###  Decision Tree\n",
    "Setting max depth of the tree to 5."
   ]
  },
  {
   "cell_type": "code",
   "execution_count": 74,
   "metadata": {
    "colab": {
     "base_uri": "https://localhost:8080/"
    },
    "id": "dSyYDr-uRr4q",
    "outputId": "e85f9e24-36a8-405c-b0b3-f4d731417d3c"
   },
   "outputs": [
    {
     "name": "stdout",
     "output_type": "stream",
     "text": [
      "Successfuly trained the decision tree...\n"
     ]
    }
   ],
   "source": [
    "from sklearn import tree\n",
    "clf = tree.DecisionTreeClassifier(max_depth=5)\n",
    "clf = clf.fit(X_train, y_train)\n",
    "print(\"Successfuly trained the decision tree...\")"
   ]
  },
  {
   "cell_type": "code",
   "execution_count": 76,
   "metadata": {
    "colab": {
     "base_uri": "https://localhost:8080/",
     "height": 52
    },
    "id": "PsTU-YRSR-Rb",
    "outputId": "b9172204-8c15-410f-b54a-c4aa482f10c9"
   },
   "outputs": [
    {
     "name": "stdout",
     "output_type": "stream",
     "text": [
      "class Names [1 0]\n"
     ]
    },
    {
     "data": {
      "text/plain": [
       "'Source.gv.pdf'"
      ]
     },
     "execution_count": 76,
     "metadata": {},
     "output_type": "execute_result"
    }
   ],
   "source": [
    "import graphviz\n",
    "#Get unique class values to display on the tree\n",
    "class_values=df[class_col_name].unique()\n",
    "print (\"class Names\",class_values)\n",
    "dot_data = tree.export_graphviz(clf, out_file=None, feature_names=feature_names,  class_names=('1', '0'), filled=True)\n",
    "# Plot tree\n",
    "graph = graphviz.Source(dot_data) \n",
    "graph\n",
    "graph.render()"
   ]
  },
  {
   "cell_type": "code",
   "execution_count": 77,
   "metadata": {
    "id": "jvYH3-XzXJJH"
   },
   "outputs": [],
   "source": [
    "# Let's make the predictions on the test set  that we set aside earlier using the trained tree\n",
    "y_pred = clf.predict(X_test)\n"
   ]
  },
  {
   "cell_type": "markdown",
   "metadata": {
    "id": "5ZGX08LPXQ3C"
   },
   "source": [
    "Time to get rid of any confusion about prediction accuracy and print our confusion matrix."
   ]
  },
  {
   "cell_type": "code",
   "execution_count": 78,
   "metadata": {
    "colab": {
     "base_uri": "https://localhost:8080/"
    },
    "id": "bXSkJpMEXRqn",
    "outputId": "ccea350f-0efb-4b73-fb6f-ea20f7db355e"
   },
   "outputs": [
    {
     "name": "stdout",
     "output_type": "stream",
     "text": [
      "Confusion Matrix\n",
      "[[ 29  62]\n",
      " [  9 200]]\n",
      "TP:  200 , FP:  62 , TN:  29 , FN: 9\n"
     ]
    }
   ],
   "source": [
    "from sklearn.metrics import confusion_matrix\n",
    "cf=confusion_matrix(y_test, y_pred)\n",
    "print (\"Confusion Matrix\")\n",
    "print(cf)\n",
    "tn, fp, fn, tp=cf.ravel()\n",
    "print (\"TP: \", tp,\", FP: \", fp,\", TN: \", tn,\", FN:\", fn)"
   ]
  },
  {
   "cell_type": "code",
   "execution_count": 79,
   "metadata": {
    "colab": {
     "base_uri": "https://localhost:8080/"
    },
    "id": "kXy1bty0Xajx",
    "outputId": "44ed6a7d-941a-4bcd-984a-b72bf250017f"
   },
   "outputs": [
    {
     "name": "stdout",
     "output_type": "stream",
     "text": [
      "              precision    recall  f1-score   support\n",
      "\n",
      "           0       0.76      0.32      0.45        91\n",
      "           1       0.76      0.96      0.85       209\n",
      "\n",
      "    accuracy                           0.76       300\n",
      "   macro avg       0.76      0.64      0.65       300\n",
      "weighted avg       0.76      0.76      0.73       300\n",
      "\n"
     ]
    }
   ],
   "source": [
    "#print precision, recall, and accuracy from the perspective of each of the class (0 and 1 for German dataset)\n",
    "from sklearn.metrics import classification_report\n",
    "from sklearn import metrics\n",
    "\n",
    "print(classification_report(y_test, y_pred))"
   ]
  },
  {
   "cell_type": "markdown",
   "metadata": {
    "id": "74L0tAEaigxE"
   },
   "source": [
    "### Naive Bayes"
   ]
  },
  {
   "cell_type": "markdown",
   "metadata": {
    "id": "VFgfCGkUXlto"
   },
   "source": [
    "In a similar way, we can train and test Naive Bayes"
   ]
  },
  {
   "cell_type": "code",
   "execution_count": 80,
   "metadata": {
    "id": "Tu1alOoJXmyO"
   },
   "outputs": [],
   "source": [
    "from sklearn.naive_bayes import MultinomialNB\n",
    "\n",
    "#Create a MultiNomial NB Classifier\n",
    "nb = MultinomialNB()\n",
    "\n",
    "#Train the model using the training sets\n",
    "nb.fit(X_train, y_train)\n",
    "\n",
    "#Predict the response for test dataset\n",
    "y_pred = nb.predict(X_test)"
   ]
  },
  {
   "cell_type": "code",
   "execution_count": 81,
   "metadata": {
    "colab": {
     "base_uri": "https://localhost:8080/"
    },
    "id": "DyedtCunXv4d",
    "outputId": "30dcc4f0-3f9e-4e2d-ae09-7a20bd5c934b"
   },
   "outputs": [
    {
     "name": "stdout",
     "output_type": "stream",
     "text": [
      "Total Columns (including class) 24\n"
     ]
    }
   ],
   "source": [
    "print (\"Total Columns (including class)\",len(df.columns))"
   ]
  },
  {
   "cell_type": "markdown",
   "metadata": {
    "id": "SqYGXQT-X2Yr"
   },
   "source": [
    "Let's understand our Naive Bayes model"
   ]
  },
  {
   "cell_type": "code",
   "execution_count": 82,
   "metadata": {
    "colab": {
     "base_uri": "https://localhost:8080/"
    },
    "id": "pBrswgKvX3k5",
    "outputId": "323bed4e-4e9e-4eb2-b700-ed5b5c5457a7"
   },
   "outputs": [
    {
     "name": "stdout",
     "output_type": "stream",
     "text": [
      "Number of features used  23\n",
      "Classes  [0 1]\n",
      "Number of records for classes  [209. 491.]\n",
      "Log prior probability for classes  [-1.20874608 -0.35463621]\n",
      "Log conditional probability for each feature given a class\n",
      " [[-7.66410755 -5.09646277 -7.53277155 -7.24784051 -0.02742556 -7.77533319\n",
      "  -7.17149184 -7.18692424 -7.34679368 -8.16827203 -7.27634202 -7.36521041\n",
      "  -4.7763848  -7.37830695 -7.66410755 -7.99010849 -7.23470403 -8.16827203\n",
      "  -7.9797457  -8.28709295 -7.06050968 -6.23899767 -7.19171515]\n",
      " [-6.96837847 -5.09474647 -7.03722129 -7.03049229 -0.03551118 -7.19978435\n",
      "  -6.80170153 -6.96348848 -7.02900309 -7.89735436 -7.00112161 -7.22119462\n",
      "  -4.44781721 -7.03273027 -7.37069727 -7.6643307  -6.96907899 -7.89204931\n",
      "  -7.69282266 -7.98630185 -6.77054275 -5.98902706 -7.01052992]]\n"
     ]
    }
   ],
   "source": [
    "print(\"Number of features used \",nb.n_features_)\n",
    "print(\"Classes \",nb.classes_)\n",
    "print(\"Number of records for classes \",nb.class_count_)\n",
    "print(\"Log prior probability for classes \", nb.class_log_prior_)\n",
    "print(\"Log conditional probability for each feature given a class\\n\",nb.feature_log_prob_)"
   ]
  },
  {
   "cell_type": "code",
   "execution_count": 83,
   "metadata": {
    "colab": {
     "base_uri": "https://localhost:8080/"
    },
    "id": "oVqqjqSDYI26",
    "outputId": "69a66632-3c2f-4822-eee1-418a8c589ac9"
   },
   "outputs": [
    {
     "name": "stdout",
     "output_type": "stream",
     "text": [
      "              precision    recall  f1-score   support\n",
      "\n",
      "           0       0.40      0.42      0.41        91\n",
      "           1       0.74      0.72      0.73       209\n",
      "\n",
      "    accuracy                           0.63       300\n",
      "   macro avg       0.57      0.57      0.57       300\n",
      "weighted avg       0.64      0.63      0.63       300\n",
      "\n"
     ]
    }
   ],
   "source": [
    "from sklearn.metrics import classification_report\n",
    "from sklearn import metrics\n",
    "\n",
    "print(classification_report(y_test, y_pred))\n"
   ]
  },
  {
   "cell_type": "markdown",
   "metadata": {
    "id": "uWqrHnpYmNl0"
   },
   "source": [
    "### Random Forest Classification"
   ]
  },
  {
   "cell_type": "code",
   "execution_count": 84,
   "metadata": {
    "id": "h52KZFREmTt8"
   },
   "outputs": [],
   "source": [
    "from sklearn.ensemble import RandomForestClassifier\n",
    "\n",
    "model=RandomForestClassifier(random_state=0,max_depth=10, min_samples_split=10, n_estimators=35, n_jobs=-1)\n",
    "model.fit(X_train,y_train)\n",
    "y_pred=model.predict(X_test)"
   ]
  },
  {
   "cell_type": "code",
   "execution_count": 85,
   "metadata": {
    "colab": {
     "base_uri": "https://localhost:8080/"
    },
    "id": "07Vkbexfm_S2",
    "outputId": "cf24f937-ca92-455d-bb43-ba5905f94acd"
   },
   "outputs": [
    {
     "name": "stdout",
     "output_type": "stream",
     "text": [
      "\n",
      "Training Accuracy: 0.7514285714285714\n",
      "\n",
      "Testing Accuracy: 0.7666666666666667\n",
      "\n",
      "Sensitivity 0.6909090909090909\n",
      "\n",
      "Specificity 0.7836734693877551\n",
      "\n",
      "F1 Score: 0.8458149779735683\n",
      "\n",
      "AUC Score: 0.6681213523318785\n",
      "\n",
      "Confusion Matrix:\n",
      " [[ 38  53]\n",
      " [ 17 192]]\n"
     ]
    }
   ],
   "source": [
    "#Testing accuracy\n",
    "\n",
    "from sklearn.metrics import accuracy_score,confusion_matrix,f1_score,roc_auc_score\n",
    "from sklearn.model_selection import cross_val_score\n",
    "\n",
    "cv_acc=cross_val_score(estimator=model,X=X_train,y=y_train,cv=10)\n",
    "cm=confusion_matrix(y_test,y_pred)\n",
    "cv_acc=cv_acc.mean()\n",
    "acc=accuracy_score(y_test,y_pred)\n",
    "f1=f1_score(y_test,y_pred,average='binary')\n",
    "auc=roc_auc_score(y_test,y_pred)\n",
    "sen=cm[0][0]/(cm[0][0]+cm[1][0])\n",
    "spec=cm[1][1]/(cm[1][1]+cm[0][1])\n",
    "\n",
    "# Printing Output\n",
    "\n",
    "print('\\nTraining Accuracy:',cv_acc)\n",
    "print('\\nTesting Accuracy:',acc)\n",
    "print('\\nSensitivity',sen)\n",
    "print('\\nSpecificity',spec)\n",
    "print('\\nF1 Score:',f1)\n",
    "print('\\nAUC Score:',auc)\n",
    "print('\\nConfusion Matrix:\\n',cm)"
   ]
  },
  {
   "cell_type": "code",
   "execution_count": 86,
   "metadata": {
    "colab": {
     "base_uri": "https://localhost:8080/"
    },
    "id": "Wqx6uOjQpUnH",
    "outputId": "7d9cbb07-94ba-4f5f-bc9c-f3e4c7b236f9"
   },
   "outputs": [
    {
     "name": "stdout",
     "output_type": "stream",
     "text": [
      "              precision    recall  f1-score   support\n",
      "\n",
      "           0       0.69      0.42      0.52        91\n",
      "           1       0.78      0.92      0.85       209\n",
      "\n",
      "    accuracy                           0.77       300\n",
      "   macro avg       0.74      0.67      0.68       300\n",
      "weighted avg       0.76      0.77      0.75       300\n",
      "\n"
     ]
    }
   ],
   "source": [
    "from sklearn.metrics import classification_report\n",
    "from sklearn import metrics\n",
    "\n",
    "print(classification_report(y_test, y_pred))"
   ]
  },
  {
   "cell_type": "markdown",
   "metadata": {
    "id": "UFqpOzZioGpE"
   },
   "source": [
    "### Support Vector Classifier Model"
   ]
  },
  {
   "cell_type": "code",
   "execution_count": 87,
   "metadata": {
    "id": "YtrM2IlOoJGz"
   },
   "outputs": [],
   "source": [
    "from sklearn.svm import SVC\n",
    "\n",
    "model2=SVC(kernel='rbf', random_state=0, C=40, gamma='auto')\n",
    "model2.fit(X_train,y_train)\n",
    "y_pred=model2.predict(X_test)"
   ]
  },
  {
   "cell_type": "code",
   "execution_count": 88,
   "metadata": {
    "colab": {
     "base_uri": "https://localhost:8080/"
    },
    "id": "2rNW7aDPoVOS",
    "outputId": "d7b396fd-6afd-49fd-909f-47b1a25f07f6"
   },
   "outputs": [
    {
     "name": "stdout",
     "output_type": "stream",
     "text": [
      "\n",
      "Training Accuracy: 0.7\n",
      "\n",
      "Testing Accuracy: 0.6933333333333334\n",
      "\n",
      "Sensitivity 0.0\n",
      "\n",
      "Specificity 0.6956521739130435\n",
      "\n",
      "F1 Score: 0.8188976377952757\n",
      "\n",
      "AUC Score: 0.49760765550239233\n",
      "\n",
      "Confusion Matrix:\n",
      " [[  0  91]\n",
      " [  1 208]]\n"
     ]
    }
   ],
   "source": [
    "#Testing accuracy\n",
    "\n",
    "from sklearn.metrics import accuracy_score,confusion_matrix,f1_score,roc_auc_score\n",
    "from sklearn.model_selection import cross_val_score\n",
    "\n",
    "cv_acc=cross_val_score(estimator=model2,X=X_train,y=y_train,cv=10)\n",
    "cm=confusion_matrix(y_test,y_pred)\n",
    "cv_acc=cv_acc.mean()\n",
    "acc=accuracy_score(y_test,y_pred)\n",
    "f1=f1_score(y_test,y_pred,average='binary')\n",
    "auc=roc_auc_score(y_test,y_pred)\n",
    "sen=cm[0][0]/(cm[0][0]+cm[1][0])\n",
    "spec=cm[1][1]/(cm[1][1]+cm[0][1])\n",
    "\n",
    "# Printing Output\n",
    "\n",
    "print('\\nTraining Accuracy:',cv_acc)\n",
    "print('\\nTesting Accuracy:',acc)\n",
    "print('\\nSensitivity',sen)\n",
    "print('\\nSpecificity',spec)\n",
    "print('\\nF1 Score:',f1)\n",
    "print('\\nAUC Score:',auc)\n",
    "print('\\nConfusion Matrix:\\n',cm)"
   ]
  },
  {
   "cell_type": "code",
   "execution_count": 89,
   "metadata": {
    "colab": {
     "base_uri": "https://localhost:8080/"
    },
    "id": "VjBR4G7RpvIB",
    "outputId": "0ff8bb21-a789-4bbf-d195-dd02bb10d3d0"
   },
   "outputs": [
    {
     "name": "stdout",
     "output_type": "stream",
     "text": [
      "              precision    recall  f1-score   support\n",
      "\n",
      "           0       0.00      0.00      0.00        91\n",
      "           1       0.70      1.00      0.82       209\n",
      "\n",
      "    accuracy                           0.69       300\n",
      "   macro avg       0.35      0.50      0.41       300\n",
      "weighted avg       0.48      0.69      0.57       300\n",
      "\n"
     ]
    }
   ],
   "source": [
    "from sklearn.metrics import classification_report\n",
    "from sklearn import metrics\n",
    "\n",
    "print(classification_report(y_test, y_pred))"
   ]
  },
  {
   "cell_type": "markdown",
   "metadata": {
    "id": "PI6yXi-HoehD"
   },
   "source": [
    "### Gradient Boosting Classification"
   ]
  },
  {
   "cell_type": "code",
   "execution_count": 90,
   "metadata": {
    "id": "2f_nzpLSojqe"
   },
   "outputs": [],
   "source": [
    "# GradientBoosting Classification\n",
    "\n",
    "from sklearn.ensemble import GradientBoostingClassifier\n",
    "\n",
    "model3=GradientBoostingClassifier(random_state=0,max_depth=12, min_samples_split=13, n_estimators=30)\n",
    "model3.fit(X_train,y_train)\n",
    "y_pred=model3.predict(X_test)"
   ]
  },
  {
   "cell_type": "code",
   "execution_count": 91,
   "metadata": {
    "colab": {
     "base_uri": "https://localhost:8080/"
    },
    "id": "sXoSvw-lpAEU",
    "outputId": "1fec4224-ed2d-4056-c4b2-6be66f08b300"
   },
   "outputs": [
    {
     "name": "stdout",
     "output_type": "stream",
     "text": [
      "\n",
      "Training Accuracy: 0.7457142857142858\n",
      "\n",
      "Testing Accuracy: 0.73\n",
      "\n",
      "Sensitivity 0.5675675675675675\n",
      "\n",
      "Specificity 0.7831858407079646\n",
      "\n",
      "F1 Score: 0.8137931034482757\n",
      "\n",
      "AUC Score: 0.6542142068457858\n",
      "\n",
      "Confusion Matrix:\n",
      " [[ 42  49]\n",
      " [ 32 177]]\n"
     ]
    }
   ],
   "source": [
    "#Testing accuracy\n",
    "\n",
    "from sklearn.metrics import accuracy_score,confusion_matrix,f1_score,roc_auc_score\n",
    "from sklearn.model_selection import cross_val_score\n",
    "\n",
    "cv_acc=cross_val_score(estimator=model3,X=X_train,y=y_train,cv=10)\n",
    "cm=confusion_matrix(y_test,y_pred)\n",
    "cv_acc=cv_acc.mean()\n",
    "acc=accuracy_score(y_test,y_pred)\n",
    "f1=f1_score(y_test,y_pred,average='binary')\n",
    "auc=roc_auc_score(y_test,y_pred)\n",
    "sen=cm[0][0]/(cm[0][0]+cm[1][0])\n",
    "spec=cm[1][1]/(cm[1][1]+cm[0][1])\n",
    "\n",
    "# Printing Output\n",
    "\n",
    "print('\\nTraining Accuracy:',cv_acc)\n",
    "print('\\nTesting Accuracy:',acc)\n",
    "print('\\nSensitivity',sen)\n",
    "print('\\nSpecificity',spec)\n",
    "print('\\nF1 Score:',f1)\n",
    "print('\\nAUC Score:',auc)\n",
    "print('\\nConfusion Matrix:\\n',cm)"
   ]
  },
  {
   "cell_type": "code",
   "execution_count": 92,
   "metadata": {
    "colab": {
     "base_uri": "https://localhost:8080/"
    },
    "id": "07MJKRlXqqYH",
    "outputId": "a5058d49-847a-451d-9e3b-c1e0022f8cd5"
   },
   "outputs": [
    {
     "name": "stdout",
     "output_type": "stream",
     "text": [
      "              precision    recall  f1-score   support\n",
      "\n",
      "           0       0.57      0.46      0.51        91\n",
      "           1       0.78      0.85      0.81       209\n",
      "\n",
      "    accuracy                           0.73       300\n",
      "   macro avg       0.68      0.65      0.66       300\n",
      "weighted avg       0.72      0.73      0.72       300\n",
      "\n"
     ]
    }
   ],
   "source": [
    "from sklearn.metrics import classification_report\n",
    "from sklearn import metrics\n",
    "\n",
    "print(classification_report(y_test, y_pred))"
   ]
  },
  {
   "cell_type": "markdown",
   "metadata": {
    "id": "lLiE3CSgiKM2"
   },
   "source": [
    "## Training models after Feature Selection\n",
    "After performing exploratory analysis and determining the features or which can be selected as a subset of data frame. "
   ]
  },
  {
   "cell_type": "code",
   "execution_count": 93,
   "metadata": {
    "colab": {
     "base_uri": "https://localhost:8080/",
     "height": 393
    },
    "id": "voGFTSGFmQtO",
    "outputId": "013811eb-8a46-4074-e664-ef4e1ee69d0b"
   },
   "outputs": [
    {
     "data": {
      "text/html": [
       "<div>\n",
       "<style scoped>\n",
       "    .dataframe tbody tr th:only-of-type {\n",
       "        vertical-align: middle;\n",
       "    }\n",
       "\n",
       "    .dataframe tbody tr th {\n",
       "        vertical-align: top;\n",
       "    }\n",
       "\n",
       "    .dataframe thead th {\n",
       "        text-align: right;\n",
       "    }\n",
       "</style>\n",
       "<table border=\"1\" class=\"dataframe\">\n",
       "  <thead>\n",
       "    <tr style=\"text-align: right;\">\n",
       "      <th></th>\n",
       "      <th>Creditability</th>\n",
       "      <th>Account Balance</th>\n",
       "      <th>Payment Status of Previous Credit</th>\n",
       "      <th>Purpose</th>\n",
       "      <th>Value Savings/Stocks</th>\n",
       "      <th>Length of current employment</th>\n",
       "      <th>Sex &amp; Marital Status</th>\n",
       "      <th>Guarantors</th>\n",
       "      <th>Concurrent Credits</th>\n",
       "      <th>Type of apartment</th>\n",
       "      <th>Occupation</th>\n",
       "      <th>Foreign Worker</th>\n",
       "      <th>Age (years)</th>\n",
       "      <th>Credit Amount</th>\n",
       "      <th>Duration of Credit (month)</th>\n",
       "    </tr>\n",
       "  </thead>\n",
       "  <tbody>\n",
       "    <tr>\n",
       "      <th>0</th>\n",
       "      <td>1</td>\n",
       "      <td>1</td>\n",
       "      <td>4</td>\n",
       "      <td>2</td>\n",
       "      <td>1</td>\n",
       "      <td>2</td>\n",
       "      <td>2</td>\n",
       "      <td>1</td>\n",
       "      <td>3</td>\n",
       "      <td>1</td>\n",
       "      <td>3</td>\n",
       "      <td>1</td>\n",
       "      <td>21</td>\n",
       "      <td>1049</td>\n",
       "      <td>18</td>\n",
       "    </tr>\n",
       "    <tr>\n",
       "      <th>1</th>\n",
       "      <td>1</td>\n",
       "      <td>1</td>\n",
       "      <td>4</td>\n",
       "      <td>0</td>\n",
       "      <td>1</td>\n",
       "      <td>3</td>\n",
       "      <td>3</td>\n",
       "      <td>1</td>\n",
       "      <td>3</td>\n",
       "      <td>1</td>\n",
       "      <td>3</td>\n",
       "      <td>1</td>\n",
       "      <td>36</td>\n",
       "      <td>2799</td>\n",
       "      <td>9</td>\n",
       "    </tr>\n",
       "    <tr>\n",
       "      <th>2</th>\n",
       "      <td>1</td>\n",
       "      <td>2</td>\n",
       "      <td>2</td>\n",
       "      <td>9</td>\n",
       "      <td>2</td>\n",
       "      <td>4</td>\n",
       "      <td>2</td>\n",
       "      <td>1</td>\n",
       "      <td>3</td>\n",
       "      <td>1</td>\n",
       "      <td>2</td>\n",
       "      <td>1</td>\n",
       "      <td>23</td>\n",
       "      <td>841</td>\n",
       "      <td>12</td>\n",
       "    </tr>\n",
       "    <tr>\n",
       "      <th>3</th>\n",
       "      <td>1</td>\n",
       "      <td>1</td>\n",
       "      <td>4</td>\n",
       "      <td>0</td>\n",
       "      <td>1</td>\n",
       "      <td>3</td>\n",
       "      <td>3</td>\n",
       "      <td>1</td>\n",
       "      <td>3</td>\n",
       "      <td>1</td>\n",
       "      <td>2</td>\n",
       "      <td>2</td>\n",
       "      <td>39</td>\n",
       "      <td>2122</td>\n",
       "      <td>12</td>\n",
       "    </tr>\n",
       "    <tr>\n",
       "      <th>4</th>\n",
       "      <td>1</td>\n",
       "      <td>1</td>\n",
       "      <td>4</td>\n",
       "      <td>0</td>\n",
       "      <td>1</td>\n",
       "      <td>3</td>\n",
       "      <td>3</td>\n",
       "      <td>1</td>\n",
       "      <td>1</td>\n",
       "      <td>2</td>\n",
       "      <td>2</td>\n",
       "      <td>2</td>\n",
       "      <td>38</td>\n",
       "      <td>2171</td>\n",
       "      <td>12</td>\n",
       "    </tr>\n",
       "    <tr>\n",
       "      <th>5</th>\n",
       "      <td>1</td>\n",
       "      <td>1</td>\n",
       "      <td>4</td>\n",
       "      <td>0</td>\n",
       "      <td>1</td>\n",
       "      <td>2</td>\n",
       "      <td>3</td>\n",
       "      <td>1</td>\n",
       "      <td>3</td>\n",
       "      <td>1</td>\n",
       "      <td>2</td>\n",
       "      <td>2</td>\n",
       "      <td>48</td>\n",
       "      <td>2241</td>\n",
       "      <td>10</td>\n",
       "    </tr>\n",
       "    <tr>\n",
       "      <th>6</th>\n",
       "      <td>1</td>\n",
       "      <td>1</td>\n",
       "      <td>4</td>\n",
       "      <td>0</td>\n",
       "      <td>1</td>\n",
       "      <td>4</td>\n",
       "      <td>3</td>\n",
       "      <td>1</td>\n",
       "      <td>3</td>\n",
       "      <td>2</td>\n",
       "      <td>2</td>\n",
       "      <td>2</td>\n",
       "      <td>39</td>\n",
       "      <td>3398</td>\n",
       "      <td>8</td>\n",
       "    </tr>\n",
       "    <tr>\n",
       "      <th>7</th>\n",
       "      <td>1</td>\n",
       "      <td>1</td>\n",
       "      <td>4</td>\n",
       "      <td>0</td>\n",
       "      <td>1</td>\n",
       "      <td>2</td>\n",
       "      <td>3</td>\n",
       "      <td>1</td>\n",
       "      <td>3</td>\n",
       "      <td>2</td>\n",
       "      <td>2</td>\n",
       "      <td>2</td>\n",
       "      <td>40</td>\n",
       "      <td>1361</td>\n",
       "      <td>6</td>\n",
       "    </tr>\n",
       "    <tr>\n",
       "      <th>8</th>\n",
       "      <td>1</td>\n",
       "      <td>4</td>\n",
       "      <td>4</td>\n",
       "      <td>3</td>\n",
       "      <td>1</td>\n",
       "      <td>1</td>\n",
       "      <td>2</td>\n",
       "      <td>1</td>\n",
       "      <td>3</td>\n",
       "      <td>2</td>\n",
       "      <td>1</td>\n",
       "      <td>1</td>\n",
       "      <td>65</td>\n",
       "      <td>1098</td>\n",
       "      <td>18</td>\n",
       "    </tr>\n",
       "    <tr>\n",
       "      <th>9</th>\n",
       "      <td>1</td>\n",
       "      <td>2</td>\n",
       "      <td>2</td>\n",
       "      <td>3</td>\n",
       "      <td>3</td>\n",
       "      <td>1</td>\n",
       "      <td>2</td>\n",
       "      <td>1</td>\n",
       "      <td>3</td>\n",
       "      <td>1</td>\n",
       "      <td>1</td>\n",
       "      <td>1</td>\n",
       "      <td>23</td>\n",
       "      <td>3758</td>\n",
       "      <td>24</td>\n",
       "    </tr>\n",
       "  </tbody>\n",
       "</table>\n",
       "</div>"
      ],
      "text/plain": [
       "   Creditability  Account Balance  Payment Status of Previous Credit  Purpose  \\\n",
       "0              1                1                                  4        2   \n",
       "1              1                1                                  4        0   \n",
       "2              1                2                                  2        9   \n",
       "3              1                1                                  4        0   \n",
       "4              1                1                                  4        0   \n",
       "5              1                1                                  4        0   \n",
       "6              1                1                                  4        0   \n",
       "7              1                1                                  4        0   \n",
       "8              1                4                                  4        3   \n",
       "9              1                2                                  2        3   \n",
       "\n",
       "   Value Savings/Stocks  Length of current employment  Sex & Marital Status  \\\n",
       "0                     1                             2                     2   \n",
       "1                     1                             3                     3   \n",
       "2                     2                             4                     2   \n",
       "3                     1                             3                     3   \n",
       "4                     1                             3                     3   \n",
       "5                     1                             2                     3   \n",
       "6                     1                             4                     3   \n",
       "7                     1                             2                     3   \n",
       "8                     1                             1                     2   \n",
       "9                     3                             1                     2   \n",
       "\n",
       "   Guarantors  Concurrent Credits  Type of apartment  Occupation  \\\n",
       "0           1                   3                  1           3   \n",
       "1           1                   3                  1           3   \n",
       "2           1                   3                  1           2   \n",
       "3           1                   3                  1           2   \n",
       "4           1                   1                  2           2   \n",
       "5           1                   3                  1           2   \n",
       "6           1                   3                  2           2   \n",
       "7           1                   3                  2           2   \n",
       "8           1                   3                  2           1   \n",
       "9           1                   3                  1           1   \n",
       "\n",
       "   Foreign Worker  Age (years)  Credit Amount  Duration of Credit (month)  \n",
       "0               1           21           1049                          18  \n",
       "1               1           36           2799                           9  \n",
       "2               1           23            841                          12  \n",
       "3               2           39           2122                          12  \n",
       "4               2           38           2171                          12  \n",
       "5               2           48           2241                          10  \n",
       "6               2           39           3398                           8  \n",
       "7               2           40           1361                           6  \n",
       "8               1           65           1098                          18  \n",
       "9               1           23           3758                          24  "
      ]
     },
     "execution_count": 93,
     "metadata": {},
     "output_type": "execute_result"
    }
   ],
   "source": [
    "# create subset dataframe for Decision Tree by using selected variables which are not tranformed. \n",
    "df_select = df[['Creditability','Account Balance','Payment Status of Previous Credit','Purpose','Value Savings/Stocks','Length of current employment','Sex & Marital Status','Guarantors','Concurrent Credits','Type of apartment','Occupation','Foreign Worker','Age (years)','Credit Amount','Duration of Credit (month)']]\n",
    "df_select.head(10)"
   ]
  },
  {
   "cell_type": "code",
   "execution_count": 94,
   "metadata": {
    "id": "x6UQJLGGiv1y"
   },
   "outputs": [],
   "source": [
    "# First split the data into train and test set\n",
    "from sklearn.model_selection import train_test_split\n",
    "\n",
    "# Split dataset into training set and test set\n",
    "# Our class column is Creditability here and everything else will be used as features \n",
    "class_col_name='Creditability' \n",
    "\n",
    "feature_names_s=df_select.columns[df_select.columns != class_col_name ]\n",
    "# 70% training and 30% test\n",
    "X_train_s, X_test_s, y_train_s, y_test_s = train_test_split(df_select.loc[:, feature_names_s], df_select[class_col_name], test_size=0.3,random_state=1) "
   ]
  },
  {
   "cell_type": "markdown",
   "metadata": {
    "id": "6UcLWL42li3G"
   },
   "source": [
    "### Decision Tree"
   ]
  },
  {
   "cell_type": "code",
   "execution_count": 95,
   "metadata": {
    "colab": {
     "base_uri": "https://localhost:8080/"
    },
    "id": "XPj2oXQ1jnDr",
    "outputId": "12bbda89-0c04-42bf-ed07-13a0ed18e835"
   },
   "outputs": [
    {
     "name": "stdout",
     "output_type": "stream",
     "text": [
      "Successfuly trained the decision tree...\n"
     ]
    }
   ],
   "source": [
    "from sklearn import tree\n",
    "clf = tree.DecisionTreeClassifier(max_depth=5)\n",
    "clf = clf.fit(X_train_s, y_train_s)\n",
    "print(\"Successfuly trained the decision tree...\")"
   ]
  },
  {
   "cell_type": "code",
   "execution_count": 96,
   "metadata": {
    "colab": {
     "base_uri": "https://localhost:8080/",
     "height": 52
    },
    "id": "l6V9uuonjnDz",
    "outputId": "3e385c65-d1ea-4d72-8bf5-46c482739432"
   },
   "outputs": [
    {
     "name": "stdout",
     "output_type": "stream",
     "text": [
      "class Names [1 0]\n"
     ]
    },
    {
     "data": {
      "text/plain": [
       "'Source.gv.pdf'"
      ]
     },
     "execution_count": 96,
     "metadata": {},
     "output_type": "execute_result"
    }
   ],
   "source": [
    "import graphviz\n",
    "#Get unique class values to display on the tree\n",
    "class_values=df_select[class_col_name].unique()\n",
    "print (\"class Names\",class_values)\n",
    "dot_data = tree.export_graphviz(clf, out_file=None, feature_names=feature_names_s,  class_names=('1', '0'), filled=True)\n",
    "# Plot tree\n",
    "graph = graphviz.Source(dot_data) \n",
    "graph\n",
    "graph.render()"
   ]
  },
  {
   "cell_type": "code",
   "execution_count": 97,
   "metadata": {
    "id": "3kHZ01d2jnDz"
   },
   "outputs": [],
   "source": [
    "# Let's make the predictions on the test set  that we set aside earlier using the trained tree\n",
    "y_pred_s = clf.predict(X_test_s)\n"
   ]
  },
  {
   "cell_type": "code",
   "execution_count": 98,
   "metadata": {
    "colab": {
     "base_uri": "https://localhost:8080/"
    },
    "id": "FLJXWWwRjnDz",
    "outputId": "bab6c040-07e1-4d94-f6d5-c2e781ac84f9"
   },
   "outputs": [
    {
     "name": "stdout",
     "output_type": "stream",
     "text": [
      "Confusion Matrix\n",
      "[[ 33  58]\n",
      " [ 16 193]]\n",
      "TP:  193 , FP:  58 , TN:  33 , FN: 16\n"
     ]
    }
   ],
   "source": [
    "from sklearn.metrics import confusion_matrix\n",
    "cf=confusion_matrix(y_test_s, y_pred_s)\n",
    "print (\"Confusion Matrix\")\n",
    "print(cf)\n",
    "tn, fp, fn, tp=cf.ravel()\n",
    "print (\"TP: \", tp,\", FP: \", fp,\", TN: \", tn,\", FN:\", fn)"
   ]
  },
  {
   "cell_type": "code",
   "execution_count": 99,
   "metadata": {
    "colab": {
     "base_uri": "https://localhost:8080/"
    },
    "id": "lPpvlfAkjnD0",
    "outputId": "1c0e4324-3a1c-47d7-edac-6496de3860a6"
   },
   "outputs": [
    {
     "name": "stdout",
     "output_type": "stream",
     "text": [
      "              precision    recall  f1-score   support\n",
      "\n",
      "           0       0.67      0.36      0.47        91\n",
      "           1       0.77      0.92      0.84       209\n",
      "\n",
      "    accuracy                           0.75       300\n",
      "   macro avg       0.72      0.64      0.66       300\n",
      "weighted avg       0.74      0.75      0.73       300\n",
      "\n"
     ]
    }
   ],
   "source": [
    "#print precision, recall, and accuracy from the perspective of each of the class (0 and 1 for German dataset)\n",
    "from sklearn.metrics import classification_report\n",
    "from sklearn import metrics\n",
    "\n",
    "print(classification_report(y_test_s, y_pred_s))"
   ]
  },
  {
   "cell_type": "markdown",
   "metadata": {
    "id": "SE4jK5cmlWqt"
   },
   "source": [
    "### Naive Bayes"
   ]
  },
  {
   "cell_type": "code",
   "execution_count": 100,
   "metadata": {
    "id": "-0EGuBZ7lUyZ"
   },
   "outputs": [],
   "source": [
    "from sklearn.naive_bayes import MultinomialNB\n",
    "\n",
    "#Create a MultiNomial NB Classifier\n",
    "nb = MultinomialNB()\n",
    "\n",
    "#Train the model using the training sets\n",
    "nb.fit(X_train_s, y_train_s)\n",
    "\n",
    "#Predict the response for test dataset\n",
    "y_pred_s = nb.predict(X_test_s)"
   ]
  },
  {
   "cell_type": "code",
   "execution_count": 101,
   "metadata": {
    "colab": {
     "base_uri": "https://localhost:8080/"
    },
    "id": "trZGWEbalUyZ",
    "outputId": "759ac501-5123-41fa-c574-48fbf801e14b"
   },
   "outputs": [
    {
     "name": "stdout",
     "output_type": "stream",
     "text": [
      "Total Columns (including class) 15\n"
     ]
    }
   ],
   "source": [
    "print (\"Total Columns (including class)\",len(df_select.columns))"
   ]
  },
  {
   "cell_type": "code",
   "execution_count": 102,
   "metadata": {
    "colab": {
     "base_uri": "https://localhost:8080/"
    },
    "id": "CB3o_S7BlUyZ",
    "outputId": "49c3a260-7026-47aa-ed79-fd83196fbc50"
   },
   "outputs": [
    {
     "name": "stdout",
     "output_type": "stream",
     "text": [
      "Number of features used  14\n",
      "Classes  [0 1]\n",
      "Number of records for classes  [209. 491.]\n",
      "Log prior probability for classes  [-1.20874608 -0.35463621]\n",
      "Log conditional probability for each feature given a class\n",
      " [[-7.65747702 -7.52614102 -7.24120998 -7.76870266 -7.16486131 -7.34016315\n",
      "  -8.1616415  -7.37167642 -7.65747702 -7.2280735  -8.28046242 -4.76975427\n",
      "  -0.02079503 -5.08983224]\n",
      " [-6.95990049 -7.02874331 -7.02201431 -7.19130637 -6.79322355 -7.02052511\n",
      "  -7.88887638 -7.02425228 -7.36221929 -6.96060101 -7.97782386 -4.43933923\n",
      "  -0.0270332  -5.08626848]]\n"
     ]
    }
   ],
   "source": [
    "print(\"Number of features used \",nb.n_features_)\n",
    "print(\"Classes \",nb.classes_)\n",
    "print(\"Number of records for classes \",nb.class_count_)\n",
    "print(\"Log prior probability for classes \", nb.class_log_prior_)\n",
    "print(\"Log conditional probability for each feature given a class\\n\",nb.feature_log_prob_)"
   ]
  },
  {
   "cell_type": "code",
   "execution_count": 103,
   "metadata": {
    "colab": {
     "base_uri": "https://localhost:8080/"
    },
    "id": "hhCjBQDFlUya",
    "outputId": "74154f02-ffed-4783-dc2d-bba098f3b6a4"
   },
   "outputs": [
    {
     "name": "stdout",
     "output_type": "stream",
     "text": [
      "              precision    recall  f1-score   support\n",
      "\n",
      "           0       0.39      0.41      0.40        91\n",
      "           1       0.74      0.72      0.73       209\n",
      "\n",
      "    accuracy                           0.63       300\n",
      "   macro avg       0.56      0.56      0.56       300\n",
      "weighted avg       0.63      0.63      0.63       300\n",
      "\n"
     ]
    }
   ],
   "source": [
    "from sklearn.metrics import classification_report\n",
    "from sklearn import metrics\n",
    "\n",
    "print(classification_report(y_test_s, y_pred_s))\n"
   ]
  },
  {
   "cell_type": "markdown",
   "metadata": {
    "id": "gjK-FLe4nxpK"
   },
   "source": [
    "### Random Forest Classification model"
   ]
  },
  {
   "cell_type": "code",
   "execution_count": 104,
   "metadata": {
    "id": "9NdpFW0nnxpL"
   },
   "outputs": [],
   "source": [
    "from sklearn.ensemble import RandomForestClassifier\n",
    "\n",
    "model=RandomForestClassifier(random_state=0,max_depth=10, min_samples_split=10, n_estimators=35, n_jobs=-1)\n",
    "model.fit(X_train_s,y_train_s)\n",
    "y_pred_s=model.predict(X_test_s)"
   ]
  },
  {
   "cell_type": "code",
   "execution_count": 105,
   "metadata": {
    "colab": {
     "base_uri": "https://localhost:8080/"
    },
    "id": "NJfv6h8gnxpM",
    "outputId": "0ba57b69-ce41-4c1d-b290-4699e296d120"
   },
   "outputs": [
    {
     "name": "stdout",
     "output_type": "stream",
     "text": [
      "\n",
      "Training Accuracy: 0.7542857142857142\n",
      "\n",
      "Testing Accuracy: 0.7633333333333333\n",
      "\n",
      "Sensitivity 0.6923076923076923\n",
      "\n",
      "Specificity 0.7782258064516129\n",
      "\n",
      "F1 Score: 0.8446389496717723\n",
      "\n",
      "AUC Score: 0.6595246858404753\n",
      "\n",
      "Confusion Matrix:\n",
      " [[ 36  55]\n",
      " [ 16 193]]\n"
     ]
    }
   ],
   "source": [
    "#Testing accuracy\n",
    "\n",
    "from sklearn.metrics import accuracy_score,confusion_matrix,f1_score,roc_auc_score\n",
    "from sklearn.model_selection import cross_val_score\n",
    "\n",
    "cv_acc=cross_val_score(estimator=model,X=X_train_s,y=y_train_s,cv=10)\n",
    "cm=confusion_matrix(y_test_s,y_pred_s)\n",
    "cv_acc=cv_acc.mean()\n",
    "acc=accuracy_score(y_test_s,y_pred_s)\n",
    "f1=f1_score(y_test_s,y_pred_s,average='binary')\n",
    "auc=roc_auc_score(y_test_s,y_pred_s)\n",
    "sen=cm[0][0]/(cm[0][0]+cm[1][0])\n",
    "spec=cm[1][1]/(cm[1][1]+cm[0][1])\n",
    "\n",
    "# Printing Output\n",
    "\n",
    "print('\\nTraining Accuracy:',cv_acc)\n",
    "print('\\nTesting Accuracy:',acc)\n",
    "print('\\nSensitivity',sen)\n",
    "print('\\nSpecificity',spec)\n",
    "print('\\nF1 Score:',f1)\n",
    "print('\\nAUC Score:',auc)\n",
    "print('\\nConfusion Matrix:\\n',cm)"
   ]
  },
  {
   "cell_type": "code",
   "execution_count": 106,
   "metadata": {
    "colab": {
     "base_uri": "https://localhost:8080/"
    },
    "id": "J5mpPMQMnxpN",
    "outputId": "0f424310-9398-4361-80a4-8f387ca64aeb"
   },
   "outputs": [
    {
     "name": "stdout",
     "output_type": "stream",
     "text": [
      "              precision    recall  f1-score   support\n",
      "\n",
      "           0       0.57      0.46      0.51        91\n",
      "           1       0.78      0.85      0.81       209\n",
      "\n",
      "    accuracy                           0.73       300\n",
      "   macro avg       0.68      0.65      0.66       300\n",
      "weighted avg       0.72      0.73      0.72       300\n",
      "\n"
     ]
    }
   ],
   "source": [
    "from sklearn.metrics import classification_report\n",
    "from sklearn import metrics\n",
    "\n",
    "print(classification_report(y_test, y_pred))"
   ]
  },
  {
   "cell_type": "markdown",
   "metadata": {
    "id": "p9g6M9u8nxpN"
   },
   "source": [
    "### Gradient Boosting Classification"
   ]
  },
  {
   "cell_type": "code",
   "execution_count": 107,
   "metadata": {
    "id": "c5r8XkSAnxpN"
   },
   "outputs": [],
   "source": [
    "# GradientBoosting Classification\n",
    "\n",
    "from sklearn.ensemble import GradientBoostingClassifier\n",
    "\n",
    "model3=GradientBoostingClassifier(random_state=0,max_depth=12, min_samples_split=13, n_estimators=30)\n",
    "model3.fit(X_train_s,y_train_s)\n",
    "y_pred_s=model3.predict(X_test_s)"
   ]
  },
  {
   "cell_type": "code",
   "execution_count": 108,
   "metadata": {
    "colab": {
     "base_uri": "https://localhost:8080/"
    },
    "id": "A_fEIqHTnxpN",
    "outputId": "583bb72d-40ad-4cd6-c984-c4ad2c58a8cc"
   },
   "outputs": [
    {
     "name": "stdout",
     "output_type": "stream",
     "text": [
      "\n",
      "Training Accuracy: 0.7414285714285714\n",
      "\n",
      "Testing Accuracy: 0.7633333333333333\n",
      "\n",
      "Sensitivity 0.6515151515151515\n",
      "\n",
      "Specificity 0.7948717948717948\n",
      "\n",
      "F1 Score: 0.8397291196388262\n",
      "\n",
      "AUC Score: 0.6812398128187602\n",
      "\n",
      "Confusion Matrix:\n",
      " [[ 43  48]\n",
      " [ 23 186]]\n"
     ]
    }
   ],
   "source": [
    "#Testing accuracy\n",
    "\n",
    "from sklearn.metrics import accuracy_score,confusion_matrix,f1_score,roc_auc_score\n",
    "from sklearn.model_selection import cross_val_score\n",
    "\n",
    "cv_acc=cross_val_score(estimator=model3,X=X_train_s,y=y_train_s,cv=10)\n",
    "cm=confusion_matrix(y_test_s,y_pred_s)\n",
    "cv_acc=cv_acc.mean()\n",
    "acc=accuracy_score(y_test_s,y_pred_s)\n",
    "f1=f1_score(y_test_s,y_pred_s,average='binary')\n",
    "auc=roc_auc_score(y_test_s,y_pred_s)\n",
    "sen=cm[0][0]/(cm[0][0]+cm[1][0])\n",
    "spec=cm[1][1]/(cm[1][1]+cm[0][1])\n",
    "\n",
    "# Printing Output\n",
    "\n",
    "print('\\nTraining Accuracy:',cv_acc)\n",
    "print('\\nTesting Accuracy:',acc)\n",
    "print('\\nSensitivity',sen)\n",
    "print('\\nSpecificity',spec)\n",
    "print('\\nF1 Score:',f1)\n",
    "print('\\nAUC Score:',auc)\n",
    "print('\\nConfusion Matrix:\\n',cm)"
   ]
  },
  {
   "cell_type": "code",
   "execution_count": 109,
   "metadata": {
    "colab": {
     "base_uri": "https://localhost:8080/"
    },
    "id": "6WlcxBBTnxpO",
    "outputId": "729572cb-1cb4-4ab8-fb50-c361f7ef86a4"
   },
   "outputs": [
    {
     "name": "stdout",
     "output_type": "stream",
     "text": [
      "              precision    recall  f1-score   support\n",
      "\n",
      "           0       0.57      0.46      0.51        91\n",
      "           1       0.78      0.85      0.81       209\n",
      "\n",
      "    accuracy                           0.73       300\n",
      "   macro avg       0.68      0.65      0.66       300\n",
      "weighted avg       0.72      0.73      0.72       300\n",
      "\n"
     ]
    }
   ],
   "source": [
    "from sklearn.metrics import classification_report\n",
    "from sklearn import metrics\n",
    "\n",
    "print(classification_report(y_test, y_pred))"
   ]
  },
  {
   "cell_type": "markdown",
   "metadata": {
    "id": "VoseOndIx3nk"
   },
   "source": [
    "# Conclusion\n",
    "\n",
    "By comparing the confusion matrix of these models, we can conclude that Decision Tree with original dataset outperforms the other models.  After feature selection, only Random Forest and Super Vector Machine slightly improve the results, while Decision Tree has poorer predictions and Naïve Bayes has no change.\n",
    "\n",
    "In General, most of the classification models are not sensitive to the distribution of continuous variables. So we can use the data before transformation in this scenario. \n",
    "\n",
    "Our recommended priority classification method is the Decision Tree, which is simple, straightforward and insensitive to feature selection, and also has the best performance."
   ]
  },
  {
   "cell_type": "markdown",
   "metadata": {
    "id": "qYxUTW9QiJXR"
   },
   "source": [
    "Li Gong & Bushra Bashir"
   ]
  }
 ],
 "metadata": {
  "colab": {
   "collapsed_sections": [],
   "name": "Li-Bushra-CIND119-project.ipynb",
   "provenance": []
  },
  "kernelspec": {
   "display_name": "Python 3",
   "language": "python",
   "name": "python3"
  },
  "language_info": {
   "codemirror_mode": {
    "name": "ipython",
    "version": 3
   },
   "file_extension": ".py",
   "mimetype": "text/x-python",
   "name": "python",
   "nbconvert_exporter": "python",
   "pygments_lexer": "ipython3",
   "version": "3.8.3"
  }
 },
 "nbformat": 4,
 "nbformat_minor": 1
}
